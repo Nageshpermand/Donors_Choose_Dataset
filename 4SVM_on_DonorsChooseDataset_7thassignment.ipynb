{
 "cells": [
  {
   "cell_type": "markdown",
   "metadata": {},
   "source": [
    "# About Donorschoose.org"
   ]
  },
  {
   "cell_type": "markdown",
   "metadata": {},
   "source": [
    "\n",
    "DonorsChoose.org receives hundreds of thousands of project proposals each year for classroom projects in need of funding. Right now, a large number of volunteers is needed to manually screen each submission before it's approved to be posted on the DonorsChoose.org website.\n",
    "\n",
    "\n",
    "\n",
    "Next year, DonorsChoose.org expects to receive close to 500,000 project proposals. As a result, there are three main problems they need to solve: \n",
    "* How to scale current manual processes and resources to screen 500,000 projects so that they can be posted as quickly and as efficiently as possible\n",
    "* How to increase the consistency of project vetting across different volunteers to improve the experience for teachers\n",
    "* How to focus volunteer time on the applications that need the most assistance</li>\n",
    "   \n",
    "\n",
    "\n",
    "The goal of the competition is to predict whether or not a DonorsChoose.org project proposal submitted by a teacher will be approved, using the text of project descriptions as well as additional metadata about the project, teacher, and school. DonorsChoose.org can then use this information to identify projects most likely to need further review before approval."
   ]
  },
  {
   "cell_type": "markdown",
   "metadata": {},
   "source": [
    "## Understand the DonorsChoose Data Set's Attributes\n",
    "\n",
    "There are two files:   1.train_data.csv(consists 17 features)\n",
    "\n",
    "                2.resources.csv(consists 4 features)\n",
    "\n",
    "The `train.csv` data set provided by DonorsChoose contains the following features:\n",
    "\n",
    "Feature | Description \n",
    "----------|---------------\n",
    "**`project_id`** | A unique identifier for the proposed project. **Example:** `p036502`   \n",
    "**`project_title`**    | Title of the project. **Examples:**<br><ul><li><code>Art Will Make You Happy!</code></li><li><code>First Grade Fun</code></li></ul> \n",
    "**`project_grade_category`** | Grade level of students for which the project is targeted. One of the following enumerated values: <br/><ul><li><code>Grades PreK-2</code></li><li><code>Grades 3-5</code></li><li><code>Grades 6-8</code></li><li><code>Grades 9-12</code></li></ul>  \n",
    " **`project_subject_categories`** | One or more (comma-separated) subject categories for the project from the following enumerated list of values:  <br/><ul><li><code>Applied Learning</code></li><li><code>Care &amp; Hunger</code></li><li><code>Health &amp; Sports</code></li><li><code>History &amp; Civics</code></li><li><code>Literacy &amp; Language</code></li><li><code>Math &amp; Science</code></li><li><code>Music &amp; The Arts</code></li><li><code>Special Needs</code></li><li><code>Warmth</code></li></ul><br/> **Examples:** <br/><ul><li><code>Music &amp; The Arts</code></li><li><code>Literacy &amp; Language, Math &amp; Science</code></li>  \n",
    "  **`school_state`** | State where school is located ([Two-letter U.S. postal code](https://en.wikipedia.org/wiki/List_of_U.S._state_abbreviations#Postal_codes)). **Example:** `WY`\n",
    "**`project_subject_subcategories`** | One or more (comma-separated) subject subcategories for the project. **Examples:** <br/><ul><li><code>Literacy</code></li><li><code>Literature &amp; Writing, Social Sciences</code></li></ul> \n",
    "**`project_resource_summary`** | An explanation of the resources needed for the project. **Example:** <br/><ul><li><code>My students need hands on literacy materials to manage sensory needs!</code</li></ul> \n",
    "**`project_essay_1`**    | First application essay<sup>*</sup>  \n",
    "**`project_essay_2`**    | Second application essay<sup>*</sup> \n",
    "**`project_essay_3`**    | Third application essay<sup>*</sup> \n",
    "**`project_essay_4`**    | Fourth application essay<sup>*</sup> \n",
    "**`project_submitted_datetime`** | Datetime when project application was submitted. **Example:** `2016-04-28 12:43:56.245`   \n",
    "**`teacher_id`** | A unique identifier for the teacher of the proposed project. **Example:** `bdf8baa8fedef6bfeec7ae4ff1c15c56`  \n",
    "**`teacher_prefix`** | Teacher's title. One of the following enumerated values: <br/><ul><li><code>nan</code></li><li><code>Dr.</code></li><li><code>Mr.</code></li><li><code>Mrs.</code></li><li><code>Ms.</code></li><li><code>Teacher.</code></li></ul>  \n",
    "**`teacher_number_of_previously_posted_projects`** | Number of project applications previously submitted by the same teacher. **Example:** `2` \n",
    "\n",
    "<sup>*</sup> See the section <b>Notes on the Essay Data</b> for more details about these features.\n",
    "\n",
    "Additionally, the `resources.csv` data set provides more data about the resources required for each project. Each line in this file represents a resource required by a project:\n",
    "\n",
    "Feature | Description \n",
    "----------|---------------\n",
    "**`id`** | A `project_id` value from the `train.csv` file.  **Example:** `p036502`   \n",
    "**`description`** | Desciption of the resource. **Example:** `Tenor Saxophone Reeds, Box of 25`   \n",
    "**`quantity`** | Quantity of the resource required. **Example:** `3`   \n",
    "**`price`** | Price of the resource required. **Example:** `9.95`   \n",
    "\n",
    "**Note:** Many projects require multiple resources. The `id` value corresponds to a `project_id` in train.csv, so you use it as a key to retrieve all resources needed for a project:\n",
    "\n",
    "The data set contains the following label (the value you will attempt to predict):\n",
    "\n",
    "Label | Description\n",
    "----------|---------------\n",
    "`project_is_approved` | A binary flag indicating whether DonorsChoose approved the project. A value of `0` indicates the project was not approved, and a value of `1` indicates the project was approved."
   ]
  },
  {
   "cell_type": "markdown",
   "metadata": {},
   "source": [
    "### importing all necessary modules"
   ]
  },
  {
   "cell_type": "code",
   "execution_count": 1,
   "metadata": {},
   "outputs": [],
   "source": [
    "#import all necessary modules\n",
    "%matplotlib inline\n",
    "import warnings\n",
    "warnings.filterwarnings(\"ignore\")\n",
    "\n",
    "import sqlite3\n",
    "import pandas as pd\n",
    "import numpy as np\n",
    "import nltk\n",
    "import string\n",
    "import matplotlib.pyplot as plt\n",
    "import seaborn as sns\n",
    "from sklearn.feature_extraction.text import TfidfTransformer\n",
    "from sklearn.feature_extraction.text import TfidfVectorizer\n",
    "\n",
    "from sklearn.feature_extraction.text import CountVectorizer\n",
    "from sklearn.metrics import confusion_matrix\n",
    "from sklearn import metrics\n",
    "from sklearn.metrics import roc_curve, auc\n",
    "from nltk.stem.porter import PorterStemmer\n",
    "\n",
    "import re\n",
    "# Tutorial about Python regular expressions: https://pymotw.com/2/re/\n",
    "import string\n",
    "from nltk.corpus import stopwords\n",
    "from nltk.stem import PorterStemmer\n",
    "from nltk.stem.wordnet import WordNetLemmatizer\n",
    "\n",
    "from gensim.models import Word2Vec\n",
    "from gensim.models import KeyedVectors\n",
    "\n",
    "\n",
    "\n",
    "from tqdm import tqdm\n",
    "import os\n",
    "\n",
    "from collections import Counter\n",
    "\n",
    "from sklearn.model_selection import train_test_split \n",
    "from sklearn.metrics import accuracy_score\n",
    "from sklearn.model_selection import cross_val_score\n",
    "from collections import Counter\n",
    "from sklearn.metrics import accuracy_score\n",
    "from sklearn import model_selection  \n",
    "import matplotlib.pyplot as plt\n",
    "from sklearn.metrics import roc_auc_score\n",
    "from sklearn.metrics import roc_curve, auc"
   ]
  },
  {
   "cell_type": "markdown",
   "metadata": {},
   "source": [
    "## 1. Reading Data"
   ]
  },
  {
   "cell_type": "code",
   "execution_count": 2,
   "metadata": {},
   "outputs": [],
   "source": [
    "#load two datafiles into the dataframe\n",
    "project_data = pd.read_csv('train_data.csv')\n",
    "resources_data = pd.read_csv('resources.csv')"
   ]
  },
  {
   "cell_type": "code",
   "execution_count": 3,
   "metadata": {},
   "outputs": [
    {
     "name": "stdout",
     "output_type": "stream",
     "text": [
      "Number of data points in train data (109248, 17)\n",
      "--------------------------------------------------\n",
      "The attributes of data : ['Unnamed: 0' 'id' 'teacher_id' 'teacher_prefix' 'school_state'\n",
      " 'project_submitted_datetime' 'project_grade_category'\n",
      " 'project_subject_categories' 'project_subject_subcategories'\n",
      " 'project_title' 'project_essay_1' 'project_essay_2' 'project_essay_3'\n",
      " 'project_essay_4' 'project_resource_summary'\n",
      " 'teacher_number_of_previously_posted_projects' 'project_is_approved']\n"
     ]
    }
   ],
   "source": [
    "print(\"Number of data points in train data\", project_data.shape)\n",
    "print('-'*50)\n",
    "\n",
    "print(\"The attributes of data :\", project_data.columns.values)"
   ]
  },
  {
   "cell_type": "code",
   "execution_count": 4,
   "metadata": {},
   "outputs": [
    {
     "data": {
      "text/html": [
       "<div>\n",
       "<style scoped>\n",
       "    .dataframe tbody tr th:only-of-type {\n",
       "        vertical-align: middle;\n",
       "    }\n",
       "\n",
       "    .dataframe tbody tr th {\n",
       "        vertical-align: top;\n",
       "    }\n",
       "\n",
       "    .dataframe thead th {\n",
       "        text-align: right;\n",
       "    }\n",
       "</style>\n",
       "<table border=\"1\" class=\"dataframe\">\n",
       "  <thead>\n",
       "    <tr style=\"text-align: right;\">\n",
       "      <th></th>\n",
       "      <th>Unnamed: 0</th>\n",
       "      <th>id</th>\n",
       "      <th>teacher_id</th>\n",
       "      <th>teacher_prefix</th>\n",
       "      <th>school_state</th>\n",
       "      <th>project_submitted_datetime</th>\n",
       "      <th>project_grade_category</th>\n",
       "      <th>project_subject_categories</th>\n",
       "      <th>project_subject_subcategories</th>\n",
       "      <th>project_title</th>\n",
       "      <th>project_essay_1</th>\n",
       "      <th>project_essay_2</th>\n",
       "      <th>project_essay_3</th>\n",
       "      <th>project_essay_4</th>\n",
       "      <th>project_resource_summary</th>\n",
       "      <th>teacher_number_of_previously_posted_projects</th>\n",
       "      <th>project_is_approved</th>\n",
       "    </tr>\n",
       "  </thead>\n",
       "  <tbody>\n",
       "    <tr>\n",
       "      <th>0</th>\n",
       "      <td>160221</td>\n",
       "      <td>p253737</td>\n",
       "      <td>c90749f5d961ff158d4b4d1e7dc665fc</td>\n",
       "      <td>Mrs.</td>\n",
       "      <td>IN</td>\n",
       "      <td>2016-12-05 13:43:57</td>\n",
       "      <td>Grades PreK-2</td>\n",
       "      <td>Literacy &amp; Language</td>\n",
       "      <td>ESL, Literacy</td>\n",
       "      <td>Educational Support for English Learners at Home</td>\n",
       "      <td>My students are English learners that are work...</td>\n",
       "      <td>\\\"The limits of your language are the limits o...</td>\n",
       "      <td>NaN</td>\n",
       "      <td>NaN</td>\n",
       "      <td>My students need opportunities to practice beg...</td>\n",
       "      <td>0</td>\n",
       "      <td>0</td>\n",
       "    </tr>\n",
       "    <tr>\n",
       "      <th>1</th>\n",
       "      <td>140945</td>\n",
       "      <td>p258326</td>\n",
       "      <td>897464ce9ddc600bced1151f324dd63a</td>\n",
       "      <td>Mr.</td>\n",
       "      <td>FL</td>\n",
       "      <td>2016-10-25 09:22:10</td>\n",
       "      <td>Grades 6-8</td>\n",
       "      <td>History &amp; Civics, Health &amp; Sports</td>\n",
       "      <td>Civics &amp; Government, Team Sports</td>\n",
       "      <td>Wanted: Projector for Hungry Learners</td>\n",
       "      <td>Our students arrive to our school eager to lea...</td>\n",
       "      <td>The projector we need for our school is very c...</td>\n",
       "      <td>NaN</td>\n",
       "      <td>NaN</td>\n",
       "      <td>My students need a projector to help with view...</td>\n",
       "      <td>7</td>\n",
       "      <td>1</td>\n",
       "    </tr>\n",
       "  </tbody>\n",
       "</table>\n",
       "</div>"
      ],
      "text/plain": [
       "   Unnamed: 0       id                        teacher_id teacher_prefix  \\\n",
       "0      160221  p253737  c90749f5d961ff158d4b4d1e7dc665fc           Mrs.   \n",
       "1      140945  p258326  897464ce9ddc600bced1151f324dd63a            Mr.   \n",
       "\n",
       "  school_state project_submitted_datetime project_grade_category  \\\n",
       "0           IN        2016-12-05 13:43:57          Grades PreK-2   \n",
       "1           FL        2016-10-25 09:22:10             Grades 6-8   \n",
       "\n",
       "          project_subject_categories     project_subject_subcategories  \\\n",
       "0                Literacy & Language                     ESL, Literacy   \n",
       "1  History & Civics, Health & Sports  Civics & Government, Team Sports   \n",
       "\n",
       "                                      project_title  \\\n",
       "0  Educational Support for English Learners at Home   \n",
       "1             Wanted: Projector for Hungry Learners   \n",
       "\n",
       "                                     project_essay_1  \\\n",
       "0  My students are English learners that are work...   \n",
       "1  Our students arrive to our school eager to lea...   \n",
       "\n",
       "                                     project_essay_2 project_essay_3  \\\n",
       "0  \\\"The limits of your language are the limits o...             NaN   \n",
       "1  The projector we need for our school is very c...             NaN   \n",
       "\n",
       "  project_essay_4                           project_resource_summary  \\\n",
       "0             NaN  My students need opportunities to practice beg...   \n",
       "1             NaN  My students need a projector to help with view...   \n",
       "\n",
       "   teacher_number_of_previously_posted_projects  project_is_approved  \n",
       "0                                             0                    0  \n",
       "1                                             7                    1  "
      ]
     },
     "execution_count": 4,
     "metadata": {},
     "output_type": "execute_result"
    }
   ],
   "source": [
    "#dataframe\n",
    "project_data.head(2)"
   ]
  },
  {
   "cell_type": "code",
   "execution_count": 8,
   "metadata": {},
   "outputs": [
    {
     "data": {
      "text/html": [
       "<div>\n",
       "<style scoped>\n",
       "    .dataframe tbody tr th:only-of-type {\n",
       "        vertical-align: middle;\n",
       "    }\n",
       "\n",
       "    .dataframe tbody tr th {\n",
       "        vertical-align: top;\n",
       "    }\n",
       "\n",
       "    .dataframe thead th {\n",
       "        text-align: right;\n",
       "    }\n",
       "</style>\n",
       "<table border=\"1\" class=\"dataframe\">\n",
       "  <thead>\n",
       "    <tr style=\"text-align: right;\">\n",
       "      <th></th>\n",
       "      <th>id</th>\n",
       "      <th>description</th>\n",
       "      <th>quantity</th>\n",
       "      <th>price</th>\n",
       "    </tr>\n",
       "  </thead>\n",
       "  <tbody>\n",
       "    <tr>\n",
       "      <th>0</th>\n",
       "      <td>p233245</td>\n",
       "      <td>LC652 - Lakeshore Double-Space Mobile Drying Rack</td>\n",
       "      <td>1</td>\n",
       "      <td>149.00</td>\n",
       "    </tr>\n",
       "    <tr>\n",
       "      <th>1</th>\n",
       "      <td>p069063</td>\n",
       "      <td>Bouncy Bands for Desks (Blue support pipes)</td>\n",
       "      <td>3</td>\n",
       "      <td>14.95</td>\n",
       "    </tr>\n",
       "  </tbody>\n",
       "</table>\n",
       "</div>"
      ],
      "text/plain": [
       "        id                                        description  quantity  \\\n",
       "0  p233245  LC652 - Lakeshore Double-Space Mobile Drying Rack         1   \n",
       "1  p069063        Bouncy Bands for Desks (Blue support pipes)         3   \n",
       "\n",
       "    price  \n",
       "0  149.00  \n",
       "1   14.95  "
      ]
     },
     "execution_count": 8,
     "metadata": {},
     "output_type": "execute_result"
    }
   ],
   "source": [
    "#dataframe\n",
    "resources_data.head(2)"
   ]
  },
  {
   "cell_type": "code",
   "execution_count": 9,
   "metadata": {},
   "outputs": [
    {
     "name": "stdout",
     "output_type": "stream",
     "text": [
      "number of datapoints in resources_data: (1541272, 4)\n",
      "************************************************************\n",
      "total features in resources_data: Index(['id', 'description', 'quantity', 'price'], dtype='object')\n"
     ]
    }
   ],
   "source": [
    "#print number of datapoints and columns in resources_data\n",
    "print('number of datapoints in resources_data:',resources_data.shape)\n",
    "print(\"*\"*60)\n",
    "print('total features in resources_data:', resources_data.columns)"
   ]
  },
  {
   "cell_type": "markdown",
   "metadata": {},
   "source": [
    "**observation:**\n",
    "* in project data we have 109248 datapoints(rows) and 17 features (columns).\n",
    "* in resources_data we have 1541272 datapoints and  4 features(columns)\n",
    "\n",
    "**'Project_is_approved'** Attribute:\n",
    "* in the project_proposal_data' dataframe we have  'project is approved'  Attribute, it consists with 2 values that are [1]Number of projects approved and [0] number of projects not approved."
   ]
  },
  {
   "cell_type": "markdown",
   "metadata": {},
   "source": [
    "# 2. text preprocessing ( text data& categorical data)"
   ]
  },
  {
   "cell_type": "markdown",
   "metadata": {},
   "source": [
    "**remove and replace  unwanted symbols, special charecters and words**"
   ]
  },
  {
   "cell_type": "code",
   "execution_count": 10,
   "metadata": {},
   "outputs": [],
   "source": [
    "catogories = list(project_data['project_subject_categories'].values)\n",
    "# https://www.geeksforgeeks.org/removing-stop-words-nltk-python/\n",
    "# https://stackoverflow.com/questions/23669024/how-to-strip-a-specific-word-from-a-string\n",
    "# https://stackoverflow.com/questions/8270092/remove-all-whitespace-in-a-string-in-python\n",
    "l = []  #creat empty list\n",
    "for i in catogories:      #each category ex\"math&Scince\" in catogeries ex[[\"Math & Science\", \"Warmth\", \"Care & Hunger\"]]\n",
    "    temp = \"\"       #empty\n",
    "    # consider we have text like this \"Math & Science, Warmth, Care & Hunger\"\n",
    "    for j in i.split(','): # it will split it in three parts \n",
    "        if 'The' in j.split(): # this will split each of the catogory based on space \n",
    "            j=j.replace('The','') # if we have the words \"The\" we are going to replace it with '' empty\n",
    "        j = j.replace(' ','') # we are placeing all the ' '(space) with ''(empty) \n",
    "        temp+=j.strip()+\" \" #\" abc \".strip() will return \"abc\", remove the trailing spaces\n",
    "        temp = temp.replace('&','_') \n",
    "    l.append(temp.strip())\n",
    "# l is list with all cleaned categories."
   ]
  },
  {
   "cell_type": "code",
   "execution_count": 11,
   "metadata": {},
   "outputs": [],
   "source": [
    "project_data['clean_proj_categories'] = l    #creat new attribute and store all cleaned catogeries into that attribute, \n",
    "project_data.drop(['project_subject_categories'], axis=1, inplace=True) #remove that previous subject_catogery attribute."
   ]
  },
  {
   "cell_type": "markdown",
   "metadata": {},
   "source": [
    "### 2.2 project_grade_category"
   ]
  },
  {
   "cell_type": "code",
   "execution_count": 12,
   "metadata": {},
   "outputs": [],
   "source": [
    "catogories = list(project_data['project_grade_category'].values)\n",
    "# https://www.geeksforgeeks.org/removing-stop-words-nltk-python/\n",
    "# https://stackoverflow.com/questions/23669024/how-to-strip-a-specific-word-from-a-string\n",
    "# https://stackoverflow.com/questions/8270092/remove-all-whitespace-in-a-string-in-python\n",
    "l = []  #creat empty list\n",
    "for i in catogories:      #each category ex\"math&Scince\" in catogeries ex[[\"Math & Science\", \"Warmth\", \"Care & Hunger\"]]\n",
    "    temp = \"\"       #empty\n",
    "    # consider we have text like this \"Math & Science, Warmth, Care & Hunger\"\n",
    "    for j in i.split(','): # it will split it in three parts \n",
    "        j = j.replace(' ','_') # we are placeing all the ' '(space) with ''(empty) \n",
    "        temp+=j.strip()+\" \" #\" abc \".strip() will return \"abc\", remove the trailing spaces\n",
    "        temp = temp.replace('-','_') \n",
    "    l.append(temp.strip())\n",
    "# l is list with all cleaned categories."
   ]
  },
  {
   "cell_type": "code",
   "execution_count": 13,
   "metadata": {},
   "outputs": [],
   "source": [
    "project_data['clean_proj_grade'] = l    #creat new attribute and store all cleaned catogeries into that attribute, \n",
    "project_data.drop(['project_grade_category'], axis=1, inplace=True) #remove that previous grade_catogery attribute."
   ]
  },
  {
   "cell_type": "markdown",
   "metadata": {},
   "source": [
    "### 2.3  project_subject_subcategories"
   ]
  },
  {
   "cell_type": "code",
   "execution_count": 14,
   "metadata": {},
   "outputs": [],
   "source": [
    "catogories = list(project_data['project_subject_subcategories'].values)\n",
    "# https://www.geeksforgeeks.org/removing-stop-words-nltk-python/\n",
    "# https://stackoverflow.com/questions/23669024/how-to-strip-a-specific-word-from-a-string\n",
    "# https://stackoverflow.com/questions/8270092/remove-all-whitespace-in-a-string-in-python\n",
    "lst = []  #creat empty list\n",
    "for i in catogories:      #each category ex\"math&Scince\" in catogeries ex[[\"Math & Science\", \"Warmth\", \"Care & Hunger\"]]\n",
    "    temp = \"\"       #empty\n",
    "    # consider we have text like this \"Math & Science, Warmth, Care & Hunger\"\n",
    "    for j in i.split(','): # it will split it in three parts \n",
    "        if 'The' in j.split(): # this will split each of the catogory based on space \n",
    "            j=j.replace('The','') # if we have the words \"The\" we are going to replace it with '' empty\n",
    "        j = j.replace(' ','') # we are placeing all the ' '(space) with ''(empty) \n",
    "        temp+=j.strip()+\" \" #\" abc \".strip() will return \"abc\", remove the trailing spaces\n",
    "        temp = temp.replace('&','_') \n",
    "    lst.append(temp.strip())\n",
    "#lst is list with all cleaned subcategories."
   ]
  },
  {
   "cell_type": "code",
   "execution_count": 15,
   "metadata": {},
   "outputs": [],
   "source": [
    "project_data['clean_proj_subcategories'] = lst    #creat new attribute and store all cleaned catogeries into that attribute, \n",
    "project_data.drop(['project_subject_subcategories'], axis=1, inplace=True) #remove that previous subject_subcatogery attribute."
   ]
  },
  {
   "cell_type": "markdown",
   "metadata": {},
   "source": [
    "## 2.4 Text Preprocessing\n",
    "###  Project Essay's\n",
    "\n",
    "there are we have 4 essays's:\n",
    "   1.  project_essay_1 \n",
    "   2.  project_essay_2\n",
    "   3.  project_essay_3 \n",
    "   4.  project_essay_4\n",
    "* so we have to  merge(combilne) 4 essays into one single essay."
   ]
  },
  {
   "cell_type": "code",
   "execution_count": 16,
   "metadata": {},
   "outputs": [],
   "source": [
    "# merge all essay columns into single essay columns \n",
    "project_data[\"essay\"] = project_data[\"project_essay_1\"].map(str) +\\\n",
    "                        project_data[\"project_essay_2\"].map(str) + \\\n",
    "                        project_data[\"project_essay_3\"].map(str) + \\\n",
    "                        project_data[\"project_essay_4\"].map(str)"
   ]
  },
  {
   "cell_type": "code",
   "execution_count": 17,
   "metadata": {},
   "outputs": [],
   "source": [
    "#remove that previous project_essay_1,2,3 and 4\n",
    "project_data.drop([\"project_essay_1\"], axis=1, inplace=True) \n",
    "project_data.drop([\"project_essay_2\"], axis=1, inplace=True) \n",
    "project_data.drop([\"project_essay_3\"], axis=1, inplace=True) \n",
    "project_data.drop([\"project_essay_4\"], axis=1, inplace=True) "
   ]
  },
  {
   "cell_type": "code",
   "execution_count": 18,
   "metadata": {},
   "outputs": [
    {
     "name": "stdout",
     "output_type": "stream",
     "text": [
      "Hello!, thank you for wanting to learn more about my class! My students are Deaf and Hard-of-Hearing. The ages range from 6-8 years old. They don't have a lot of the life experiences as other students do. Almost all of my class qualifies for free lunch. Some of them ride the bus for over an hour a day (one way) to get to school. I would like to make learning fun and interactive.\\r\\n\\r\\nThey don't have access to language as other students. I want my students to become engaged in their learning and be able to interact with it. I can show them pictures in a book but then I have to put the book down so I can sign the story. So they lose the visual. It isn't possible to sign and hold a book at the same time.\\r\\n\\r\\nMy classroom is special because my students require a lot of visual aids and pictures.  I would love to show them a video of a whale or show them pictures about what we are learning.This technology would benefit my students so much. They would be able to see the text or book that we are reading and see me sign at the same time. By using a projector and document camera I can make the curriculum more visual for my students. My students don't all have the same background knowledge as other students. They don't have incidental learning. They are very literal and need to have pictures or videos. \\r\\nThe projector will help to make their lives expand to bigger and more exciting places than just the classroom. Right now I can't even do a read aloud unless I have an interpreter. I can't do any close reading with the whole class because they won't be able to see the text. This technology will give the same access to the books as hearing students. Using the document camera will also help the students be able to interact with technology. This is something that they don't get to do often.nannan\n"
     ]
    }
   ],
   "source": [
    "# to observe the random esssay text data\n",
    "print(project_data['essay'].values[102])"
   ]
  },
  {
   "cell_type": "markdown",
   "metadata": {},
   "source": [
    "**observation**\n",
    "* In the above essay feature  there are lot of unnecessary  special charecters and some other  words so we have to clean text data"
   ]
  },
  {
   "cell_type": "code",
   "execution_count": 19,
   "metadata": {},
   "outputs": [],
   "source": [
    "# expand contractions\n",
    "\n",
    "# https://stackoverflow.com/a/47091490/4084039\n",
    "def decontracted(phrase):\n",
    "    # specific\n",
    "    phrase = re.sub(r\"won't\", \"will not\", phrase)\n",
    "    phrase = re.sub(r\"can\\'t\", \"can not\", phrase)\n",
    "\n",
    "    # general\n",
    "    phrase = re.sub(r\"n\\'t\", \" not\", phrase)\n",
    "    phrase = re.sub(r\"\\'re\", \" are\", phrase)\n",
    "    phrase = re.sub(r\"\\'s\", \" is\", phrase)\n",
    "    phrase = re.sub(r\"\\'d\", \" would\", phrase)\n",
    "    phrase = re.sub(r\"\\'ll\", \" will\", phrase)\n",
    "    phrase = re.sub(r\"\\'t\", \" not\", phrase)\n",
    "    phrase = re.sub(r\"\\'ve\", \" have\", phrase)\n",
    "    phrase = re.sub(r\"\\'m\", \" am\", phrase)\n",
    "    return phrase"
   ]
  },
  {
   "cell_type": "code",
   "execution_count": 20,
   "metadata": {},
   "outputs": [
    {
     "name": "stdout",
     "output_type": "stream",
     "text": [
      "{'into', 's', 'll', \"it's\", 'own', 'his', 'her', \"weren't\", 'yours', 'yourself', 'mightn', 'haven', 'should', 'all', 'be', 'by', \"you've\", 'of', 'aren', 'wouldn', 'its', 'those', 'during', 'doesn', 'couldn', 'with', \"doesn't\", 'through', 'before', 'below', 'y', 'been', 'weren', 'can', 'for', 'do', 'i', 'if', 'out', 'this', 'as', 'very', 'few', 'once', 'only', 'having', 'too', 'a', 'don', \"you'll\", 'isn', 'mustn', 'in', 'theirs', 'down', 've', 'being', 'ma', 'an', 'them', 'here', 'hadn', 'until', 'he', 'any', \"shan't\", 'has', 'wasn', 'ourselves', 'why', 'while', 'did', \"she's\", 'will', \"shouldn't\", 'or', 'other', 'how', \"wasn't\", 'doing', \"that'll\", 'is', 'are', 'itself', 'there', 'against', \"won't\", 'yourselves', 'more', 'further', \"isn't\", 'their', 'above', \"you'd\", 'won', 'had', 'both', 'hasn', 'now', \"needn't\", 'at', 'it', 'have', 'that', 'needn', 'didn', 're', 'from', 'and', 'over', 'then', 'shouldn', \"should've\", \"aren't\", 'nor', 'am', 'd', 'me', 'same', 'so', 'such', 'after', \"hasn't\", 'o', 'they', 'themselves', 'herself', \"don't\", 'when', 'between', 'does', 'each', 'himself', 'myself', 'whom', 'my', 'again', 'm', 'which', \"haven't\", 'you', 'ours', 'were', 'off', 'under', 'the', 'these', \"couldn't\", \"mustn't\", \"wouldn't\", 'shan', 'up', 'than', 'but', 'most', 'we', 'our', 'hers', \"you're\", 'was', 'about', 'your', 'to', 'where', 'because', 't', \"hadn't\", 'no', 'just', 'she', 'ain', 'not', 'what', \"mightn't\", 'who', 'some', \"didn't\", 'him', 'on'}\n",
      "179\n"
     ]
    }
   ],
   "source": [
    "#english stopwords\n",
    "import nltk\n",
    "d = nltk.corpus.stopwords.words('english')\n",
    "print(set(d))\n",
    "print(len(d))\n"
   ]
  },
  {
   "cell_type": "markdown",
   "metadata": {},
   "source": [
    "#### note: we should remove some  words('no', 'nor', 'not') from stop words "
   ]
  },
  {
   "cell_type": "code",
   "execution_count": 21,
   "metadata": {},
   "outputs": [],
   "source": [
    "# https://gist.github.com/sebleier/554280\n",
    "# we are removing the words from the stop words list: 'no', 'nor', 'not'\n",
    "stopwords= ['i', 'me', 'my', 'myself', 'we', 'our', 'ours', 'ourselves', 'you', \"you're\", \"you've\",\\\n",
    "            \"you'll\", \"you'd\", 'your', 'yours', 'yourself', 'yourselves', 'he', 'him', 'his', 'himself', \\\n",
    "            'she', \"she's\", 'her', 'hers', 'herself', 'it', \"it's\", 'its', 'itself', 'they', 'them', 'their',\\\n",
    "            'theirs', 'themselves', 'what', 'which', 'who', 'whom', 'this', 'that', \"that'll\", 'these', 'those', \\\n",
    "            'am', 'is', 'are', 'was', 'were', 'be', 'been', 'being', 'have', 'has', 'had', 'having', 'do', 'does', \\\n",
    "            'did', 'doing', 'a', 'an', 'the', 'and', 'but', 'if', 'or', 'because', 'as', 'until', 'while', 'of', \\\n",
    "            'at', 'by', 'for', 'with', 'about', 'against', 'between', 'into', 'through', 'during', 'before', 'after',\\\n",
    "            'above', 'below', 'to', 'from', 'up', 'down', 'in', 'out', 'on', 'off', 'over', 'under', 'again', 'further',\\\n",
    "            'then', 'once', 'here', 'there', 'when', 'where', 'why', 'how', 'all', 'any', 'both', 'each', 'few', 'more',\\\n",
    "            'most', 'other', 'some', 'such', 'only', 'own', 'same', 'so', 'than', 'too', 'very', \\\n",
    "            's', 't', 'can', 'will', 'just', 'don', \"don't\", 'should', \"should've\", 'now', 'd', 'll', 'm', 'o', 're', \\\n",
    "            've', 'y', 'ain', 'aren', \"aren't\", 'couldn', \"couldn't\", 'didn', \"didn't\", 'doesn', \"doesn't\", 'hadn',\\\n",
    "            \"hadn't\", 'hasn', \"hasn't\", 'haven', \"haven't\", 'isn', \"isn't\", 'ma', 'mightn', \"mightn't\", 'mustn',\\\n",
    "            \"mustn't\", 'needn', \"needn't\", 'shan', \"shan't\", 'shouldn', \"shouldn't\", 'wasn', \"wasn't\", 'weren', \"weren't\", \\\n",
    "            'won', \"won't\", 'wouldn', \"wouldn't\"]"
   ]
  },
  {
   "cell_type": "markdown",
   "metadata": {},
   "source": [
    "### 2.3.1 text preprocessing project_essay"
   ]
  },
  {
   "cell_type": "code",
   "execution_count": 22,
   "metadata": {},
   "outputs": [
    {
     "name": "stderr",
     "output_type": "stream",
     "text": [
      "100%|██████████| 109248/109248 [01:02<00:00, 1741.54it/s]\n"
     ]
    }
   ],
   "source": [
    "#replace & remove some unneccesary words in text\n",
    "\n",
    "from tqdm import tqdm\n",
    "preproccessed_essay_text = []\n",
    "# tqdm is for printing the status bar\n",
    "for sent in tqdm(project_data['essay'].values):    #all text data in essay feature \n",
    "    s = decontracted(sent)                  #function calling for expand contraction words\n",
    "    s = s.replace('\\\\r', ' ')                   #replacing \\\\r with space\n",
    "    s = s.replace('\\\\\"', ' ')                   #replacing \\\\\"', with space\n",
    "    s = s.replace('\\\\n', ' ')                   #replacing \\\\n with space\n",
    "    s = re.sub('[^A-Za-z0-9]+', ' ', s)      #selection charecters only between Ato Z, a-z and 0-9.\n",
    "    # https://gist.github.com/sebleier/554280\n",
    "    sent = ' '.join(e for e in s.split() if e not in stopwords) #removing stopwords\n",
    "    preproccessed_essay_text.append(s.lower().strip())   #all sentences into lower case."
   ]
  },
  {
   "cell_type": "code",
   "execution_count": 23,
   "metadata": {},
   "outputs": [],
   "source": [
    "project_data['preproccessed_essay_text'] = preproccessed_essay_text    #creat new attribute and store all cleanedessay text into that attribute, \n",
    "project_data.drop(['essay'], axis=1, inplace=True) #remove that previous essay attribute."
   ]
  },
  {
   "cell_type": "markdown",
   "metadata": {},
   "source": [
    "### 3.2.2 Text preprocessing project_Title"
   ]
  },
  {
   "cell_type": "code",
   "execution_count": 24,
   "metadata": {},
   "outputs": [
    {
     "name": "stdout",
     "output_type": "stream",
     "text": [
      "Building Life Science Experiences\n",
      "****************************************\n",
      "Scientists at Work Need Materials\n",
      "****************************************\n"
     ]
    }
   ],
   "source": [
    "# to observe the some random title text data\n",
    "print(project_data['project_title'].values[12])\n",
    "print(\"*\"*40)\n",
    "print(project_data['project_title'].values[1640])\n",
    "print(\"*\"*40)"
   ]
  },
  {
   "cell_type": "markdown",
   "metadata": {},
   "source": [
    "#### text preprocessing project_title"
   ]
  },
  {
   "cell_type": "code",
   "execution_count": 25,
   "metadata": {},
   "outputs": [
    {
     "name": "stderr",
     "output_type": "stream",
     "text": [
      "100%|██████████| 109248/109248 [00:01<00:00, 56110.79it/s]\n"
     ]
    }
   ],
   "source": [
    "from tqdm import tqdm\n",
    "preproccessed_title_text = []\n",
    "# tqdm is for printing the status bar\n",
    "for sentence in tqdm(project_data['project_title'].values):    #all text data in essay feature \n",
    "    s = decontracted(sentence)                  #function calling for expand contraction words\n",
    "    s = re.sub('[^A-Za-z0-9]+', ' ', s)      #selection charecters only between Ato Z, a-z and 0-9.\n",
    "    # https://gist.github.com/sebleier/554280\n",
    "    sent = ' '.join(e for e in s.split() if e not in stopwords) #removing stopwords\n",
    "    preproccessed_title_text.append(s.lower().strip())   #all sentences into lower case."
   ]
  },
  {
   "cell_type": "code",
   "execution_count": 26,
   "metadata": {},
   "outputs": [],
   "source": [
    "project_data['preproccessed_title_text'] = preproccessed_title_text    #creat new attribute and store all cleanedessay text into that attribute, \n",
    "project_data.drop(['project_title'], axis=1, inplace=True) #remove that previous project title attribute."
   ]
  },
  {
   "cell_type": "markdown",
   "metadata": {},
   "source": [
    "#### Text preprocessing project_resource_summary"
   ]
  },
  {
   "cell_type": "code",
   "execution_count": 27,
   "metadata": {},
   "outputs": [
    {
     "name": "stderr",
     "output_type": "stream",
     "text": [
      "100%|██████████| 109248/109248 [00:07<00:00, 14963.30it/s]\n"
     ]
    }
   ],
   "source": [
    "from tqdm import tqdm\n",
    "preproccessed_resource_text = []\n",
    "# tqdm is for printing the status bar\n",
    "for sentence in tqdm(project_data['project_resource_summary'].values):    #all text data in project_resource_summaryfeature \n",
    "    s = decontracted(sentence)                  #function calling for expand contraction words\n",
    "    s = re.sub('[^A-Za-z0-9]+', ' ', s)      #selection charecters only between Ato Z, a-z and 0-9.\n",
    "    # https://gist.github.com/sebleier/554280\n",
    "    sent = ' '.join(e for e in s.split() if e not in stopwords) #removing stopwords\n",
    "    preproccessed_resource_text.append(s.lower().strip())   #all sentences into lower case."
   ]
  },
  {
   "cell_type": "code",
   "execution_count": 28,
   "metadata": {},
   "outputs": [],
   "source": [
    "project_data['preproccessed_prjct_resource_summary'] = preproccessed_resource_text    #creat new attribute and store all cleanedessay text into that attribute, \n",
    "project_data.drop(['project_resource_summary'], axis=1, inplace=True) #remove that previous resource_text attribute."
   ]
  },
  {
   "cell_type": "markdown",
   "metadata": {},
   "source": [
    "## 2.3.4 dataframe after text preprocessed features"
   ]
  },
  {
   "cell_type": "code",
   "execution_count": 29,
   "metadata": {},
   "outputs": [
    {
     "data": {
      "text/html": [
       "<div>\n",
       "<style scoped>\n",
       "    .dataframe tbody tr th:only-of-type {\n",
       "        vertical-align: middle;\n",
       "    }\n",
       "\n",
       "    .dataframe tbody tr th {\n",
       "        vertical-align: top;\n",
       "    }\n",
       "\n",
       "    .dataframe thead th {\n",
       "        text-align: right;\n",
       "    }\n",
       "</style>\n",
       "<table border=\"1\" class=\"dataframe\">\n",
       "  <thead>\n",
       "    <tr style=\"text-align: right;\">\n",
       "      <th></th>\n",
       "      <th>Unnamed: 0</th>\n",
       "      <th>id</th>\n",
       "      <th>teacher_id</th>\n",
       "      <th>teacher_prefix</th>\n",
       "      <th>school_state</th>\n",
       "      <th>project_submitted_datetime</th>\n",
       "      <th>teacher_number_of_previously_posted_projects</th>\n",
       "      <th>project_is_approved</th>\n",
       "      <th>clean_proj_categories</th>\n",
       "      <th>clean_proj_grade</th>\n",
       "      <th>clean_proj_subcategories</th>\n",
       "      <th>preproccessed_essay_text</th>\n",
       "      <th>preproccessed_title_text</th>\n",
       "      <th>preproccessed_prjct_resource_summary</th>\n",
       "    </tr>\n",
       "  </thead>\n",
       "  <tbody>\n",
       "    <tr>\n",
       "      <th>0</th>\n",
       "      <td>160221</td>\n",
       "      <td>p253737</td>\n",
       "      <td>c90749f5d961ff158d4b4d1e7dc665fc</td>\n",
       "      <td>Mrs.</td>\n",
       "      <td>IN</td>\n",
       "      <td>2016-12-05 13:43:57</td>\n",
       "      <td>0</td>\n",
       "      <td>0</td>\n",
       "      <td>Literacy_Language</td>\n",
       "      <td>Grades_PreK_2</td>\n",
       "      <td>ESL Literacy</td>\n",
       "      <td>my students are english learners that are work...</td>\n",
       "      <td>educational support for english learners at home</td>\n",
       "      <td>my students need opportunities to practice beg...</td>\n",
       "    </tr>\n",
       "    <tr>\n",
       "      <th>1</th>\n",
       "      <td>140945</td>\n",
       "      <td>p258326</td>\n",
       "      <td>897464ce9ddc600bced1151f324dd63a</td>\n",
       "      <td>Mr.</td>\n",
       "      <td>FL</td>\n",
       "      <td>2016-10-25 09:22:10</td>\n",
       "      <td>7</td>\n",
       "      <td>1</td>\n",
       "      <td>History_Civics Health_Sports</td>\n",
       "      <td>Grades_6_8</td>\n",
       "      <td>Civics_Government TeamSports</td>\n",
       "      <td>our students arrive to our school eager to lea...</td>\n",
       "      <td>wanted projector for hungry learners</td>\n",
       "      <td>my students need a projector to help with view...</td>\n",
       "    </tr>\n",
       "    <tr>\n",
       "      <th>2</th>\n",
       "      <td>21895</td>\n",
       "      <td>p182444</td>\n",
       "      <td>3465aaf82da834c0582ebd0ef8040ca0</td>\n",
       "      <td>Ms.</td>\n",
       "      <td>AZ</td>\n",
       "      <td>2016-08-31 12:03:56</td>\n",
       "      <td>1</td>\n",
       "      <td>0</td>\n",
       "      <td>Health_Sports</td>\n",
       "      <td>Grades_6_8</td>\n",
       "      <td>Health_Wellness TeamSports</td>\n",
       "      <td>true champions are not always the ones that wi...</td>\n",
       "      <td>soccer equipment for awesome middle school stu...</td>\n",
       "      <td>my students need shine guards athletic socks s...</td>\n",
       "    </tr>\n",
       "    <tr>\n",
       "      <th>3</th>\n",
       "      <td>45</td>\n",
       "      <td>p246581</td>\n",
       "      <td>f3cb9bffbba169bef1a77b243e620b60</td>\n",
       "      <td>Mrs.</td>\n",
       "      <td>KY</td>\n",
       "      <td>2016-10-06 21:16:17</td>\n",
       "      <td>4</td>\n",
       "      <td>1</td>\n",
       "      <td>Literacy_Language Math_Science</td>\n",
       "      <td>Grades_PreK_2</td>\n",
       "      <td>Literacy Mathematics</td>\n",
       "      <td>i work at a unique school filled with both esl...</td>\n",
       "      <td>techie kindergarteners</td>\n",
       "      <td>my students need to engage in reading and math...</td>\n",
       "    </tr>\n",
       "  </tbody>\n",
       "</table>\n",
       "</div>"
      ],
      "text/plain": [
       "   Unnamed: 0       id                        teacher_id teacher_prefix  \\\n",
       "0      160221  p253737  c90749f5d961ff158d4b4d1e7dc665fc           Mrs.   \n",
       "1      140945  p258326  897464ce9ddc600bced1151f324dd63a            Mr.   \n",
       "2       21895  p182444  3465aaf82da834c0582ebd0ef8040ca0            Ms.   \n",
       "3          45  p246581  f3cb9bffbba169bef1a77b243e620b60           Mrs.   \n",
       "\n",
       "  school_state project_submitted_datetime  \\\n",
       "0           IN        2016-12-05 13:43:57   \n",
       "1           FL        2016-10-25 09:22:10   \n",
       "2           AZ        2016-08-31 12:03:56   \n",
       "3           KY        2016-10-06 21:16:17   \n",
       "\n",
       "   teacher_number_of_previously_posted_projects  project_is_approved  \\\n",
       "0                                             0                    0   \n",
       "1                                             7                    1   \n",
       "2                                             1                    0   \n",
       "3                                             4                    1   \n",
       "\n",
       "            clean_proj_categories clean_proj_grade  \\\n",
       "0               Literacy_Language    Grades_PreK_2   \n",
       "1    History_Civics Health_Sports       Grades_6_8   \n",
       "2                   Health_Sports       Grades_6_8   \n",
       "3  Literacy_Language Math_Science    Grades_PreK_2   \n",
       "\n",
       "       clean_proj_subcategories  \\\n",
       "0                  ESL Literacy   \n",
       "1  Civics_Government TeamSports   \n",
       "2    Health_Wellness TeamSports   \n",
       "3          Literacy Mathematics   \n",
       "\n",
       "                            preproccessed_essay_text  \\\n",
       "0  my students are english learners that are work...   \n",
       "1  our students arrive to our school eager to lea...   \n",
       "2  true champions are not always the ones that wi...   \n",
       "3  i work at a unique school filled with both esl...   \n",
       "\n",
       "                            preproccessed_title_text  \\\n",
       "0   educational support for english learners at home   \n",
       "1               wanted projector for hungry learners   \n",
       "2  soccer equipment for awesome middle school stu...   \n",
       "3                             techie kindergarteners   \n",
       "\n",
       "                preproccessed_prjct_resource_summary  \n",
       "0  my students need opportunities to practice beg...  \n",
       "1  my students need a projector to help with view...  \n",
       "2  my students need shine guards athletic socks s...  \n",
       "3  my students need to engage in reading and math...  "
      ]
     },
     "execution_count": 29,
     "metadata": {},
     "output_type": "execute_result"
    }
   ],
   "source": [
    "#print top 4 data points  after text preprocessed features\n",
    "project_data.head(4)"
   ]
  },
  {
   "cell_type": "markdown",
   "metadata": {},
   "source": [
    "## 2.4 Join two dataframe(project_proposal_data and resources_data) based on ID"
   ]
  },
  {
   "cell_type": "code",
   "execution_count": 30,
   "metadata": {},
   "outputs": [
    {
     "data": {
      "text/html": [
       "<div>\n",
       "<style scoped>\n",
       "    .dataframe tbody tr th:only-of-type {\n",
       "        vertical-align: middle;\n",
       "    }\n",
       "\n",
       "    .dataframe tbody tr th {\n",
       "        vertical-align: top;\n",
       "    }\n",
       "\n",
       "    .dataframe thead th {\n",
       "        text-align: right;\n",
       "    }\n",
       "</style>\n",
       "<table border=\"1\" class=\"dataframe\">\n",
       "  <thead>\n",
       "    <tr style=\"text-align: right;\">\n",
       "      <th></th>\n",
       "      <th>id</th>\n",
       "      <th>description</th>\n",
       "      <th>quantity</th>\n",
       "      <th>price</th>\n",
       "    </tr>\n",
       "  </thead>\n",
       "  <tbody>\n",
       "    <tr>\n",
       "      <th>0</th>\n",
       "      <td>p233245</td>\n",
       "      <td>LC652 - Lakeshore Double-Space Mobile Drying Rack</td>\n",
       "      <td>1</td>\n",
       "      <td>149.00</td>\n",
       "    </tr>\n",
       "    <tr>\n",
       "      <th>1</th>\n",
       "      <td>p069063</td>\n",
       "      <td>Bouncy Bands for Desks (Blue support pipes)</td>\n",
       "      <td>3</td>\n",
       "      <td>14.95</td>\n",
       "    </tr>\n",
       "    <tr>\n",
       "      <th>2</th>\n",
       "      <td>p069063</td>\n",
       "      <td>Cory Stories: A Kid's Book About Living With Adhd</td>\n",
       "      <td>1</td>\n",
       "      <td>8.45</td>\n",
       "    </tr>\n",
       "  </tbody>\n",
       "</table>\n",
       "</div>"
      ],
      "text/plain": [
       "        id                                        description  quantity  \\\n",
       "0  p233245  LC652 - Lakeshore Double-Space Mobile Drying Rack         1   \n",
       "1  p069063        Bouncy Bands for Desks (Blue support pipes)         3   \n",
       "2  p069063  Cory Stories: A Kid's Book About Living With Adhd         1   \n",
       "\n",
       "    price  \n",
       "0  149.00  \n",
       "1   14.95  \n",
       "2    8.45  "
      ]
     },
     "execution_count": 30,
     "metadata": {},
     "output_type": "execute_result"
    }
   ],
   "source": [
    "#to get price of the project\n",
    "resources_data.head(3)"
   ]
  },
  {
   "cell_type": "code",
   "execution_count": 31,
   "metadata": {},
   "outputs": [
    {
     "data": {
      "text/html": [
       "<div>\n",
       "<style scoped>\n",
       "    .dataframe tbody tr th:only-of-type {\n",
       "        vertical-align: middle;\n",
       "    }\n",
       "\n",
       "    .dataframe tbody tr th {\n",
       "        vertical-align: top;\n",
       "    }\n",
       "\n",
       "    .dataframe thead th {\n",
       "        text-align: right;\n",
       "    }\n",
       "</style>\n",
       "<table border=\"1\" class=\"dataframe\">\n",
       "  <thead>\n",
       "    <tr style=\"text-align: right;\">\n",
       "      <th></th>\n",
       "      <th>id</th>\n",
       "      <th>price</th>\n",
       "      <th>quantity</th>\n",
       "    </tr>\n",
       "  </thead>\n",
       "  <tbody>\n",
       "    <tr>\n",
       "      <th>0</th>\n",
       "      <td>p000001</td>\n",
       "      <td>459.56</td>\n",
       "      <td>7</td>\n",
       "    </tr>\n",
       "    <tr>\n",
       "      <th>1</th>\n",
       "      <td>p000002</td>\n",
       "      <td>515.89</td>\n",
       "      <td>21</td>\n",
       "    </tr>\n",
       "    <tr>\n",
       "      <th>2</th>\n",
       "      <td>p000003</td>\n",
       "      <td>298.97</td>\n",
       "      <td>4</td>\n",
       "    </tr>\n",
       "  </tbody>\n",
       "</table>\n",
       "</div>"
      ],
      "text/plain": [
       "        id   price  quantity\n",
       "0  p000001  459.56         7\n",
       "1  p000002  515.89        21\n",
       "2  p000003  298.97         4"
      ]
     },
     "execution_count": 31,
     "metadata": {},
     "output_type": "execute_result"
    }
   ],
   "source": [
    "#https://stackoverflow.com/questions/22407798/how-to-reset-a-dataframes-indexes-for-all-groups-in-one-step\n",
    "#from resources data  coulumns group by id and sum values of two columns\n",
    "price_data = resources_data.groupby('id').agg({'price':'sum', 'quantity':'sum'}).reset_index()\n",
    "price_data.head(3)"
   ]
  },
  {
   "cell_type": "code",
   "execution_count": 32,
   "metadata": {},
   "outputs": [],
   "source": [
    "#join(merge) two data frames based on id\n",
    "project_data = pd.merge(project_data, price_data, on='id', how='left')  #how=lef if any remaining data present in any df that will be merge with dataframe\n"
   ]
  },
  {
   "cell_type": "code",
   "execution_count": 33,
   "metadata": {},
   "outputs": [
    {
     "data": {
      "text/plain": [
       "(109248, 16)"
      ]
     },
     "execution_count": 33,
     "metadata": {},
     "output_type": "execute_result"
    }
   ],
   "source": [
    "#shape of the final merged dataframe\n",
    "project_data.shape"
   ]
  },
  {
   "cell_type": "markdown",
   "metadata": {},
   "source": [
    "we have 109248 datapoints and 16 features"
   ]
  },
  {
   "cell_type": "markdown",
   "metadata": {},
   "source": [
    "## print final data frame"
   ]
  },
  {
   "cell_type": "code",
   "execution_count": 34,
   "metadata": {},
   "outputs": [
    {
     "data": {
      "text/html": [
       "<div>\n",
       "<style scoped>\n",
       "    .dataframe tbody tr th:only-of-type {\n",
       "        vertical-align: middle;\n",
       "    }\n",
       "\n",
       "    .dataframe tbody tr th {\n",
       "        vertical-align: top;\n",
       "    }\n",
       "\n",
       "    .dataframe thead th {\n",
       "        text-align: right;\n",
       "    }\n",
       "</style>\n",
       "<table border=\"1\" class=\"dataframe\">\n",
       "  <thead>\n",
       "    <tr style=\"text-align: right;\">\n",
       "      <th></th>\n",
       "      <th>Unnamed: 0</th>\n",
       "      <th>id</th>\n",
       "      <th>teacher_id</th>\n",
       "      <th>teacher_prefix</th>\n",
       "      <th>school_state</th>\n",
       "      <th>project_submitted_datetime</th>\n",
       "      <th>teacher_number_of_previously_posted_projects</th>\n",
       "      <th>project_is_approved</th>\n",
       "      <th>clean_proj_categories</th>\n",
       "      <th>clean_proj_grade</th>\n",
       "      <th>clean_proj_subcategories</th>\n",
       "      <th>preproccessed_essay_text</th>\n",
       "      <th>preproccessed_title_text</th>\n",
       "      <th>preproccessed_prjct_resource_summary</th>\n",
       "      <th>price</th>\n",
       "      <th>quantity</th>\n",
       "    </tr>\n",
       "  </thead>\n",
       "  <tbody>\n",
       "    <tr>\n",
       "      <th>0</th>\n",
       "      <td>160221</td>\n",
       "      <td>p253737</td>\n",
       "      <td>c90749f5d961ff158d4b4d1e7dc665fc</td>\n",
       "      <td>Mrs.</td>\n",
       "      <td>IN</td>\n",
       "      <td>2016-12-05 13:43:57</td>\n",
       "      <td>0</td>\n",
       "      <td>0</td>\n",
       "      <td>Literacy_Language</td>\n",
       "      <td>Grades_PreK_2</td>\n",
       "      <td>ESL Literacy</td>\n",
       "      <td>my students are english learners that are work...</td>\n",
       "      <td>educational support for english learners at home</td>\n",
       "      <td>my students need opportunities to practice beg...</td>\n",
       "      <td>154.60</td>\n",
       "      <td>23</td>\n",
       "    </tr>\n",
       "    <tr>\n",
       "      <th>1</th>\n",
       "      <td>140945</td>\n",
       "      <td>p258326</td>\n",
       "      <td>897464ce9ddc600bced1151f324dd63a</td>\n",
       "      <td>Mr.</td>\n",
       "      <td>FL</td>\n",
       "      <td>2016-10-25 09:22:10</td>\n",
       "      <td>7</td>\n",
       "      <td>1</td>\n",
       "      <td>History_Civics Health_Sports</td>\n",
       "      <td>Grades_6_8</td>\n",
       "      <td>Civics_Government TeamSports</td>\n",
       "      <td>our students arrive to our school eager to lea...</td>\n",
       "      <td>wanted projector for hungry learners</td>\n",
       "      <td>my students need a projector to help with view...</td>\n",
       "      <td>299.00</td>\n",
       "      <td>1</td>\n",
       "    </tr>\n",
       "    <tr>\n",
       "      <th>2</th>\n",
       "      <td>21895</td>\n",
       "      <td>p182444</td>\n",
       "      <td>3465aaf82da834c0582ebd0ef8040ca0</td>\n",
       "      <td>Ms.</td>\n",
       "      <td>AZ</td>\n",
       "      <td>2016-08-31 12:03:56</td>\n",
       "      <td>1</td>\n",
       "      <td>0</td>\n",
       "      <td>Health_Sports</td>\n",
       "      <td>Grades_6_8</td>\n",
       "      <td>Health_Wellness TeamSports</td>\n",
       "      <td>true champions are not always the ones that wi...</td>\n",
       "      <td>soccer equipment for awesome middle school stu...</td>\n",
       "      <td>my students need shine guards athletic socks s...</td>\n",
       "      <td>516.85</td>\n",
       "      <td>22</td>\n",
       "    </tr>\n",
       "  </tbody>\n",
       "</table>\n",
       "</div>"
      ],
      "text/plain": [
       "   Unnamed: 0       id                        teacher_id teacher_prefix  \\\n",
       "0      160221  p253737  c90749f5d961ff158d4b4d1e7dc665fc           Mrs.   \n",
       "1      140945  p258326  897464ce9ddc600bced1151f324dd63a            Mr.   \n",
       "2       21895  p182444  3465aaf82da834c0582ebd0ef8040ca0            Ms.   \n",
       "\n",
       "  school_state project_submitted_datetime  \\\n",
       "0           IN        2016-12-05 13:43:57   \n",
       "1           FL        2016-10-25 09:22:10   \n",
       "2           AZ        2016-08-31 12:03:56   \n",
       "\n",
       "   teacher_number_of_previously_posted_projects  project_is_approved  \\\n",
       "0                                             0                    0   \n",
       "1                                             7                    1   \n",
       "2                                             1                    0   \n",
       "\n",
       "          clean_proj_categories clean_proj_grade  \\\n",
       "0             Literacy_Language    Grades_PreK_2   \n",
       "1  History_Civics Health_Sports       Grades_6_8   \n",
       "2                 Health_Sports       Grades_6_8   \n",
       "\n",
       "       clean_proj_subcategories  \\\n",
       "0                  ESL Literacy   \n",
       "1  Civics_Government TeamSports   \n",
       "2    Health_Wellness TeamSports   \n",
       "\n",
       "                            preproccessed_essay_text  \\\n",
       "0  my students are english learners that are work...   \n",
       "1  our students arrive to our school eager to lea...   \n",
       "2  true champions are not always the ones that wi...   \n",
       "\n",
       "                            preproccessed_title_text  \\\n",
       "0   educational support for english learners at home   \n",
       "1               wanted projector for hungry learners   \n",
       "2  soccer equipment for awesome middle school stu...   \n",
       "\n",
       "                preproccessed_prjct_resource_summary   price  quantity  \n",
       "0  my students need opportunities to practice beg...  154.60        23  \n",
       "1  my students need a projector to help with view...  299.00         1  \n",
       "2  my students need shine guards athletic socks s...  516.85        22  "
      ]
     },
     "execution_count": 34,
     "metadata": {},
     "output_type": "execute_result"
    }
   ],
   "source": [
    "project_data.head(3)"
   ]
  },
  {
   "cell_type": "markdown",
   "metadata": {},
   "source": [
    "## 2.5.1 (identify) select the class lable \n",
    "\n",
    "according to the above dataframe \n",
    "**'Project_is_approved'** Attribute:\n",
    "* in the project_data' dataframe we have  'project is approved'  Attribute, it consists with 2 values that are [1]Number of projects approved and [0] number of projects not approved."
   ]
  },
  {
   "cell_type": "code",
   "execution_count": 35,
   "metadata": {},
   "outputs": [],
   "source": [
    "#y is class label\n",
    "y = project_data['project_is_approved'].values       #storing all project_is approved attribute values in y variable\n",
    "project_data.drop(['project_is_approved'], axis=1, inplace=True)    #eliminate the project_is_approved attribute from dataframe\n"
   ]
  },
  {
   "cell_type": "markdown",
   "metadata": {},
   "source": [
    "# 2.6 Splitting data\n",
    "\n",
    "### split data into train, cross validation and test data"
   ]
  },
  {
   "cell_type": "code",
   "execution_count": 36,
   "metadata": {},
   "outputs": [],
   "source": [
    "# splitting into train, crossvalidation and test data\n",
    "from sklearn.model_selection import train_test_split\n",
    "\n",
    "# split the data set into train and test\n",
    "X_train, X_test, y_train, y_test = train_test_split(project_data, y, test_size=0.33, stratify=y)  # split 33% data in test data and  67% in train data\n",
    "X_train, X_cv, y_train, y_cv = train_test_split(X_train, y_train, test_size=0.33, stratify=y_train)  #split train data into train and cross_valiadation"
   ]
  },
  {
   "cell_type": "markdown",
   "metadata": {},
   "source": [
    "our total dataset splitted into train data, cross validation data and test data."
   ]
  },
  {
   "cell_type": "code",
   "execution_count": 37,
   "metadata": {},
   "outputs": [
    {
     "name": "stdout",
     "output_type": "stream",
     "text": [
      "data before feature vectorizing:\n",
      "(49041, 15) (49041,)\n",
      "(24155, 15) (24155,)\n",
      "(36052, 15) (36052,)\n"
     ]
    }
   ],
   "source": [
    "#print shape of splitted data\n",
    "print(\"data before feature vectorizing:\")\n",
    "print(X_train.shape, y_train.shape)\n",
    "print(X_cv.shape, y_cv.shape)\n",
    "print(X_test.shape, y_test.shape)"
   ]
  },
  {
   "cell_type": "markdown",
   "metadata": {},
   "source": [
    "**observation**\n",
    "* there are 22445 datapoints in train data.\n",
    "* 11055 datapoints in cross validation data.\n",
    "* 16500 datapoints in test data."
   ]
  },
  {
   "cell_type": "markdown",
   "metadata": {},
   "source": [
    "# 2.7 Creating Data Matrix\n",
    "\n",
    "# 2.8 feature vectorization (BOW)\n",
    "\n",
    "## 2.8.1 converting the preproccessed    essay to vectors(bag of words)"
   ]
  },
  {
   "cell_type": "code",
   "execution_count": 1,
   "metadata": {},
   "outputs": [
    {
     "ename": "NameError",
     "evalue": "name 'X_train' is not defined",
     "output_type": "error",
     "traceback": [
      "\u001b[0;31m---------------------------------------------------------------------------\u001b[0m",
      "\u001b[0;31mNameError\u001b[0m                                 Traceback (most recent call last)",
      "\u001b[0;32m<ipython-input-1-c8d1fb177a35>\u001b[0m in \u001b[0;36m<module>\u001b[0;34m\u001b[0m\n\u001b[1;32m      3\u001b[0m \u001b[0;31m#ngram_range=(1,2) selecting unigrams and bigrams\u001b[0m\u001b[0;34m\u001b[0m\u001b[0;34m\u001b[0m\u001b[0;34m\u001b[0m\u001b[0m\n\u001b[1;32m      4\u001b[0m \u001b[0mvectorizer1\u001b[0m \u001b[0;34m=\u001b[0m \u001b[0mCountVectorizer\u001b[0m\u001b[0;34m(\u001b[0m\u001b[0mmin_df\u001b[0m\u001b[0;34m=\u001b[0m\u001b[0;36m10\u001b[0m\u001b[0;34m,\u001b[0m\u001b[0mngram_range\u001b[0m\u001b[0;34m=\u001b[0m\u001b[0;34m(\u001b[0m\u001b[0;36m1\u001b[0m\u001b[0;34m,\u001b[0m\u001b[0;36m2\u001b[0m\u001b[0;34m)\u001b[0m\u001b[0;34m,\u001b[0m \u001b[0mmax_features\u001b[0m\u001b[0;34m=\u001b[0m\u001b[0;36m5000\u001b[0m\u001b[0;34m)\u001b[0m \u001b[0;31m#select maximum vectorized features = 5000\u001b[0m\u001b[0;34m\u001b[0m\u001b[0;34m\u001b[0m\u001b[0m\n\u001b[0;32m----> 5\u001b[0;31m \u001b[0mvectorizer1\u001b[0m\u001b[0;34m.\u001b[0m\u001b[0mfit\u001b[0m\u001b[0;34m(\u001b[0m\u001b[0mX_train\u001b[0m\u001b[0;34m[\u001b[0m\u001b[0;34m'essay'\u001b[0m\u001b[0;34m]\u001b[0m\u001b[0;34m.\u001b[0m\u001b[0mvalues\u001b[0m\u001b[0;34m)\u001b[0m \u001b[0;31m# fit has to happen only on train data\u001b[0m\u001b[0;34m\u001b[0m\u001b[0;34m\u001b[0m\u001b[0m\n\u001b[0m\u001b[1;32m      6\u001b[0m \u001b[0;34m\u001b[0m\u001b[0m\n\u001b[1;32m      7\u001b[0m \u001b[0;31m# we use the fitted CountVectorizer to convert the text to vector\u001b[0m\u001b[0;34m\u001b[0m\u001b[0;34m\u001b[0m\u001b[0;34m\u001b[0m\u001b[0m\n",
      "\u001b[0;31mNameError\u001b[0m: name 'X_train' is not defined"
     ]
    }
   ],
   "source": [
    "from sklearn.feature_extraction.text import CountVectorizer\n",
    "# We are considering only the words which appeared in at least 10 documents(rows or projects).\n",
    "#ngram_range=(1,2) selecting unigrams and bigrams\n",
    "vectorizer1 = CountVectorizer(min_df=10,ngram_range=(1,2), max_features=5000) #select maximum vectorized features = 5000\n",
    "vectorizer1.fit(X_train['preproccessed_essay_text'].values) # fit has to happen only on train data\n",
    "\n",
    "# we use the fitted CountVectorizer to convert the text to vector\n",
    "# applying  learned parameters (vocabulary) to the train, cv and cross validation\n",
    "X_train_essay_bow = vectorizer1.transform(X_train['preproccessed_essay_text'].values)\n",
    "X_cv_essay_bow = vectorizer1.transform(X_cv['preproccessed_essay_text'].values)\n",
    "X_test_essay_bow = vectorizer1.transform(X_test['preproccessed_essay_text'].values)\n",
    "\n",
    "print(\"*\"*60)\n",
    "print(\"After vectorizations:\")\n",
    "print(X_train_essay_bow.shape, y_train.shape)\n",
    "print(X_cv_essay_bow.shape, y_cv.shape)\n",
    "print(X_test_essay_bow.shape, y_test.shape)"
   ]
  },
  {
   "cell_type": "markdown",
   "metadata": {},
   "source": [
    "* after BOW vecterization we have X_train data 49041 data points with 5000 features\n",
    "* in x_cv 24155 datapoints, 5000features\n",
    "* in x_test 36052 datapoints, and 5000 features"
   ]
  },
  {
   "cell_type": "markdown",
   "metadata": {},
   "source": [
    "## 2.8.2 converting the preproccessed_title_text to vectors(bag of words)"
   ]
  },
  {
   "cell_type": "code",
   "execution_count": 39,
   "metadata": {},
   "outputs": [
    {
     "name": "stdout",
     "output_type": "stream",
     "text": [
      "************************************************************\n",
      "After vectorizations:\n",
      "(49041, 4795) (49041,)\n",
      "(24155, 4795) (24155,)\n",
      "(36052, 4795) (36052,)\n"
     ]
    }
   ],
   "source": [
    "# We are considering only the words which appeared in at least 10 documents(rows or projects).\n",
    "#ngram_range=(1,2) selecting unigrams and bigrams\n",
    "vectorizer1 = CountVectorizer(min_df=10,ngram_range=(1,2), max_features=5000) #select maximum vectorized features = 5000\n",
    "vectorizer1.fit(X_train['preproccessed_title_text'].values) # fit has to happen only on train data\n",
    "\n",
    "# we use the fitted CountVectorizer to convert the text to vector\n",
    "# applying  learned parameters (vocabulary) to the train, cv and cross validation\n",
    "X_train_title_bow = vectorizer1.transform(X_train['preproccessed_title_text'].values)\n",
    "X_cv_title_bow = vectorizer1.transform(X_cv['preproccessed_title_text'].values)\n",
    "X_test_title_bow = vectorizer1.transform(X_test['preproccessed_title_text'].values)\n",
    "\n",
    "print(\"*\"*60)\n",
    "print(\"After vectorizations:\")\n",
    "print(X_train_title_bow.shape, y_train.shape)\n",
    "print(X_cv_title_bow.shape, y_cv.shape)\n",
    "print(X_test_title_bow.shape, y_test.shape)\n"
   ]
  },
  {
   "cell_type": "markdown",
   "metadata": {},
   "source": [
    "# 2.9 feature vectorization (TFIDF)\n",
    "\n",
    "## 2.9.1 converting the preproccessed_essay_text to vectors(TFIDF)"
   ]
  },
  {
   "cell_type": "code",
   "execution_count": 40,
   "metadata": {},
   "outputs": [
    {
     "name": "stdout",
     "output_type": "stream",
     "text": [
      "************************************************************\n",
      "After vectorizations:\n",
      "(49041, 5000) (49041,)\n",
      "(24155, 5000) (24155,)\n",
      "(36052, 5000) (36052,)\n"
     ]
    }
   ],
   "source": [
    "from sklearn.feature_extraction.text import TfidfVectorizer\n",
    "#ngram_range=(1,2) selecting unigrams and bigrams\n",
    "vectorizer2 = TfidfVectorizer(min_df=10,ngram_range=(1,2), max_features=5000)#select maximum vectorized features = 5000\n",
    "vectorizer2.fit(X_train['preproccessed_essay_text'].values)\n",
    "# applying  learned parameters (vocabulary) to the train, cv and cross validation\n",
    "X_train_essay_tfidf = vectorizer2.transform(X_train['preproccessed_essay_text'].values)\n",
    "X_cv_essay_tfidf = vectorizer2.transform(X_cv['preproccessed_essay_text'].values)\n",
    "X_test_essay_tfidf = vectorizer2.transform(X_test['preproccessed_essay_text'].values)\n",
    "\n",
    "print(\"*\"*60)\n",
    "print(\"After vectorizations:\")\n",
    "print(X_train_essay_tfidf.shape, y_train.shape)\n",
    "print(X_cv_essay_tfidf.shape, y_cv.shape)\n",
    "print(X_test_essay_tfidf.shape, y_test.shape)"
   ]
  },
  {
   "cell_type": "markdown",
   "metadata": {},
   "source": [
    "## 2.9.2 converting the preproccessed_title_text to vectors(TFIDF)"
   ]
  },
  {
   "cell_type": "code",
   "execution_count": 41,
   "metadata": {},
   "outputs": [
    {
     "name": "stdout",
     "output_type": "stream",
     "text": [
      "************************************************************\n",
      "After vectorizations:\n",
      "(49041, 4795) (49041,)\n",
      "(24155, 4795) (24155,)\n",
      "(36052, 4795) (36052,)\n"
     ]
    }
   ],
   "source": [
    "from sklearn.feature_extraction.text import TfidfVectorizer\n",
    "#ngram_range=(1,2) selecting unigrams and bigrams\n",
    "vectorizer2 = TfidfVectorizer(min_df=10,ngram_range=(1,2), max_features=5000)#select maximum vectorized features = 5000\n",
    "vectorizer2.fit(X_train['preproccessed_title_text'].values)\n",
    "# applying  learned parameters (vocabulary) to the train, cv and cross validation\n",
    "X_train_title_tfidf = vectorizer2.transform(X_train['preproccessed_title_text'].values)\n",
    "X_cv_title_tfidf = vectorizer2.transform(X_cv['preproccessed_title_text'].values)\n",
    "X_test_title_tfidf = vectorizer2.transform(X_test['preproccessed_title_text'].values)\n",
    "\n",
    "print(\"*\"*60)\n",
    "print(\"After vectorizations:\")\n",
    "print(X_train_title_tfidf.shape, y_train.shape)\n",
    "print(X_cv_title_tfidf.shape, y_cv.shape)\n",
    "print(X_test_title_tfidf.shape, y_test.shape)"
   ]
  },
  {
   "cell_type": "markdown",
   "metadata": {},
   "source": [
    "# 2.10 feature vectorization (AVGW2V)\n",
    "\n",
    "## 1. Training W2V model"
   ]
  },
  {
   "cell_type": "code",
   "execution_count": 42,
   "metadata": {},
   "outputs": [],
   "source": [
    "#import word2vec \n",
    "from gensim.models import Word2Vec   #to make own w2vec model\n",
    "from gensim.models import KeyedVectors   #w2v model by googlenews-300.bin\n",
    "from tqdm import tqdm\n",
    "import numpy as np"
   ]
  },
  {
   "cell_type": "markdown",
   "metadata": {},
   "source": [
    "#### 1.1 Preparing list of list with sentences for model"
   ]
  },
  {
   "cell_type": "code",
   "execution_count": 43,
   "metadata": {},
   "outputs": [],
   "source": [
    "i = 0\n",
    "list_of_sentance_train=[]  #empty list \n",
    "for sentance in X_train['preproccessed_essay_text'].values:  #for ecah sentence(text) in  essay text train data\n",
    "    list_of_sentance_train.append(sentance.split())   #append in list (list of lists with   sentences)"
   ]
  },
  {
   "cell_type": "markdown",
   "metadata": {},
   "source": [
    "### 1.2 train Word2Vec on train data(list of sentences)"
   ]
  },
  {
   "cell_type": "code",
   "execution_count": 44,
   "metadata": {},
   "outputs": [],
   "source": [
    "# train w2v model on  list of sentances\n",
    "w2v_model=Word2Vec(list_of_sentance_train,min_count=6,size=50, workers=4)\n",
    "#list of sentence [['w1'],['w2']....] in train essay data, min_count = 6 if word  atleast 6times occure then it will be consider\n",
    "#size = 50 w-->vec dimensions, workers=4  multicore of computer(laptop)"
   ]
  },
  {
   "cell_type": "code",
   "execution_count": 45,
   "metadata": {},
   "outputs": [
    {
     "name": "stdout",
     "output_type": "stream",
     "text": [
      "all words occured minimum 4 times  15816\n",
      "sample_w2v_ words  ['my', 'students', 'are', 'diverse', 'in', 'their', 'needs', 'as', 'they', 'everything', 'else', 'i', 'have', 'many', 'races', 'cultures', 'and', 'socioeconomic', 'backgrounds', 'represented', 'quite', 'a', 'small', 'school', 'district', 'which', 'typically', 'is', 'not', 'the', 'case', 'groups', 'of', 'kids', 'with', 'vast', 'learning', 'gaps', 'honors', 'that', 'always', 'engaged', 'also', 'special', 'education', 'or', '504', 'modifications', 'classes', '33', 'am', 'surprised', 'to', 'know', 'how', 'little', 'been', 'exposed', 'real', 'world']\n"
     ]
    }
   ],
   "source": [
    "w2v_words = list(w2v_model.wv.vocab)     #model trained vocubulary words\n",
    "print(\"all words occured minimum 4 times \",len(w2v_words))\n",
    "print(\"sample_w2v_ words \", w2v_words[0:60])   #print 40 words"
   ]
  },
  {
   "cell_type": "markdown",
   "metadata": {},
   "source": [
    "total words 11639 wich are occured atleast 4 times in model trained vocubulary words"
   ]
  },
  {
   "cell_type": "markdown",
   "metadata": {},
   "source": [
    "## 2.10.1 converting the preproccessed_essay_text to vectors(AVGW2V)\n",
    "\n",
    "##  I. Converting Train data  essay text to AVGW2V"
   ]
  },
  {
   "cell_type": "code",
   "execution_count": 46,
   "metadata": {},
   "outputs": [
    {
     "name": "stderr",
     "output_type": "stream",
     "text": [
      "100%|██████████| 49041/49041 [04:44<00:00, 172.59it/s]\n"
     ]
    },
    {
     "name": "stdout",
     "output_type": "stream",
     "text": [
      "(49041, 50)\n",
      "[-0.50973411 -0.27375738 -0.25901769  0.60271438 -0.52346934 -0.09708664\n",
      "  0.4375023   0.54881916  0.18554185 -0.08699875  0.21086509 -0.40719758\n",
      "  0.79611132  0.17944985  0.15448627 -0.33341298  0.58230233 -0.93593907\n",
      "  0.37058689 -0.14178232 -0.71860215  0.18538419 -0.02095867 -1.08289045\n",
      "  0.13226341  0.33411277  1.19459525 -0.39829418  0.35216351 -0.13519963\n",
      "  0.39206706  0.52506843 -0.98460241  0.31639637  0.30377313  1.75817779\n",
      " -0.49014083 -0.13299926  1.30462438 -0.46664203  0.57054821  0.30466428\n",
      " -0.34450835  0.00644873 -0.42390899 -0.57365496  0.52382079  0.26756864\n",
      " -0.10750043  0.14202377]\n"
     ]
    }
   ],
   "source": [
    "# average Word2Vec\n",
    "# compute average word2vec for each datapoint in essay_train data.\n",
    "X_train_essay_avgw2v = [] \n",
    "for sent in tqdm(list_of_sentance_train): # for each sentence in list_of_sentance_train\n",
    "    sent_vec = np.zeros(50) # select maximum features = 50, ifwe use google's w2v then might select 300 features\n",
    "    cnt_words =0; # num of words with a valid vector in the sentence\n",
    "    for word in sent: # for each word in a sentence\n",
    "        if word in w2v_words:       #if true\n",
    "            vec = w2v_model.wv[word]      \n",
    "            sent_vec += vec\n",
    "            cnt_words += 1    #count how many words are similar in w2v model\n",
    "    if cnt_words != 0:\n",
    "        sent_vec /= cnt_words\n",
    "    X_train_essay_avgw2v.append(sent_vec)\n",
    "X_train_essay_avgw2v = np.array(X_train_essay_avgw2v)  #converting all essay word2vec words into array\n",
    "print(X_train_essay_avgw2v.shape)\n",
    "print(X_train_essay_avgw2v[2])"
   ]
  },
  {
   "cell_type": "markdown",
   "metadata": {},
   "source": [
    "## II. Converting Cross_Validation  essay data text to AVGW2V"
   ]
  },
  {
   "cell_type": "code",
   "execution_count": 47,
   "metadata": {},
   "outputs": [],
   "source": [
    "i = 0\n",
    "list_of_sentance_cv=[]  #empty list \n",
    "for sentance in X_cv['preproccessed_essay_text'].values:  #for ecah sentence(text)  in  essay text cv data\n",
    "    list_of_sentance_cv.append(sentance.split())   #append in list (list of lists with   sentences)"
   ]
  },
  {
   "cell_type": "code",
   "execution_count": 48,
   "metadata": {},
   "outputs": [
    {
     "name": "stderr",
     "output_type": "stream",
     "text": [
      "100%|██████████| 24155/24155 [02:22<00:00, 170.00it/s]\n"
     ]
    },
    {
     "name": "stdout",
     "output_type": "stream",
     "text": [
      "(24155, 50)\n",
      "[-0.37560832 -0.44968308 -0.37106994  0.62356041 -0.49722048 -0.42047213\n",
      "  0.65425258  0.40441497  0.4794394  -0.00274357  0.14452701 -0.19765961\n",
      "  0.70290379  0.49815847 -0.20353305 -0.52686581  0.54505807 -1.07720912\n",
      "  0.30160356 -0.39408583 -0.39141721 -0.17051468 -0.03564826 -1.1918223\n",
      " -0.02422966  0.24697606  1.32508412 -0.42259543  0.02714634 -0.37451261\n",
      " -0.04763903  0.50738845 -0.43739882 -0.03796558  0.38600128  1.84227524\n",
      " -1.25896799  0.22338653  1.60404011 -0.35603713  0.60609588  0.89976184\n",
      " -0.47553141  0.21975001 -0.29646925 -0.31177878  0.54258546 -0.09837556\n",
      " -0.25191747 -0.22391023]\n"
     ]
    }
   ],
   "source": [
    "# average Word2Vec\n",
    "# compute average word2vec for each datapoint in cv data.\n",
    "X_cv_essay_avgw2v = [] \n",
    "for sent in tqdm(list_of_sentance_cv): # for each sentence in list_of_sentance_train\n",
    "    sent_vec = np.zeros(50) # select maximum features = 50, ifwe use google's w2v then might select 300 features\n",
    "    cnt_words =0; # num of words with a valid vector in the sentence\n",
    "    for word in sent: # for each word in a sentence\n",
    "        if word in w2v_words:       #if true\n",
    "            vec = w2v_model.wv[word]      \n",
    "            sent_vec += vec\n",
    "            cnt_words += 1    #count how many words are similar in w2v model\n",
    "    if cnt_words != 0:\n",
    "        sent_vec /= cnt_words\n",
    "    X_cv_essay_avgw2v.append(sent_vec)\n",
    "X_cv_essay_avgw2v = np.array(X_cv_essay_avgw2v)  #converting all essay word2vec words into array\n",
    "print(X_cv_essay_avgw2v.shape)\n",
    "print(X_cv_essay_avgw2v[2])"
   ]
  },
  {
   "cell_type": "markdown",
   "metadata": {},
   "source": [
    "## III. Converting Test  essay data text to AVGW2V"
   ]
  },
  {
   "cell_type": "code",
   "execution_count": 49,
   "metadata": {},
   "outputs": [],
   "source": [
    "i = 0\n",
    "list_of_sentance_test=[]  #empty list \n",
    "for sentance in X_test['preproccessed_essay_text'].values:  #for ecah sentence(text)  in  essay text cv data\n",
    "    list_of_sentance_test.append(sentance.split())   #append in list (list of lists with   sentences)"
   ]
  },
  {
   "cell_type": "code",
   "execution_count": 50,
   "metadata": {},
   "outputs": [
    {
     "name": "stderr",
     "output_type": "stream",
     "text": [
      "100%|██████████| 36052/36052 [03:31<00:00, 170.80it/s]\n"
     ]
    },
    {
     "name": "stdout",
     "output_type": "stream",
     "text": [
      "(36052, 50)\n",
      "[-0.51859545 -0.85611468  0.04845744  0.60913451 -0.52678141 -0.23220922\n",
      "  0.30796183  0.44938699  0.46801554 -0.42164819  0.3753145  -0.25320947\n",
      "  1.06454861 -0.02681379 -0.29731813 -0.54847925  0.88714102 -1.40718847\n",
      "  0.41105157 -0.14931357 -0.38383828  0.28284799  0.32510979 -1.18298766\n",
      "  0.02925455  0.31487831  0.96266838 -0.85338471  0.13586359 -0.06589535\n",
      "  0.20871482  0.46547594 -0.38492901 -0.02675514  0.51901393  1.99643295\n",
      " -0.29644625  0.3889974   1.0364803  -0.57457721  0.38807548  0.67393966\n",
      " -0.58832688 -0.2986576  -0.73332096 -0.2508973   1.13743297 -0.13996977\n",
      " -0.31638697 -0.21557164]\n"
     ]
    }
   ],
   "source": [
    "# average Word2Vec\n",
    "# compute average word2vec for each datapoint in essay_test data.\n",
    "X_test_essay_avgw2v = [] \n",
    "for sent in tqdm(list_of_sentance_test): # for each sentence in list_of_sentance_train\n",
    "    sent_vec = np.zeros(50) # select maximum features = 50, ifwe use google's w2v then might select 300 features\n",
    "    cnt_words =0; # num of words with a valid vector in the sentence\n",
    "    for word in sent: # for each word in a sentence\n",
    "        if word in w2v_words:       #if true\n",
    "            vec = w2v_model.wv[word]      \n",
    "            sent_vec += vec\n",
    "            cnt_words += 1    #count how many words are similar in w2v model\n",
    "    if cnt_words != 0:\n",
    "        sent_vec /= cnt_words\n",
    "    X_test_essay_avgw2v.append(sent_vec)\n",
    "X_test_essay_avgw2v = np.array(X_test_essay_avgw2v)  #converting all essay word2vec words into array\n",
    "print(X_test_essay_avgw2v.shape)\n",
    "print(X_test_essay_avgw2v[2])"
   ]
  },
  {
   "cell_type": "markdown",
   "metadata": {},
   "source": [
    "## 2.10.2 converting the preproccessed_title_text to vectors(AVGW2V)"
   ]
  },
  {
   "cell_type": "markdown",
   "metadata": {},
   "source": [
    "### 1. Training W2V model\n",
    "\n",
    "#### 1.1 Preparing list of list with sentences for model"
   ]
  },
  {
   "cell_type": "code",
   "execution_count": 51,
   "metadata": {},
   "outputs": [],
   "source": [
    "i = 0\n",
    "list_of_sentance_train=[]  #empty list \n",
    "for sentance in X_train['preproccessed_title_text'].values:  #for ecah sentence(text) in  title text train data\n",
    "    list_of_sentance_train.append(sentance.split())   #append in list (list of lists with   sentences)"
   ]
  },
  {
   "cell_type": "markdown",
   "metadata": {},
   "source": [
    "### 1.2 train Word2Vec on train data(list of sentences)"
   ]
  },
  {
   "cell_type": "code",
   "execution_count": 52,
   "metadata": {},
   "outputs": [],
   "source": [
    "# train w2v model on  list of sentances\n",
    "w2v_model=Word2Vec(list_of_sentance_train,min_count=6,size=50, workers=4)\n",
    "#list of sentence [['w1'],['w2']....] in train essay data, min_count = 4 if word  atleast 4 times occure then it will be consider\n",
    "#size = 50 w-->vec dimensions, workers=4  multicore of computer(laptop)"
   ]
  },
  {
   "cell_type": "code",
   "execution_count": 53,
   "metadata": {},
   "outputs": [
    {
     "name": "stdout",
     "output_type": "stream",
     "text": [
      "all words occured minimum 6 times  2967\n",
      "sample_w2v_ words  ['students', 'love', 'lab', 'days', 'first', 'grade', 'on', 'a', 'mission', 'to', 'read', 'reading', 'lead', 'how', 'does', 'your', 'garden', 'grow', 'charging', 'into', 'math', 'basketballs', 'volleyballs', 'for', 'low', 'equipment', 'gym', 'go', 'green', 'with', 'chromebooks', 'flexible', 'seating', 'student', 'centered', 'learning', 'spring', 'art', 'show', 'display', 'come', 'together', 'learn', 'room', 'without', 'books', 'not', 'in', 'my', 'class', 'the', 'wild', 'our', 'classroom', 'innovative', 'kinders', 'leaping', 'stem', '3rd', 'wiggle']\n"
     ]
    }
   ],
   "source": [
    "w2v_words = list(w2v_model.wv.vocab)     #model trained vocubulary words\n",
    "print(\"all words occured minimum 6 times \",len(w2v_words))\n",
    "print(\"sample_w2v_ words \", w2v_words[0:60])   #print 40 words"
   ]
  },
  {
   "cell_type": "markdown",
   "metadata": {},
   "source": [
    "## I. Converting  title Train data  text to AVGW2V"
   ]
  },
  {
   "cell_type": "code",
   "execution_count": 54,
   "metadata": {},
   "outputs": [
    {
     "name": "stderr",
     "output_type": "stream",
     "text": [
      "100%|██████████| 49041/49041 [00:04<00:00, 11337.31it/s]"
     ]
    },
    {
     "name": "stdout",
     "output_type": "stream",
     "text": [
      "(49041, 50)\n"
     ]
    },
    {
     "name": "stderr",
     "output_type": "stream",
     "text": [
      "\n"
     ]
    }
   ],
   "source": [
    "# average Word2Vec\n",
    "# compute average word2vec for each datapoint in title_train data.\n",
    "X_train_title_avgw2v = [] \n",
    "for sent in tqdm(list_of_sentance_train): # for each sentence in list_of_sentance_train\n",
    "    sent_vec = np.zeros(50) # select maximum features = 50, ifwe use google's w2v then might select 300 features\n",
    "    cnt_words =0; # num of words with a valid vector in the sentence\n",
    "    for word in sent: # for each word in a sentence\n",
    "        if word in w2v_words:       #if true\n",
    "            vec = w2v_model.wv[word]      \n",
    "            sent_vec += vec\n",
    "            cnt_words += 1    #count how many words are similar in w2v model\n",
    "    if cnt_words != 0:\n",
    "        sent_vec /= cnt_words\n",
    "    X_train_title_avgw2v.append(sent_vec)\n",
    "X_train_title_avgw2v = np.array(X_train_title_avgw2v)  #converting all title word2vec words into array\n",
    "print(X_train_title_avgw2v.shape)\n"
   ]
  },
  {
   "cell_type": "markdown",
   "metadata": {},
   "source": [
    "## II. Converting Title Cross_Validation   data text to AVGW2V"
   ]
  },
  {
   "cell_type": "code",
   "execution_count": 55,
   "metadata": {},
   "outputs": [],
   "source": [
    "i = 0\n",
    "list_of_sentance_cv=[]  #empty list \n",
    "for sentance in X_cv['preproccessed_title_text'].values:  #for ecah sentence(text)  in  title text cv data\n",
    "    list_of_sentance_cv.append(sentance.split())   #append in list (list of lists with   sentences)"
   ]
  },
  {
   "cell_type": "code",
   "execution_count": 56,
   "metadata": {},
   "outputs": [
    {
     "name": "stderr",
     "output_type": "stream",
     "text": [
      "100%|██████████| 24155/24155 [00:02<00:00, 9068.15it/s] "
     ]
    },
    {
     "name": "stdout",
     "output_type": "stream",
     "text": [
      "(24155, 50)\n",
      "[-0.1306515  -0.19819607 -0.33965607 -0.08486284 -0.66516585 -0.73136612\n",
      " -0.32477127  0.22860563  0.02674401 -0.06693661 -0.12465382  0.06512532\n",
      " -0.52984259 -0.16431657  0.19976321 -0.39302765  0.1749098   0.11260309\n",
      " -0.72066593  0.09664768 -0.00784578  0.07775227 -0.04698836  0.32488984\n",
      "  0.44933218  0.01601725 -0.33715616  0.53756347 -0.19424968 -0.42108581\n",
      " -0.34368781 -0.60709019  0.04898392 -0.42357935 -0.76116532 -0.38957888\n",
      "  0.11866326 -0.25850055 -0.83015287 -0.41030139  0.03913868 -0.11139907\n",
      "  1.19017744  0.08962604 -0.27333327  0.627312   -0.46678817 -0.05491919\n",
      " -0.05186548  0.36913257]\n"
     ]
    },
    {
     "name": "stderr",
     "output_type": "stream",
     "text": [
      "\n"
     ]
    }
   ],
   "source": [
    "# average Word2Vec\n",
    "# compute average word2vec for each datapoint in cv data.\n",
    "X_cv_title_avgw2v = [] \n",
    "for sent in tqdm(list_of_sentance_cv): # for each sentence in list_of_sentance_cv\n",
    "    sent_vec = np.zeros(50) # select maximum features = 50, ifwe use google's w2v then might select 300 features\n",
    "    cnt_words =0; # num of words with a valid vector in the sentence\n",
    "    for word in sent: # for each word in a sentence\n",
    "        if word in w2v_words:       #if true\n",
    "            vec = w2v_model.wv[word]      \n",
    "            sent_vec += vec\n",
    "            cnt_words += 1    #count how many words are similar in w2v model\n",
    "    if cnt_words != 0:\n",
    "        sent_vec /= cnt_words\n",
    "    X_cv_title_avgw2v.append(sent_vec)\n",
    "X_cv_title_avgw2v = np.array(X_cv_title_avgw2v)  #converting all title word2vec words into array\n",
    "print(X_cv_title_avgw2v.shape)\n",
    "print(X_cv_title_avgw2v[3])"
   ]
  },
  {
   "cell_type": "markdown",
   "metadata": {},
   "source": [
    "## III. Converting  Title Test data text to AVGW2V"
   ]
  },
  {
   "cell_type": "code",
   "execution_count": 57,
   "metadata": {},
   "outputs": [
    {
     "name": "stderr",
     "output_type": "stream",
     "text": [
      "100%|██████████| 36052/36052 [03:06<00:00, 193.63it/s]\n"
     ]
    },
    {
     "name": "stdout",
     "output_type": "stream",
     "text": [
      "(36052, 50)\n",
      "[ 0.02141272  0.07806586  0.16966229 -0.21373826 -0.30527042 -0.32375237\n",
      " -0.6492036   0.05677048 -0.43644868  0.25882037  0.11514721 -0.12944915\n",
      " -0.29499318  0.10494763  0.49888797 -0.18315764 -0.14501665 -0.02666601\n",
      " -0.02039296  0.03606573  0.22662642  0.10084805 -0.0916351   0.66734192\n",
      "  0.06298543 -0.08385651 -0.38601937  0.58073315  0.17247601  0.0069453\n",
      " -0.1111916   0.04826983  0.08978663 -0.3514726  -0.05694055 -0.93248315\n",
      "  0.22764949 -0.19100432 -0.54000592 -0.22644314 -0.1417504   0.06956131\n",
      "  0.49923452  0.06196788  0.0121426   0.2594365  -0.47888311 -0.30568703\n",
      " -0.17396678  0.66253248]\n"
     ]
    }
   ],
   "source": [
    "# average Word2Vec\n",
    "# compute average word2vec for each datapoint in title_test data.\n",
    "X_test_title_avgw2v = [] \n",
    "for sent in tqdm(list_of_sentance_test): # for each sentence in list_of_sentance_test\n",
    "    sent_vec = np.zeros(50) # select maximum features = 50, ifwe use google's w2v then might select 300 features\n",
    "    cnt_words =0; # num of words with a valid vector in the sentence\n",
    "    for word in sent: # for each word in a sentence\n",
    "        if word in w2v_words:       #if true\n",
    "            vec = w2v_model.wv[word]      \n",
    "            sent_vec += vec\n",
    "            cnt_words += 1    #count how many words are similar in w2v model\n",
    "    if cnt_words != 0:\n",
    "        sent_vec /= cnt_words\n",
    "    X_test_title_avgw2v.append(sent_vec)\n",
    "X_test_title_avgw2v = np.array(X_test_title_avgw2v)  #converting all title word2vec words into array\n",
    "print(X_test_title_avgw2v.shape)\n",
    "print(X_test_title_avgw2v[2])"
   ]
  },
  {
   "cell_type": "markdown",
   "metadata": {},
   "source": [
    "# 2.11 feature vectorization (TFIDF-W2V)\n",
    "\n",
    "## 2.11.1  Converting  Essay  data  text to TFIDF-W2V\n",
    "\n",
    "### 1. Training W2V model on train data"
   ]
  },
  {
   "cell_type": "code",
   "execution_count": 58,
   "metadata": {},
   "outputs": [],
   "source": [
    "# Preparing list of list with sentences for model\n",
    "#train Word2Vec on train data(list of sentences)\n",
    "i = 0\n",
    "list_of_sentance_train=[]  #empty list \n",
    "for sentance in X_train['preproccessed_essay_text'].values:  #for ecah sentence(text) in  essay text train data\n",
    "    list_of_sentance_train.append(sentance.split())   #append in list (list of lists with   sentences)\n",
    "\n",
    "#train Word2Vec on train data(list of sentences)\n",
    "w2v_model=Word2Vec(list_of_sentance_train,min_count=6,size=50, workers=4)"
   ]
  },
  {
   "cell_type": "markdown",
   "metadata": {},
   "source": [
    "### 2. Training tfidf model on train data"
   ]
  },
  {
   "cell_type": "code",
   "execution_count": 59,
   "metadata": {},
   "outputs": [],
   "source": [
    "#tfidf model\n",
    "tfidf_model = TfidfVectorizer(min_df=10,ngram_range=(1,3), max_features=5000)#select maximum vectorized features = 5000\n",
    "tfidf_model.fit(X_train['preproccessed_essay_text'].values)\n",
    "# we are converting a dictionary with word as a key, and the idf as a value\n",
    "dictionary = dict(zip(tfidf_model.get_feature_names(), list(tfidf_model.idf_)))\n",
    "tfidf_words = set(tfidf_model.get_feature_names())"
   ]
  },
  {
   "cell_type": "markdown",
   "metadata": {},
   "source": [
    "## I. Converting  Essay Train data  text to TFIDF-W2V"
   ]
  },
  {
   "cell_type": "code",
   "execution_count": 60,
   "metadata": {},
   "outputs": [
    {
     "name": "stderr",
     "output_type": "stream",
     "text": [
      "100%|██████████| 49041/49041 [06:43<00:00, 121.42it/s]"
     ]
    },
    {
     "name": "stdout",
     "output_type": "stream",
     "text": [
      "49041\n",
      "50\n"
     ]
    },
    {
     "name": "stderr",
     "output_type": "stream",
     "text": [
      "\n"
     ]
    }
   ],
   "source": [
    "# average Word2Vec\n",
    "# compute average word2vec for each sentence.\n",
    "X_train_essay_tfidfw2v = []; # tcreating empty list\n",
    "for sentence in tqdm(X_train['preproccessed_essay_text'].values): # for each sentence in train essaty data\n",
    "    vector = np.zeros(50) # selecting 50 features\n",
    "    tf_idf_weight =0; # num of words with a valid vector in the sentence.\n",
    "    for word in sentence.split(): # for each word in a sentence\n",
    "        if (word in w2v_model) and (word in tfidf_words):\n",
    "            vec = w2v_model[word] # get the vector for each word\n",
    "            # here we are multiplying idf value(dictionary[word]) and the tf value((sentence.count(word)/len(sentence.split())))\n",
    "            tf_idf = dictionary[word]*(sentence.count(word)/len(sentence.split())) # getting the tfidf value for each word\n",
    "            vector += (vec * tf_idf) # calculating tfidf weighted w2v\n",
    "            tf_idf_weight += tf_idf\n",
    "    if tf_idf_weight != 0:\n",
    "        vector /= tf_idf_weight\n",
    "    X_train_essay_tfidfw2v.append(vector)\n",
    "\n",
    "print(len(X_train_essay_tfidfw2v))\n",
    "print(len(X_train_essay_tfidfw2v[0]))"
   ]
  },
  {
   "cell_type": "markdown",
   "metadata": {},
   "source": [
    "## II. Converting  Essay CV data  text to TFIDF-W2V\n",
    "\n",
    "#### word2vec model and tfidf model already fit on train data"
   ]
  },
  {
   "cell_type": "code",
   "execution_count": 61,
   "metadata": {},
   "outputs": [
    {
     "name": "stderr",
     "output_type": "stream",
     "text": [
      "100%|██████████| 24155/24155 [03:16<00:00, 122.63it/s]"
     ]
    },
    {
     "name": "stdout",
     "output_type": "stream",
     "text": [
      "24155\n",
      "50\n"
     ]
    },
    {
     "name": "stderr",
     "output_type": "stream",
     "text": [
      "\n"
     ]
    }
   ],
   "source": [
    "# average Word2Vec\n",
    "# compute average word2vec for each sentence.\n",
    "X_cv_essay_tfidfw2v = []; # tcreating empty list\n",
    "for sentence in tqdm(X_cv['preproccessed_essay_text'].values): # for each sentence in cv essaty data\n",
    "    vector = np.zeros(50) # selecting 50 features\n",
    "    tf_idf_weight =0; # num of words with a valid vector in the sentence.\n",
    "    for word in sentence.split(): # for each word in a sentence\n",
    "        if (word in w2v_model) and (word in tfidf_words):\n",
    "            vec = w2v_model[word] # get the vector for each word\n",
    "            # here we are multiplying idf value(dictionary[word]) and the tf value((sentence.count(word)/len(sentence.split())))\n",
    "            tf_idf = dictionary[word]*(sentence.count(word)/len(sentence.split())) # getting the tfidf value for each word\n",
    "            vector += (vec * tf_idf) # calculating tfidf weighted w2v\n",
    "            tf_idf_weight += tf_idf\n",
    "    if tf_idf_weight != 0:\n",
    "        vector /= tf_idf_weight\n",
    "    X_cv_essay_tfidfw2v.append(vector)\n",
    "\n",
    "print(len(X_cv_essay_tfidfw2v))\n",
    "print(len(X_cv_essay_tfidfw2v[0]))"
   ]
  },
  {
   "cell_type": "markdown",
   "metadata": {},
   "source": [
    "## III. Converting  Essay TEST data  text to TFIDF-W2V"
   ]
  },
  {
   "cell_type": "code",
   "execution_count": 62,
   "metadata": {},
   "outputs": [
    {
     "name": "stderr",
     "output_type": "stream",
     "text": [
      "100%|██████████| 36052/36052 [04:53<00:00, 122.88it/s]"
     ]
    },
    {
     "name": "stdout",
     "output_type": "stream",
     "text": [
      "36052\n",
      "50\n"
     ]
    },
    {
     "name": "stderr",
     "output_type": "stream",
     "text": [
      "\n"
     ]
    }
   ],
   "source": [
    "# average Word2Vec\n",
    "# compute average word2vec for each sentence.\n",
    "X_test_essay_tfidfw2v = []; # tcreating empty list\n",
    "for sentence in tqdm(X_test['preproccessed_essay_text'].values): # for each sentence in test essaty data\n",
    "    vector = np.zeros(50) # selecting 50 features\n",
    "    tf_idf_weight =0; # num of words with a valid vector in the sentence.\n",
    "    for word in sentence.split(): # for each word in a sentence\n",
    "        if (word in w2v_model) and (word in tfidf_words):\n",
    "            vec = w2v_model[word] # get the vector for each word\n",
    "            # here we are multiplying idf value(dictionary[word]) and the tf value((sentence.count(word)/len(sentence.split())))\n",
    "            tf_idf = dictionary[word]*(sentence.count(word)/len(sentence.split())) # getting the tfidf value for each word\n",
    "            vector += (vec * tf_idf) # calculating tfidf weighted w2v\n",
    "            tf_idf_weight += tf_idf\n",
    "    if tf_idf_weight != 0:\n",
    "        vector /= tf_idf_weight\n",
    "    X_test_essay_tfidfw2v.append(vector)\n",
    "\n",
    "print(len(X_test_essay_tfidfw2v))\n",
    "print(len(X_test_essay_tfidfw2v[0]))"
   ]
  },
  {
   "cell_type": "markdown",
   "metadata": {},
   "source": [
    "## 2.11.2 Converting  Tile  data  text to TFIDF-W2V\n",
    "\n",
    "### 1. Training W2V model on train data"
   ]
  },
  {
   "cell_type": "code",
   "execution_count": 63,
   "metadata": {},
   "outputs": [],
   "source": [
    "# Preparing list of list with sentences for model\n",
    "#train Word2Vec on title train data(list of sentences)\n",
    "i = 0\n",
    "list_of_sentance_train=[]  #empty list \n",
    "for sentance in X_train['preproccessed_title_text'].values:  #for ecah sentence(text) in  essay title train data\n",
    "    list_of_sentance_train.append(sentance.split())   #append in list (list of lists with   sentences)\n",
    "\n",
    "#train Word2Vec on title train data(list of sentences)\n",
    "w2v_model=Word2Vec(list_of_sentance_train,min_count=6,size=50, workers=4)"
   ]
  },
  {
   "cell_type": "markdown",
   "metadata": {},
   "source": [
    "### 2. Training tfidf model on train data"
   ]
  },
  {
   "cell_type": "code",
   "execution_count": 64,
   "metadata": {},
   "outputs": [],
   "source": [
    "#tfidf model\n",
    "tfidf_model = TfidfVectorizer(min_df=10,ngram_range=(1,3), max_features=5000)#select maximum vectorized features = 5000\n",
    "tfidf_model.fit(X_train['preproccessed_title_text'].values)\n",
    "# we are converting a dictionary with word as a key, and the idf as a value\n",
    "dictionary = dict(zip(tfidf_model.get_feature_names(), list(tfidf_model.idf_)))\n",
    "tfidf_words = set(tfidf_model.get_feature_names())"
   ]
  },
  {
   "cell_type": "markdown",
   "metadata": {},
   "source": [
    "## I. Converting  title Train data  text to TFIDF-W2V"
   ]
  },
  {
   "cell_type": "code",
   "execution_count": 65,
   "metadata": {},
   "outputs": [
    {
     "name": "stderr",
     "output_type": "stream",
     "text": [
      "100%|██████████| 49041/49041 [00:04<00:00, 9877.01it/s] "
     ]
    },
    {
     "name": "stdout",
     "output_type": "stream",
     "text": [
      "49041\n",
      "50\n"
     ]
    },
    {
     "name": "stderr",
     "output_type": "stream",
     "text": [
      "\n"
     ]
    }
   ],
   "source": [
    "# average Word2Vec\n",
    "# compute average word2vec for each sentence.\n",
    "X_train_title_tfidfw2v = []; # tcreating empty list\n",
    "for sentence in tqdm(X_train['preproccessed_title_text'].values): # for each sentence in train title data\n",
    "    vector = np.zeros(50) # selecting 50 features\n",
    "    tf_idf_weight =0; # num of words with a valid vector in the sentence.\n",
    "    for word in sentence.split(): # for each word in a sentence\n",
    "        if (word in w2v_model) and (word in tfidf_words):\n",
    "            vec = w2v_model[word] # get the vector for each word\n",
    "            # here we are multiplying idf value(dictionary[word]) and the tf value((sentence.count(word)/len(sentence.split())))\n",
    "            tf_idf = dictionary[word]*(sentence.count(word)/len(sentence.split())) # getting the tfidf value for each word\n",
    "            vector += (vec * tf_idf) # calculating tfidf weighted w2v\n",
    "            tf_idf_weight += tf_idf\n",
    "    if tf_idf_weight != 0:\n",
    "        vector /= tf_idf_weight\n",
    "    X_train_title_tfidfw2v.append(vector)\n",
    "\n",
    "print(len(X_train_title_tfidfw2v))\n",
    "print(len(X_train_title_tfidfw2v[0]))"
   ]
  },
  {
   "cell_type": "markdown",
   "metadata": {},
   "source": [
    "## II. Converting  title CV data  text to TFIDF-W2V"
   ]
  },
  {
   "cell_type": "code",
   "execution_count": 66,
   "metadata": {},
   "outputs": [
    {
     "name": "stderr",
     "output_type": "stream",
     "text": [
      "100%|██████████| 24155/24155 [00:02<00:00, 10088.92it/s]"
     ]
    },
    {
     "name": "stdout",
     "output_type": "stream",
     "text": [
      "24155\n",
      "50\n"
     ]
    },
    {
     "name": "stderr",
     "output_type": "stream",
     "text": [
      "\n"
     ]
    }
   ],
   "source": [
    "# average Word2Vec\n",
    "# compute average word2vec for each sentence.\n",
    "X_cv_title_tfidfw2v = []; # tcreating empty list\n",
    "for sentence in tqdm(X_cv['preproccessed_title_text'].values): # for each sentence in cv title data\n",
    "    vector = np.zeros(50) # selecting 50 features\n",
    "    tf_idf_weight =0; # num of words with a valid vector in the sentence.\n",
    "    for word in sentence.split(): # for each word in a sentence\n",
    "        if (word in w2v_model) and (word in tfidf_words):\n",
    "            vec = w2v_model[word] # get the vector for each word\n",
    "            # here we are multiplying idf value(dictionary[word]) and the tf value((sentence.count(word)/len(sentence.split())))\n",
    "            tf_idf = dictionary[word]*(sentence.count(word)/len(sentence.split())) # getting the tfidf value for each word\n",
    "            vector += (vec * tf_idf) # calculating tfidf weighted w2v\n",
    "            tf_idf_weight += tf_idf\n",
    "    if tf_idf_weight != 0:\n",
    "        vector /= tf_idf_weight\n",
    "    X_cv_title_tfidfw2v.append(vector)\n",
    "\n",
    "print(len(X_cv_title_tfidfw2v))\n",
    "print(len(X_cv_title_tfidfw2v[0]))"
   ]
  },
  {
   "cell_type": "markdown",
   "metadata": {},
   "source": [
    "## III. Converting  Title TEST data  text to TFIDF-W2V"
   ]
  },
  {
   "cell_type": "code",
   "execution_count": 67,
   "metadata": {},
   "outputs": [
    {
     "name": "stderr",
     "output_type": "stream",
     "text": [
      "100%|██████████| 36052/36052 [00:04<00:00, 8378.85it/s] "
     ]
    },
    {
     "name": "stdout",
     "output_type": "stream",
     "text": [
      "36052\n",
      "50\n"
     ]
    },
    {
     "name": "stderr",
     "output_type": "stream",
     "text": [
      "\n"
     ]
    }
   ],
   "source": [
    "# average Word2Vec\n",
    "# compute average word2vec for each sentence.\n",
    "X_test_title_tfidfw2v = []; # tcreating empty list\n",
    "for sentence in tqdm(X_test['preproccessed_title_text'].values): # for each sentence in test title data\n",
    "    vector = np.zeros(50) # selecting 50 features\n",
    "    tf_idf_weight =0; # num of words with a valid vector in the sentence.\n",
    "    for word in sentence.split(): # for each word in a sentence\n",
    "        if (word in w2v_model) and (word in tfidf_words):\n",
    "            vec = w2v_model[word] # get the vector for each word\n",
    "            # here we are multiplying idf value(dictionary[word]) and the tf value((sentence.count(word)/len(sentence.split())))\n",
    "            tf_idf = dictionary[word]*(sentence.count(word)/len(sentence.split())) # getting the tfidf value for each word\n",
    "            vector += (vec * tf_idf) # calculating tfidf weighted w2v\n",
    "            tf_idf_weight += tf_idf\n",
    "    if tf_idf_weight != 0:\n",
    "        vector /= tf_idf_weight\n",
    "    X_test_title_tfidfw2v.append(vector)\n",
    "\n",
    "print(len(X_test_title_tfidfw2v))\n",
    "print(len(X_test_title_tfidfw2v[0]))"
   ]
  },
  {
   "cell_type": "markdown",
   "metadata": {},
   "source": [
    "# 3.0  One-Hot-Encoding Categorical features\n",
    "\n",
    "**there are 5 categorical features:**\n",
    "* school state\n",
    "* clean project subject category\n",
    "* clean project subject sub category\n",
    "* project_grade\n",
    "* teacher prefix\n"
   ]
  },
  {
   "cell_type": "markdown",
   "metadata": {},
   "source": [
    "## 3.1 one-hot-encode( schoolstate)"
   ]
  },
  {
   "cell_type": "code",
   "execution_count": 68,
   "metadata": {},
   "outputs": [
    {
     "name": "stdout",
     "output_type": "stream",
     "text": [
      "************************************************************\n",
      "After  one hot encode vectorizations\n",
      "(49041, 51) (49041,)\n",
      "(24155, 51) (24155,)\n",
      "(36052, 51) (36052,)\n"
     ]
    }
   ],
   "source": [
    "#onehotencoding\n",
    "vectorizer = CountVectorizer()\n",
    "vectorizer.fit(X_train['school_state'].values) # countvectorizer fit on only train data\n",
    "\n",
    "#then fitted countvectorizer afflys on train,test and cv data\n",
    "X_train_state_onehot = vectorizer.transform(X_train['school_state'].values)  #learned vocubulary vectorizer applies on train data\n",
    "X_cv_state_onehot = vectorizer.transform(X_cv['school_state'].values)        #learned vocubulary vectorizer applies on cv data\n",
    "X_test_state_onehot = vectorizer.transform(X_test['school_state'].values)    #learned vocubulary vectorizer applies on test data\n",
    "\n",
    "print(\"*\"*60)\n",
    "print(\"After  one hot encode vectorizations\")\n",
    "print(X_train_state_onehot.shape, y_train.shape)\n",
    "print(X_cv_state_onehot.shape, y_cv.shape)\n",
    "print(X_test_state_onehot.shape, y_test.shape)"
   ]
  },
  {
   "cell_type": "markdown",
   "metadata": {},
   "source": [
    "## 3.2 one-hot-encode (clean_proj_categories)"
   ]
  },
  {
   "cell_type": "code",
   "execution_count": 69,
   "metadata": {},
   "outputs": [
    {
     "name": "stdout",
     "output_type": "stream",
     "text": [
      "************************************************************\n",
      "After  one hot encode vectorizations\n",
      "(49041, 9) (49041,)\n",
      "(24155, 9) (24155,)\n",
      "(36052, 9) (36052,)\n"
     ]
    }
   ],
   "source": [
    "#onehotencoding\n",
    "vectorizer = CountVectorizer()\n",
    "vectorizer.fit(X_train['clean_proj_categories'].values) # countvectorizer fit on only train data\n",
    "\n",
    "#then fitted countvectorizer afflys on train,test and cv data\n",
    "#learned vocubulary vectorizer applies on train data\n",
    "X_train_proj_categories_onehot = vectorizer.transform(X_train['clean_proj_categories'].values)  \n",
    "X_cv_proj_categories_onehot = vectorizer.transform(X_cv['clean_proj_categories'].values)        \n",
    "X_test_proj_categories_onehot = vectorizer.transform(X_test['clean_proj_categories'].values)  \n",
    "\n",
    "print(\"*\"*60)\n",
    "print(\"After  one hot encode vectorizations\")\n",
    "print(X_train_proj_categories_onehot.shape, y_train.shape)\n",
    "print(X_cv_proj_categories_onehot.shape, y_cv.shape)\n",
    "print(X_test_proj_categories_onehot.shape, y_test.shape)"
   ]
  },
  {
   "cell_type": "markdown",
   "metadata": {},
   "source": [
    "## 3.3 one-hot-encode (clean_proj_subcategories)"
   ]
  },
  {
   "cell_type": "code",
   "execution_count": 70,
   "metadata": {},
   "outputs": [
    {
     "name": "stdout",
     "output_type": "stream",
     "text": [
      "************************************************************\n",
      "After  one hot encode vectorizations\n",
      "(49041, 30) (49041,)\n",
      "(24155, 30) (24155,)\n",
      "(36052, 30) (36052,)\n"
     ]
    }
   ],
   "source": [
    "#onehotencoding\n",
    "vectorizer = CountVectorizer()\n",
    "vectorizer.fit(X_train['clean_proj_subcategories'].values) # countvectorizer fit on only train data\n",
    "\n",
    "#then fitted countvectorizer afflys on train,test and cv data\n",
    "#learned vocubulary vectorizer applies on train data\n",
    "X_train_proj_subcategories_onehot = vectorizer.transform(X_train['clean_proj_subcategories'].values)  \n",
    "X_cv_proj_subcategories_onehot = vectorizer.transform(X_cv['clean_proj_subcategories'].values)        \n",
    "X_test_proj_subcategories_onehot = vectorizer.transform(X_test['clean_proj_subcategories'].values)  \n",
    "\n",
    "print(\"*\"*60)\n",
    "print(\"After  one hot encode vectorizations\")\n",
    "print(X_train_proj_subcategories_onehot.shape, y_train.shape)\n",
    "print(X_cv_proj_subcategories_onehot.shape, y_cv.shape)\n",
    "print(X_test_proj_subcategories_onehot.shape, y_test.shape)"
   ]
  },
  {
   "cell_type": "markdown",
   "metadata": {},
   "source": [
    "## 3.4 one-hot-encode (clean_proj_grade)"
   ]
  },
  {
   "cell_type": "code",
   "execution_count": 71,
   "metadata": {},
   "outputs": [
    {
     "name": "stdout",
     "output_type": "stream",
     "text": [
      "************************************************************\n",
      "After  one hot encode vectorizations\n",
      "(49041, 4) (49041,)\n",
      "(24155, 4) (24155,)\n",
      "(36052, 4) (36052,)\n",
      "['grades_3_5', 'grades_6_8', 'grades_9_12', 'grades_prek_2']\n"
     ]
    }
   ],
   "source": [
    "#onehotencoding\n",
    "vectorizer = CountVectorizer()\n",
    "vectorizer.fit(X_train['clean_proj_grade'].values) # countvectorizer fit on only train data\n",
    "\n",
    "#then fitted countvectorizer afflys on train,test and cv data\n",
    "#learned vocubulary vectorizer applies on train data\n",
    "X_train_proj_grade_onehot = vectorizer.transform(X_train['clean_proj_grade'].values)  \n",
    "X_cv_proj_grade_onehot = vectorizer.transform(X_cv['clean_proj_grade'].values)        \n",
    "X_test_proj_grade_onehot = vectorizer.transform(X_test['clean_proj_grade'].values)  \n",
    "\n",
    "print(\"*\"*60)\n",
    "print(\"After  one hot encode vectorizations\")\n",
    "print(X_train_proj_grade_onehot.shape, y_train.shape)\n",
    "print(X_cv_proj_grade_onehot.shape, y_cv.shape)\n",
    "print(X_test_proj_grade_onehot.shape, y_test.shape)\n",
    "print(vectorizer.get_feature_names())"
   ]
  },
  {
   "cell_type": "markdown",
   "metadata": {},
   "source": [
    "## 3.5 one-hot-encode (teacher_prefix)"
   ]
  },
  {
   "cell_type": "code",
   "execution_count": 72,
   "metadata": {},
   "outputs": [
    {
     "name": "stdout",
     "output_type": "stream",
     "text": [
      "************************************************************\n",
      "After  one hot encode vectorizations\n",
      "(49041, 6) (49041,)\n",
      "(24155, 6) (24155,)\n",
      "(36052, 6) (36052,)\n",
      "['dr', 'mr', 'mrs', 'ms', 'nan', 'teacher']\n"
     ]
    }
   ],
   "source": [
    "#onehotencoding\n",
    "#  np.nan is an invalid document, expected byte or unicode string.   https://stackoverflow.com/questions/39303912/tfidfvectorizer-in-scikit-learn-valueerror-np-nan-is-an-invalid-document\n",
    "vectorizer = CountVectorizer()\n",
    "vectorizer.fit(X_train['teacher_prefix'].values.astype('U')) # countvectorizer fit on only train data\n",
    "\n",
    "#then fitted countvectorizer afflys on train,test and cv data\n",
    "#learned vocubulary vectorizer applies on train data\n",
    "X_train_teacher_prefix_onehot = vectorizer.transform(X_train['teacher_prefix'].values.astype('U'))  \n",
    "X_cv_teacher_prefix_onehot = vectorizer.transform(X_cv['teacher_prefix'].values.astype('U'))        \n",
    "X_test_teacher_prefix_onehot = vectorizer.transform(X_test['teacher_prefix'].values.astype('U'))\n",
    "print(\"*\"*60)\n",
    "print(\"After  one hot encode vectorizations\")\n",
    "print(X_train_teacher_prefix_onehot.shape, y_train.shape)\n",
    "print(X_cv_teacher_prefix_onehot.shape, y_cv.shape)\n",
    "print(X_test_teacher_prefix_onehot.shape, y_test.shape)\n",
    "print(vectorizer.get_feature_names())"
   ]
  },
  {
   "cell_type": "markdown",
   "metadata": {},
   "source": [
    "# 4.0  Normalizing Numerical features\n",
    "\n",
    "**there are 3 numerical features:**\n",
    "* teacher_number_of_previously_posted_projects\n",
    "* price\n",
    "* quantity"
   ]
  },
  {
   "cell_type": "markdown",
   "metadata": {},
   "source": [
    "## 4.1  Normalizing (teacher_number_of_previously_posted_projects)"
   ]
  },
  {
   "cell_type": "code",
   "execution_count": 73,
   "metadata": {},
   "outputs": [
    {
     "name": "stdout",
     "output_type": "stream",
     "text": [
      "************************************************************\n",
      "After vectorizations\n",
      "(49041, 1) (49041,)\n",
      "(24155, 1) (24155,)\n",
      "(36052, 1) (36052,)\n"
     ]
    }
   ],
   "source": [
    "from sklearn.preprocessing import Normalizer\n",
    "normalizer = Normalizer()\n",
    "#normalizer applying on train teacher_number_of_previously_posted_projects data\n",
    "# normalizer.fit(X_train['teacher_number_of_previously_posted_projects'].value raises error so we need to do reshape with(-1,1)\n",
    "normalizer.fit(X_train['teacher_number_of_previously_posted_projects'].values.reshape(-1,1))\n",
    "\n",
    "#normalizer applied on train data then transfer to cv and test data\n",
    "X_train_prvs_posted_prjcts_norm = normalizer.transform(X_train['teacher_number_of_previously_posted_projects'].values.reshape(-1,1))\n",
    "X_cv_prvs_posted_prjcts_norm = normalizer.transform(X_cv['teacher_number_of_previously_posted_projects'].values.reshape(-1,1))\n",
    "X_test_prvs_posted_prjcts_norm = normalizer.transform(X_test['teacher_number_of_previously_posted_projects'].values.reshape(-1,1))\n",
    "\n",
    "print(\"*\"*60)\n",
    "print(\"After vectorizations\")\n",
    "print(X_train_prvs_posted_prjcts_norm.shape, y_train.shape)\n",
    "print(X_cv_prvs_posted_prjcts_norm.shape, y_cv.shape)\n",
    "print(X_test_prvs_posted_prjcts_norm.shape, y_test.shape)"
   ]
  },
  {
   "cell_type": "markdown",
   "metadata": {},
   "source": [
    "## 4.2  Normalizing (price)"
   ]
  },
  {
   "cell_type": "code",
   "execution_count": 74,
   "metadata": {},
   "outputs": [
    {
     "name": "stdout",
     "output_type": "stream",
     "text": [
      "************************************************************\n",
      "After vectorizations\n",
      "(49041, 1) (49041,)\n",
      "(24155, 1) (24155,)\n",
      "(36052, 1) (36052,)\n"
     ]
    }
   ],
   "source": [
    "from sklearn.preprocessing import Normalizer\n",
    "normalizer = Normalizer()\n",
    "#normalizer applying on train price data\n",
    "# normalizer.fit(X_train['price'].value raises error so we need to do reshape with(-1,1)\n",
    "normalizer.fit(X_train['price'].values.reshape(-1,1))\n",
    "\n",
    "#normalizer applied on train data then transfer to cv and test data\n",
    "X_train_price_norm = normalizer.transform(X_train['price'].values.reshape(-1,1))\n",
    "X_cv_price_norm = normalizer.transform(X_cv['price'].values.reshape(-1,1))\n",
    "X_test_price_norm = normalizer.transform(X_test['price'].values.reshape(-1,1))\n",
    "\n",
    "print(\"*\"*60)\n",
    "print(\"After vectorizations\")\n",
    "print(X_train_price_norm.shape, y_train.shape)\n",
    "print(X_cv_price_norm.shape, y_cv.shape)\n",
    "print(X_test_price_norm.shape, y_test.shape)"
   ]
  },
  {
   "cell_type": "markdown",
   "metadata": {},
   "source": [
    "## 4.3  Normalizing (quantity)"
   ]
  },
  {
   "cell_type": "code",
   "execution_count": 75,
   "metadata": {},
   "outputs": [
    {
     "name": "stdout",
     "output_type": "stream",
     "text": [
      "************************************************************\n",
      "After vectorizations\n",
      "(49041, 1) (49041,)\n",
      "(24155, 1) (24155,)\n",
      "(36052, 1) (36052,)\n"
     ]
    }
   ],
   "source": [
    "from sklearn.preprocessing import Normalizer\n",
    "normalizer = Normalizer()\n",
    "#normalizer applying on train quantity data\n",
    "# normalizer.fit(X_train['quantity'].value raises error so we need to do reshape with(-1,1)\n",
    "normalizer.fit(X_train['quantity'].values.reshape(-1,1))\n",
    "\n",
    "#normalizer applied on train data then transfer to cv and test data\n",
    "X_train_quantity_norm = normalizer.transform(X_train['quantity'].values.reshape(-1,1))\n",
    "X_cv_quantity_norm = normalizer.transform(X_cv['quantity'].values.reshape(-1,1))\n",
    "X_test_quantity_norm = normalizer.transform(X_test['quantity'].values.reshape(-1,1))\n",
    "\n",
    "print(\"*\"*60)\n",
    "print(\"After vectorizations\")\n",
    "print(X_train_quantity_norm.shape, y_train.shape)\n",
    "print(X_cv_quantity_norm.shape, y_cv.shape)\n",
    "print(X_test_quantity_norm.shape, y_test.shape)"
   ]
  },
  {
   "cell_type": "markdown",
   "metadata": {},
   "source": [
    "# 5.Creating (SET1):\n",
    "# <font color='green'> data matix with all categorical, all numerical,essay(BOW) and title(BOW)</font>"
   ]
  },
  {
   "cell_type": "code",
   "execution_count": 76,
   "metadata": {},
   "outputs": [
    {
     "name": "stdout",
     "output_type": "stream",
     "text": [
      "************************************************************\n",
      "Final set1 Data matrix:\n",
      "(49041, 9898) (49041,)\n",
      "(24155, 9898) (24155,)\n",
      "(36052, 9898) (36052,)\n"
     ]
    }
   ],
   "source": [
    "# merge two sparse matrices: https://stackoverflow.com/a/19710648/4084039\n",
    "#concatinating features\n",
    "from scipy.sparse import hstack\n",
    "X_tra = hstack((X_train_essay_bow,X_train_title_bow, X_train_state_onehot, X_train_teacher_prefix_onehot, X_train_proj_grade_onehot, X_train_proj_categories_onehot, X_train_proj_subcategories_onehot,X_train_prvs_posted_prjcts_norm, X_train_price_norm,X_train_quantity_norm )).tocsr()\n",
    "X_crv = hstack((X_cv_essay_bow,X_cv_title_bow,   X_cv_state_onehot, X_cv_teacher_prefix_onehot,  X_cv_proj_grade_onehot, X_cv_proj_categories_onehot ,  X_cv_proj_subcategories_onehot,  X_cv_prvs_posted_prjcts_norm , X_cv_price_norm, X_cv_quantity_norm )).tocsr()\n",
    "X_tes = hstack((X_test_essay_bow,X_test_title_bow, X_test_state_onehot, X_test_teacher_prefix_onehot,X_test_proj_grade_onehot, X_test_proj_categories_onehot,X_test_proj_subcategories_onehot, X_test_prvs_posted_prjcts_norm, X_test_price_norm,X_test_quantity_norm  )).tocsr()\n",
    "\n",
    "print(\"*\"*60)\n",
    "print(\"Final set1 Data matrix:\")\n",
    "print(X_tra.shape, y_train.shape)\n",
    "print(X_crv.shape, y_cv.shape)\n",
    "print(X_tes.shape, y_test.shape)"
   ]
  },
  {
   "cell_type": "markdown",
   "metadata": {},
   "source": [
    " ## <font color='green'>Applying Support Vector Machines(SGDClassifier with hinge loss: Linear SVM) on set1</font>"
   ]
  },
  {
   "cell_type": "markdown",
   "metadata": {},
   "source": [
    "**standardization of train,cv and test data**"
   ]
  },
  {
   "cell_type": "code",
   "execution_count": 77,
   "metadata": {},
   "outputs": [
    {
     "name": "stdout",
     "output_type": "stream",
     "text": [
      "(49041, 9898)\n",
      "(24155, 9898)\n",
      "(36052, 9898)\n"
     ]
    }
   ],
   "source": [
    "#https://scikit-learn.org/stable/modules/generated/sklearn.preprocessing.StandardScaler.html\n",
    "from sklearn.preprocessing import StandardScaler\n",
    "\n",
    "#standardization train data\n",
    "strd = StandardScaler(with_mean=False)\n",
    "strd.fit(X_tra)\n",
    "\n",
    "strd_bowtrain_data = strd.transform(X_tra)\n",
    "print(strd_bowtrain_data.shape)\n",
    "#standardization crosas validationdata\n",
    "strd_bowcrv_data =strd.transform(X_crv)\n",
    "print(strd_bowcrv_data.shape)\n",
    "#standardization test data\n",
    "strd_bowtest_data=strd.transform(X_tes)\n",
    "print(strd_bowtest_data.shape)"
   ]
  },
  {
   "cell_type": "markdown",
   "metadata": {},
   "source": [
    "## <font color='green'>Important points:</font>\n",
    "#### * sklearn.smv.SVC is more computational requires it takes more time for low RAM systems to compute linear svm\n",
    "#### * so there is one other alternative way to perform linear svm by using SGDclassifier(loss='hinge') it work as same as sklearn.svm.SVC\n",
    "#### * hinge loss it is  soft svm formulation minimizing the loss function\n",
    "#### * but we couldn't peroform RBF kernalizetion in this sgdclassifier(loss='hinge')\n",
    "#### *we can perform any kernal(polynomial, RBF,sigmoidlinear..etc)\n",
    "####  * after using SGDclassifier if we want probablities values then we can use CalibratedClassifierCV it give probablity score of each output label"
   ]
  },
  {
   "cell_type": "code",
   "execution_count": 78,
   "metadata": {},
   "outputs": [
    {
     "name": "stdout",
     "output_type": "stream",
     "text": [
      "{'base_estimator__alpha': 0.1}\n"
     ]
    },
    {
     "data": {
      "text/plain": [
       "Text(0.5, 1.0, 'ERROR PLOTS')"
      ]
     },
     "execution_count": 78,
     "metadata": {},
     "output_type": "execute_result"
    },
    {
     "data": {
      "image/png": "[encoded data removed]",
      "text/plain": [
       "<Figure size 432x288 with 1 Axes>"
      ]
     },
     "metadata": {
      "needs_background": "light"
     },
     "output_type": "display_data"
    }
   ],
   "source": [
    "#https://scikit-learn.org/stable/modules/generated/sklearn.linear_model.SGDClassifier.html\n",
    "#https://scikit-learn.org/stable/modules/generated/sklearn.calibration.CalibratedClassifierCV.html\n",
    "#https://stackoverflow.com/questions/55893734/how-can-i-use-sgdclassifier-hinge-loss-with-gridsearchcv-using-log-loss-metric\n",
    "\n",
    "from sklearn.linear_model import SGDClassifier\n",
    "from sklearn.calibration import CalibratedClassifierCV\n",
    "from sklearn.model_selection import GridSearchCV\n",
    "from sklearn.model_selection import GridSearchCV\n",
    "\n",
    "# SGDClassifier using for linear svm with  hinge loss parameter.\n",
    "lnr_clf_model = SGDClassifier(loss='hinge',penalty='l2', max_iter=600, random_state=0) \n",
    "#use for get probablities of each output label\n",
    "calibrated_clf = CalibratedClassifierCV(base_estimator=lnr_clf_model, method='isotonic')  \n",
    "\n",
    "#tuned hyper parameters \n",
    "gridsrch_parameters  = {'base_estimator__alpha': [0.0001, 0.001, 0.01, 0.1,10,100,1000,10000]}  #'base_estimator__' in the params because  we want to change params in the SGDClassifier\n",
    "gridsrch_parameters1  = [i  for i in gridsrch_parameters['base_estimator__alpha']]   #(tuned parameters) : easy to read on x axis\n",
    "\n",
    "\n",
    "grid_search = GridSearchCV(estimator=calibrated_clf, param_grid=gridsrch_parameters,scoring='roc_auc', cv=3,return_train_score=True)\n",
    "grid_search.fit(strd_bowtrain_data, y_train)    #gridsearch cv fit on train data\n",
    "\n",
    "print(grid_search.best_params_)\n",
    "\n",
    "#finding mean trainscore and std_train score\n",
    "train_auc= grid_search.cv_results_['mean_train_score']\n",
    "train_auc_std= grid_search.cv_results_['std_train_score']\n",
    "cv_auc = grid_search.cv_results_['mean_test_score'] \n",
    "cv_auc_std= grid_search.cv_results_['std_test_score']\n",
    "\n",
    "plt.plot(gridsrch_parameters1, train_auc, label='Train AUC')\n",
    "# this code is copied from here: https://stackoverflow.com/a/48803361/4084039\n",
    "plt.gca().fill_between(gridsrch_parameters1,train_auc - train_auc_std,train_auc + train_auc_std,alpha=0.2,color='darkblue')\n",
    "\n",
    "plt.plot(gridsrch_parameters1, cv_auc, label='CV AUC')\n",
    "# this code is copied from here: https://stackoverflow.com/a/48803361/4084039\n",
    "plt.gca().fill_between(gridsrch_parameters1,cv_auc - cv_auc_std,cv_auc + cv_auc_std,alpha=0.2,color='darkorange')\n",
    "\n",
    "plt.scatter(gridsrch_parameters1, train_auc, label='Train AUC points')\n",
    "plt.scatter(gridsrch_parameters1, cv_auc, label='CV AUC points')\n",
    "\n",
    "plt.legend()\n",
    "plt.xlabel(\"alpha hyperparameter\")\n",
    "plt.xscale('log')\n",
    "plt.grid()\n",
    "plt.ylabel(\"AUC\")\n",
    "plt.title(\"ERROR PLOTS\")"
   ]
  },
  {
   "cell_type": "markdown",
   "metadata": {},
   "source": [
    "**observation**\n",
    "* in above linear svm  we have used l2 regulerization.\n",
    "* accordung to the above plot train auc at alpha value 10^-4 our model is overfit \n",
    "* we can choose best alpha value  as 0.1."
   ]
  },
  {
   "cell_type": "markdown",
   "metadata": {},
   "source": [
    "### Now we can observe how our  best'alpha' hyper  parameter value perform on Train AUROC and Test AUROC curves"
   ]
  },
  {
   "cell_type": "code",
   "execution_count": 79,
   "metadata": {},
   "outputs": [],
   "source": [
    "#our best hyperparameter\n",
    "best_alpha = 0.1"
   ]
  },
  {
   "cell_type": "markdown",
   "metadata": {},
   "source": [
    "**function for predict probablity score*"
   ]
  },
  {
   "cell_type": "code",
   "execution_count": 80,
   "metadata": {},
   "outputs": [],
   "source": [
    "#funtion for predict probablity score\n",
    "def batch_predict(clf, data):\n",
    "    # roc_auc_score(y_true, y_score) the 2nd parameter should be probability estimates of the positive class\n",
    "    # not the predicted outputs\n",
    "\n",
    "    y_data_pred = []\n",
    "    tr_loop = data.shape[0] - data.shape[0]%1000\n",
    "    # consider you X_tr shape is 49041, then your cr_loop will be 49041 - 49041%1000 = 49000\n",
    "    # in this for loop we will iterate unti the last 1000 multiplier\n",
    "    for i in range(0, tr_loop, 1000):\n",
    "        y_data_pred.extend(clf.predict_proba(data[i:i+1000])[:,1])\n",
    "    # we will be predicting for the last data points\n",
    "\n",
    "    y_data_pred.extend(clf.predict_proba(data[tr_loop:])[:,1])\n",
    "    \n",
    "    return y_data_pred"
   ]
  },
  {
   "cell_type": "code",
   "execution_count": 81,
   "metadata": {},
   "outputs": [
    {
     "data": {
      "image/png": "[encoded data removed]",
      "text/plain": [
       "<Figure size 432x288 with 1 Axes>"
      ]
     },
     "metadata": {
      "needs_background": "light"
     },
     "output_type": "display_data"
    }
   ],
   "source": [
    "#linear svm\n",
    "lnr_clf_model = SGDClassifier(loss='hinge',penalty='l2', max_iter=600,alpha=best_alpha, random_state=0) \n",
    "#use for get probablities of each output label\n",
    "calibrated_clf = CalibratedClassifierCV(base_estimator=lnr_clf_model, method='isotonic')  # set the SGD classifier as the base estimator\n",
    "\n",
    "\n",
    "calibrated_clf.fit(strd_bowtrain_data , y_train)   #classifier fit on the bowtrain data\n",
    "# roc_auc_score(y_true, y_score) the 2nd parameter should be probability estimates  positive class\n",
    "\n",
    "y_train_pred = batch_predict(calibrated_clf,strd_bowtrain_data)    \n",
    "y_test_pred = batch_predict(calibrated_clf, strd_bowtest_data)\n",
    "\n",
    "#each  thresold (tow) caluculate the (train_fpr = false positive rate) and  (tpr = tru positive rate)\n",
    "train_fpr, train_tpr, tr_thresholds = roc_curve(y_train, y_train_pred) #threshoulds on probablity score of train data class label\n",
    "test_fpr, test_tpr, ts_thresholds = roc_curve(y_test, y_test_pred)#threshoulds on probablity score of test data class label\n",
    "\n",
    "plt.plot(train_fpr, train_tpr, label=\"train AUC =\"+str(auc(train_fpr, train_tpr)))  #plot train auc  based on each threshold train tpr and train fpr\n",
    "plt.plot(test_fpr, test_tpr, label=\"test AUC =\"+str(auc(test_fpr, test_tpr)))  #plot train auc  based on each threshold train tpr and train fpr\n",
    "plt.xlabel(\"alpha_values: hyperparameters\")\n",
    "plt.ylabel(\"AUC\")\n",
    "plt.title(\"AUROC plot\")\n",
    "plt.grid()\n",
    "plt.legend()\n",
    "plt.show()"
   ]
  },
  {
   "cell_type": "markdown",
   "metadata": {},
   "source": [
    "### observation:\n",
    "1. train auc and test auc both are above to the ideal roc curve.\n",
    "2. AUC(performence metric) on train data = 0.87 and AUC on test data = 0.67\n"
   ]
  },
  {
   "cell_type": "markdown",
   "metadata": {},
   "source": [
    "### <font color='purple'>Confusion matrix</font>\n",
    "\n",
    "confusion matrix using for find  how many true_positive, true_negetive, false_positive and false negetive on train and test data"
   ]
  },
  {
   "cell_type": "code",
   "execution_count": 82,
   "metadata": {},
   "outputs": [],
   "source": [
    "#  function to   predict thresould value which has high tpr and low fpr values: notebooks/Assignment_SAMPLE_SOLUTION.ipynb\n",
    "# select the threshold that can choose the  least false positive rating\n",
    "def predict(proba, threshould, fpr, tpr):\n",
    "    \n",
    "    t = threshould[np.argmax(tpr*(1-fpr))]\n",
    "    \n",
    "    # (tpr*(1-fpr)) will be maximum if fpr is very low and tpr is very high\n",
    "    \n",
    "    print(\"the maximum value of tpr*(1-fpr)\", max(tpr*(1-fpr)), \"for threshold\", np.round(t,3))\n",
    "    predictions = []\n",
    "    for i in proba:\n",
    "        if i>=t:\n",
    "            predictions.append(1)\n",
    "        else:\n",
    "            predictions.append(0)\n",
    "    return predictions"
   ]
  },
  {
   "cell_type": "code",
   "execution_count": 84,
   "metadata": {},
   "outputs": [
    {
     "name": "stdout",
     "output_type": "stream",
     "text": [
      "Train data confusion matrix\n",
      "the maximum value of tpr*(1-fpr) 0.6273356543584554 for threshold 0.823\n",
      "Confusion Matrix:\n",
      " [[ 5601  1825]\n",
      " [ 7002 34613]]\n",
      "****************************************\n",
      "Test data confusion matrix\n",
      "the maximum value of tpr*(1-fpr) 0.39766336522990475 for threshold 0.845\n",
      "Confusion Matrix:\n",
      " [[ 3440  2019]\n",
      " [11287 19306]]\n"
     ]
    },
    {
     "data": {
      "text/plain": [
       "<matplotlib.axes._subplots.AxesSubplot at 0x7f8b412846d8>"
      ]
     },
     "execution_count": 84,
     "metadata": {},
     "output_type": "execute_result"
    },
    {
     "data": {
      "image/png": "[encoded data removed]",
      "text/plain": [
       "<Figure size 432x288 with 4 Axes>"
      ]
     },
     "metadata": {
      "needs_background": "light"
     },
     "output_type": "display_data"
    }
   ],
   "source": [
    "#https://stackoverflow.com/questions/45192483/reason-for-transposed-confusion-matrix-in-heatmap\n",
    "#https://seaborn.pydata.org/generated/seaborn.heatmap.html\n",
    "import matplotlib.pyplot as plt\n",
    "\n",
    "fig=plt.figure(1)\n",
    "a = fig.add_subplot(211)\n",
    "from sklearn.metrics import confusion_matrix\n",
    "print(\"Train data confusion matrix\")\n",
    "a = confusion_matrix(y_train, predict(y_train_pred, tr_thresholds,train_fpr, train_tpr))     #predicting tpr,fpr,tnr,fnr on y_train of x train data\n",
    "print(\"Confusion Matrix:\\n\",a)\n",
    "print(\"*\"*40)\n",
    "sns.heatmap(a,annot = True,fmt='g')    #annot = True rectanguler dataset\n",
    "\n",
    "b = fig.add_subplot(212)\n",
    "print(\"Test data confusion matrix\")\n",
    "b = confusion_matrix(y_test,predict(y_test_pred, ts_thresholds, test_fpr, test_tpr))\n",
    "print(\"Confusion Matrix:\\n\",b)\n",
    "sns.heatmap(b,annot = True,fmt='g')    #annot = True rectanguler dataset"
   ]
  },
  {
   "cell_type": "markdown",
   "metadata": {},
   "source": [
    "**observation:**\n",
    "* in above figure 1 we have 2 sub plots 1st subplot implies train data sonfusion matrix, 2 subplot implies test data confusion matrix\n",
    "* in train confusion matrix we have  34613 true positive values, 7002 fpr values,5601 tnr values,1825 fnr values \n",
    "* in test confusion matrix we have  19306 true positive values,11287 fpr values,3440tnr values,2019 fnr values "
   ]
  },
  {
   "cell_type": "markdown",
   "metadata": {},
   "source": [
    "# 6.Creating (SET2):\n",
    "# <font color='green'> data matix with all categorical, all numerical,essay(TFIDF) and title(TFIDF)</font>"
   ]
  },
  {
   "cell_type": "code",
   "execution_count": 85,
   "metadata": {},
   "outputs": [
    {
     "name": "stdout",
     "output_type": "stream",
     "text": [
      "************************************************************\n",
      "Final set2 Data matrix:\n",
      "(49041, 9898) (49041,)\n",
      "(24155, 9898) (24155,)\n",
      "(36052, 9898) (36052,)\n"
     ]
    }
   ],
   "source": [
    "# merge two sparse matrices: https://stackoverflow.com/a/19710648/4084039\n",
    "#concatinating features\n",
    "from scipy.sparse import hstack\n",
    "X_tr1 = hstack((X_train_essay_tfidf,X_train_title_tfidf, X_train_state_onehot, X_train_teacher_prefix_onehot, X_train_proj_grade_onehot, X_train_proj_categories_onehot, X_train_proj_subcategories_onehot,X_train_prvs_posted_prjcts_norm, X_train_price_norm,X_train_quantity_norm )).tocsr()\n",
    "X_cr1 = hstack((X_cv_essay_tfidf,X_cv_title_tfidf,   X_cv_state_onehot, X_cv_teacher_prefix_onehot,  X_cv_proj_grade_onehot, X_cv_proj_categories_onehot ,  X_cv_proj_subcategories_onehot,  X_cv_prvs_posted_prjcts_norm , X_cv_price_norm, X_cv_quantity_norm )).tocsr()\n",
    "X_te1 = hstack((X_test_essay_tfidf,X_test_title_tfidf, X_test_state_onehot, X_test_teacher_prefix_onehot,X_test_proj_grade_onehot, X_test_proj_categories_onehot,X_test_proj_subcategories_onehot, X_test_prvs_posted_prjcts_norm, X_test_price_norm,X_test_quantity_norm  )).tocsr()\n",
    "\n",
    "print(\"*\"*60)\n",
    "print(\"Final set2 Data matrix:\")\n",
    "print(X_tr1.shape, y_train.shape)\n",
    "print(X_cr1.shape, y_cv.shape)\n",
    "print(X_te1.shape, y_test.shape)"
   ]
  },
  {
   "cell_type": "code",
   "execution_count": 86,
   "metadata": {},
   "outputs": [
    {
     "name": "stdout",
     "output_type": "stream",
     "text": [
      "(49041, 9898)\n",
      "(24155, 9898)\n",
      "(36052, 9898)\n"
     ]
    }
   ],
   "source": [
    "#https://scikit-learn.org/stable/modules/generated/sklearn.preprocessing.StandardScaler.html\n",
    "from sklearn.preprocessing import StandardScaler\n",
    "\n",
    "#standardization train data\n",
    "strd1 = StandardScaler(with_mean=False)\n",
    "strd1.fit(X_tr1)\n",
    "\n",
    "strd_tfidftrain_data = strd1.transform(X_tr1)\n",
    "print(strd_tfidftrain_data.shape)\n",
    "#standardization crosas validationdata\n",
    "strd_tfidfcrv_data = strd1.transform(X_cr1)\n",
    "print(strd_tfidfcrv_data.shape)\n",
    "#standardization test data\n",
    "strd_tfidftest_data=strd1.transform(X_te1)\n",
    "print(strd_tfidftest_data.shape)"
   ]
  },
  {
   "cell_type": "markdown",
   "metadata": {},
   "source": [
    "## <font color='blue'>best parameter tuning using Grid search technique</font>"
   ]
  },
  {
   "cell_type": "code",
   "execution_count": 87,
   "metadata": {},
   "outputs": [
    {
     "name": "stdout",
     "output_type": "stream",
     "text": [
      "{'base_estimator__alpha': 0.1}\n"
     ]
    },
    {
     "data": {
      "text/plain": [
       "Text(0.5, 1.0, 'ERROR PLOTS')"
      ]
     },
     "execution_count": 87,
     "metadata": {},
     "output_type": "execute_result"
    },
    {
     "data": {
      "image/png": "[encoded data removed]",
      "text/plain": [
       "<Figure size 432x288 with 1 Axes>"
      ]
     },
     "metadata": {
      "needs_background": "light"
     },
     "output_type": "display_data"
    }
   ],
   "source": [
    "#https://scikit-learn.org/stable/modules/generated/sklearn.linear_model.SGDClassifier.html\n",
    "#https://scikit-learn.org/stable/modules/generated/sklearn.calibration.CalibratedClassifierCV.html\n",
    "#https://stackoverflow.com/questions/55893734/how-can-i-use-sgdclassifier-hinge-loss-with-gridsearchcv-using-log-loss-metric\n",
    "\n",
    "from sklearn.linear_model import SGDClassifier\n",
    "from sklearn.calibration import CalibratedClassifierCV\n",
    "from sklearn.model_selection import GridSearchCV\n",
    "from sklearn.model_selection import GridSearchCV\n",
    "\n",
    "#linear svm using SGDclassifier hinge loss\n",
    "lnr_clf_model = SGDClassifier(loss='hinge',penalty='l2', max_iter=600, random_state=0)\n",
    "#use for get probablities of each output label\n",
    "calibrated_clf = CalibratedClassifierCV(base_estimator=lnr_clf_model, method='isotonic')  # set the SGD classifier as the base estimator\n",
    "\n",
    "\n",
    "gridsrch_parameters  = {'base_estimator__alpha': [0.0001, 0.001, 0.01, 0.1,10,100,1000,10000]}  # note 'base_estimator__' in the params because you want to change params in the SGDClassifier\n",
    "gridsrch_parameters1  = [i  for i in gridsrch_parameters['base_estimator__alpha']]   #(tuned parameters) : easy to read on x axis\n",
    "\n",
    "\n",
    "grid_search = GridSearchCV(estimator=calibrated_clf, param_grid=gridsrch_parameters,scoring='roc_auc', cv=3,return_train_score=True)\n",
    "grid_search.fit(strd_tfidftrain_data, y_train)\n",
    "\n",
    "print(grid_search.best_params_)\n",
    "\n",
    "\n",
    "train_auc= grid_search.cv_results_['mean_train_score']\n",
    "train_auc_std= grid_search.cv_results_['std_train_score']\n",
    "cv_auc = grid_search.cv_results_['mean_test_score'] \n",
    "cv_auc_std= grid_search.cv_results_['std_test_score']\n",
    "\n",
    "plt.plot(gridsrch_parameters1, train_auc, label='Train AUC')\n",
    "# this code is copied from here: https://stackoverflow.com/a/48803361/4084039\n",
    "plt.gca().fill_between(gridsrch_parameters1,train_auc - train_auc_std,train_auc + train_auc_std,alpha=0.2,color='darkblue')\n",
    "\n",
    "plt.plot(gridsrch_parameters1, cv_auc, label='CV AUC')\n",
    "# this code is copied from here: https://stackoverflow.com/a/48803361/4084039\n",
    "plt.gca().fill_between(gridsrch_parameters1,cv_auc - cv_auc_std,cv_auc + cv_auc_std,alpha=0.2,color='darkorange')\n",
    "\n",
    "plt.scatter(gridsrch_parameters1, train_auc, label='Train AUC points')\n",
    "plt.scatter(gridsrch_parameters1, cv_auc, label='CV AUC points')\n",
    "\n",
    "plt.legend()\n",
    "plt.xlabel(\"alpha hyperparameter\")\n",
    "plt.xscale('log')\n",
    "plt.grid()\n",
    "plt.ylabel(\"AUC\")\n",
    "plt.title(\"ERROR PLOTS\")"
   ]
  },
  {
   "cell_type": "markdown",
   "metadata": {},
   "source": [
    "**observation**\n",
    "* in above linear svm  we have used l2 regulerization.\n",
    "* accordung to the above plot train auc at alpha value 10^-4 our model is overfit \n",
    "* we can choose best alpha value  as 10"
   ]
  },
  {
   "cell_type": "markdown",
   "metadata": {},
   "source": [
    "### Now we can observe how our  best'alpha' hyper  parameter value perform on Train AUROC and Test AUROC curves"
   ]
  },
  {
   "cell_type": "code",
   "execution_count": 92,
   "metadata": {},
   "outputs": [],
   "source": [
    "#our best hyperparameter\n",
    "best_alpha = 10"
   ]
  },
  {
   "cell_type": "code",
   "execution_count": 93,
   "metadata": {},
   "outputs": [
    {
     "data": {
      "image/png": "[encoded data removed]",
      "text/plain": [
       "<Figure size 432x288 with 1 Axes>"
      ]
     },
     "metadata": {
      "needs_background": "light"
     },
     "output_type": "display_data"
    }
   ],
   "source": [
    "\n",
    "#linear svm\n",
    "lnr_clf_model = SGDClassifier(loss='hinge',penalty='l2', max_iter=400,alpha=best_alpha, random_state=0)\n",
    "#use for get probablities of each output label\n",
    "calibrated_clf = CalibratedClassifierCV(base_estimator=lnr_clf_model, method='isotonic')  \n",
    "\n",
    "calibrated_clf.fit(strd_tfidftrain_data , y_train)   #classifier fit on the tfidf train data\n",
    "# roc_auc_score(y_true, y_score) the 2nd parameter should be probability estimates  positive class\n",
    "\n",
    "y_train_pred = batch_predict(calibrated_clf,strd_tfidftrain_data)    \n",
    "y_test_pred = batch_predict(calibrated_clf, strd_tfidftest_data)\n",
    "\n",
    "#each  thresold (tow) caluculate the (train_fpr = false positive rate) and  (tpr = tru positive rate)\n",
    "train_fpr, train_tpr, tr_thresholds = roc_curve(y_train, y_train_pred) #threshoulds on probablity score of train data class label\n",
    "test_fpr, test_tpr, ts_thresholds = roc_curve(y_test, y_test_pred)#threshoulds on probablity score of test data class label\n",
    "\n",
    "plt.plot(train_fpr, train_tpr, label=\"train AUC =\"+str(auc(train_fpr, train_tpr)))  #plot train auc  based on each threshold train tpr and train fpr\n",
    "plt.plot(test_fpr, test_tpr, label=\"test AUC =\"+str(auc(test_fpr, test_tpr)))  #plot train auc  based on each threshold train tpr and train fpr\n",
    "plt.xlabel(\"alpha_values: hyperparameters\")\n",
    "plt.ylabel(\"AUC\")\n",
    "plt.title(\"AUROC plot\")\n",
    "plt.grid()\n",
    "plt.legend()\n",
    "plt.show()"
   ]
  },
  {
   "cell_type": "markdown",
   "metadata": {},
   "source": [
    "### observation:\n",
    "1. train auc and test auc both are above to the ideal roc curve.\n",
    "2. AUC(performence metric) on train data = 0.67 and AUC on test data = 0.62"
   ]
  },
  {
   "cell_type": "markdown",
   "metadata": {},
   "source": [
    "### <font color='purple'>Confusion matrix</font>\n",
    "\n",
    "confusion matrix using for find  how many true_positive, true_negetive, false_positive and false negetive on train and test data"
   ]
  },
  {
   "cell_type": "code",
   "execution_count": 94,
   "metadata": {},
   "outputs": [
    {
     "name": "stdout",
     "output_type": "stream",
     "text": [
      "Train data confusion matrix\n",
      "the maximum value of tpr*(1-fpr) 0.3968595585862856 for threshold 0.841\n",
      "Confusion Matrix:\n",
      " [[ 4154  3272]\n",
      " [12091 29524]]\n",
      "****************************************\n",
      "Test data confusion matrix\n",
      "the maximum value of tpr*(1-fpr) 0.348975628216527 for threshold 0.852\n",
      "Confusion Matrix:\n",
      " [[ 3163  2296]\n",
      " [12167 18426]]\n"
     ]
    },
    {
     "data": {
      "text/plain": [
       "<matplotlib.axes._subplots.AxesSubplot at 0x7f8b4102aa20>"
      ]
     },
     "execution_count": 94,
     "metadata": {},
     "output_type": "execute_result"
    },
    {
     "data": {
      "image/png": "[encoded data removed]",
      "text/plain": [
       "<Figure size 432x288 with 4 Axes>"
      ]
     },
     "metadata": {
      "needs_background": "light"
     },
     "output_type": "display_data"
    }
   ],
   "source": [
    "#https://stackoverflow.com/questions/45192483/reason-for-transposed-confusion-matrix-in-heatmap\n",
    "#https://seaborn.pydata.org/generated/seaborn.heatmap.html\n",
    "\n",
    "fig=plt.figure(1)\n",
    "a = fig.add_subplot(211)\n",
    "from sklearn.metrics import confusion_matrix\n",
    "print(\"Train data confusion matrix\")\n",
    "a = confusion_matrix(y_train, predict(y_train_pred, tr_thresholds,train_fpr, train_tpr))     #predicting tpr,fpr,tnr,fnr on y_train of x train data\n",
    "print(\"Confusion Matrix:\\n\",a)\n",
    "print(\"*\"*40)\n",
    "sns.heatmap(a,annot = True,fmt='g')    #annot = True rectanguler dataset\n",
    "\n",
    "b = fig.add_subplot(212)\n",
    "print(\"Test data confusion matrix\")\n",
    "b = confusion_matrix(y_test,predict(y_test_pred, ts_thresholds, test_fpr, test_tpr))\n",
    "print(\"Confusion Matrix:\\n\",b)\n",
    "sns.heatmap(b,annot = True,fmt='g')    #annot = True rectanguler dataset"
   ]
  },
  {
   "cell_type": "markdown",
   "metadata": {},
   "source": [
    "**observation:**\n",
    "* in above figure 1 we have 2 sub plots 1st subplot implies train data sonfusion matrix, 2 subplot implies test data confusion matrix\n",
    "* in train confusion matrix we have 29524 true positive values, 12091 fpr values,4154 tnr values,3272 fnr values \n",
    "* in test confusion matrix we have 18426 true positive values,12167 fpr values,3163 tnr values,2296 fnr values "
   ]
  },
  {
   "cell_type": "markdown",
   "metadata": {},
   "source": [
    "# 7.Creating (SET3):\n",
    "# <font color='green'> data matix with all categorical, all numerical,essay(AvgW2V) and title(AvgW2V)</font>"
   ]
  },
  {
   "cell_type": "code",
   "execution_count": 95,
   "metadata": {},
   "outputs": [
    {
     "name": "stdout",
     "output_type": "stream",
     "text": [
      "************************************************************\n",
      "Final set3 Data matrix:\n",
      "(49041, 203) (49041,)\n",
      "(24155, 203) (24155,)\n",
      "(36052, 203) (36052,)\n"
     ]
    }
   ],
   "source": [
    "# merge two sparse matrices: https://stackoverflow.com/a/19710648/4084039\n",
    "#concatinating features\n",
    "from scipy.sparse import hstack\n",
    "X_tr3 = hstack((X_train_essay_avgw2v,X_train_title_avgw2v, X_train_state_onehot, X_train_teacher_prefix_onehot, X_train_proj_grade_onehot, X_train_proj_categories_onehot, X_train_proj_subcategories_onehot,X_train_prvs_posted_prjcts_norm, X_train_price_norm,X_train_quantity_norm )).tocsr()\n",
    "X_cr3 = hstack((X_cv_essay_avgw2v,X_cv_title_avgw2v,   X_cv_state_onehot, X_cv_teacher_prefix_onehot,  X_cv_proj_grade_onehot, X_cv_proj_categories_onehot ,  X_cv_proj_subcategories_onehot,  X_cv_prvs_posted_prjcts_norm , X_cv_price_norm, X_cv_quantity_norm )).tocsr()\n",
    "X_te3 = hstack((X_test_essay_avgw2v,X_test_title_avgw2v, X_test_state_onehot, X_test_teacher_prefix_onehot,X_test_proj_grade_onehot, X_test_proj_categories_onehot,X_test_proj_subcategories_onehot, X_test_prvs_posted_prjcts_norm, X_test_price_norm,X_test_quantity_norm  )).tocsr()\n",
    "\n",
    "print(\"*\"*60)\n",
    "print(\"Final set3 Data matrix:\")\n",
    "print(X_tr3.shape, y_train.shape)\n",
    "print(X_cr3.shape, y_cv.shape)\n",
    "print(X_te3.shape, y_test.shape)"
   ]
  },
  {
   "cell_type": "markdown",
   "metadata": {},
   "source": [
    "**standardization of train,cv and test data with mean = False**"
   ]
  },
  {
   "cell_type": "code",
   "execution_count": 96,
   "metadata": {},
   "outputs": [
    {
     "name": "stdout",
     "output_type": "stream",
     "text": [
      "(49041, 203)\n",
      "(24155, 203)\n",
      "(36052, 203)\n"
     ]
    }
   ],
   "source": [
    "#https://scikit-learn.org/stable/modules/generated/sklearn.preprocessing.StandardScaler.html\n",
    "from sklearn.preprocessing import StandardScaler\n",
    "\n",
    "#standardization train data\n",
    "strd2 = StandardScaler(with_mean=False)\n",
    "strd2.fit(X_tr3)\n",
    "\n",
    "strd_avgw2vftrain_data = strd2.transform(X_tr3)\n",
    "print(strd_avgw2vftrain_data.shape)\n",
    "#standardization crosas validationdata\n",
    "strd_avgw2vcrv_data = strd2.transform(X_cr3)\n",
    "print(strd_avgw2vcrv_data.shape)\n",
    "#standardization test data\n",
    "strd_avgw2vtest_data=strd2.transform(X_te3)\n",
    "print(strd_avgw2vtest_data.shape)"
   ]
  },
  {
   "cell_type": "markdown",
   "metadata": {},
   "source": [
    "## <font color='blue'>best parameter tuning using Grid search technique</font>"
   ]
  },
  {
   "cell_type": "code",
   "execution_count": 97,
   "metadata": {},
   "outputs": [
    {
     "name": "stdout",
     "output_type": "stream",
     "text": [
      "{'base_estimator__alpha': 0.001}\n"
     ]
    },
    {
     "data": {
      "text/plain": [
       "Text(0.5, 1.0, 'ERROR PLOTS')"
      ]
     },
     "execution_count": 97,
     "metadata": {},
     "output_type": "execute_result"
    },
    {
     "data": {
      "image/png": "[encoded data removed]",
      "text/plain": [
       "<Figure size 432x288 with 1 Axes>"
      ]
     },
     "metadata": {
      "needs_background": "light"
     },
     "output_type": "display_data"
    }
   ],
   "source": [
    "#https://scikit-learn.org/stable/modules/generated/sklearn.linear_model.SGDClassifier.html\n",
    "#https://scikit-learn.org/stable/modules/generated/sklearn.calibration.CalibratedClassifierCV.html\n",
    "#https://stackoverflow.com/questions/55893734/how-can-i-use-sgdclassifier-hinge-loss-with-gridsearchcv-using-log-loss-metric\n",
    "\n",
    "from sklearn.linear_model import SGDClassifier\n",
    "from sklearn.calibration import CalibratedClassifierCV\n",
    "from sklearn.model_selection import GridSearchCV\n",
    "from sklearn.model_selection import GridSearchCV\n",
    "\n",
    "#linear svm using SGDclassifier hinge loss\n",
    "lnr_clf_model = SGDClassifier(loss='hinge',penalty='l2', max_iter=600, random_state=0)\n",
    "#use for get probablities of each output label\n",
    "calibrated_clf = CalibratedClassifierCV(base_estimator=lnr_clf_model, method='isotonic')  \n",
    "\n",
    "gridsrch_parameters  = {'base_estimator__alpha': [0.0001, 0.001, 0.01, 0.1,10,100,1000,10000]}  # note 'base_estimator__' in the params because you want to change params in the SGDClassifier\n",
    "gridsrch_parameters1  = [i  for i in gridsrch_parameters['base_estimator__alpha']]   #(tuned parameters) : easy to read on x axis\n",
    "\n",
    "\n",
    "grid_search = GridSearchCV(estimator=calibrated_clf, param_grid=gridsrch_parameters,scoring='roc_auc', cv=3,return_train_score=True)\n",
    "grid_search.fit(strd_avgw2vftrain_data, y_train)\n",
    "\n",
    "print(grid_search.best_params_)\n",
    "\n",
    "\n",
    "train_auc= grid_search.cv_results_['mean_train_score']\n",
    "train_auc_std= grid_search.cv_results_['std_train_score']\n",
    "cv_auc = grid_search.cv_results_['mean_test_score'] \n",
    "cv_auc_std= grid_search.cv_results_['std_test_score']\n",
    "\n",
    "plt.plot(gridsrch_parameters1, train_auc, label='Train AUC')\n",
    "# this code is copied from here: https://stackoverflow.com/a/48803361/4084039\n",
    "plt.gca().fill_between(gridsrch_parameters1,train_auc - train_auc_std,train_auc + train_auc_std,alpha=0.2,color='darkblue')\n",
    "\n",
    "plt.plot(gridsrch_parameters1, cv_auc, label='CV AUC')\n",
    "# this code is copied from here: https://stackoverflow.com/a/48803361/4084039\n",
    "plt.gca().fill_between(gridsrch_parameters1,cv_auc - cv_auc_std,cv_auc + cv_auc_std,alpha=0.2,color='darkorange')\n",
    "\n",
    "plt.scatter(gridsrch_parameters1, train_auc, label='Train AUC points')\n",
    "plt.scatter(gridsrch_parameters1, cv_auc, label='CV AUC points')\n",
    "\n",
    "plt.legend()\n",
    "plt.xlabel(\"alpha hyperparameter\")\n",
    "plt.xscale('log')\n",
    "plt.grid()\n",
    "plt.ylabel(\"AUC\")\n",
    "plt.title(\"ERROR PLOTS\")"
   ]
  },
  {
   "cell_type": "markdown",
   "metadata": {},
   "source": [
    "**observation**\n",
    "* in above linear svm  we have used l2 regulerization.\n",
    "\n",
    "* we can choose best alpha value  as 0.01"
   ]
  },
  {
   "cell_type": "markdown",
   "metadata": {},
   "source": [
    "### Now we can observe how our  best'alpha' hyper  parameter value perform on Train AUROC and Test AUROC curves"
   ]
  },
  {
   "cell_type": "code",
   "execution_count": 98,
   "metadata": {},
   "outputs": [],
   "source": [
    "#our best hyperparameter\n",
    "best_alpha_value = 0.01"
   ]
  },
  {
   "cell_type": "code",
   "execution_count": 99,
   "metadata": {},
   "outputs": [
    {
     "data": {
      "image/png": "[encoded data removed]",
      "text/plain": [
       "<Figure size 432x288 with 1 Axes>"
      ]
     },
     "metadata": {
      "needs_background": "light"
     },
     "output_type": "display_data"
    }
   ],
   "source": [
    "\n",
    "#linear svm\n",
    "lnr_clf_model = SGDClassifier(loss='hinge',penalty='l2', max_iter=400,alpha=best_alpha_value, random_state=0)\n",
    "#use for get probablities of each output label\n",
    "calibrated_clf = CalibratedClassifierCV(base_estimator=lnr_clf_model, method='isotonic')  # set the SGD classifier as the base estimator\n",
    "\n",
    "\n",
    "calibrated_clf.fit(strd_avgw2vftrain_data , y_train)   #classifier fit on the tfidf train data\n",
    "# roc_auc_score(y_true, y_score) the 2nd parameter should be probability estimates  positive class\n",
    "\n",
    "y_train_pred = batch_predict(calibrated_clf,strd_avgw2vftrain_data)    \n",
    "y_test_pred = batch_predict(calibrated_clf, strd_avgw2vtest_data)\n",
    "\n",
    "#each  thresold (tow) caluculate the (train_fpr = false positive rate) and  (tpr = tru positive rate)\n",
    "train_fpr, train_tpr, tr_thresholds = roc_curve(y_train, y_train_pred) #threshoulds on probablity score of train data class label\n",
    "test_fpr, test_tpr, ts_thresholds = roc_curve(y_test, y_test_pred)#threshoulds on probablity score of test data class label\n",
    "\n",
    "plt.plot(train_fpr, train_tpr, label=\"train AUC =\"+str(auc(train_fpr, train_tpr)))  #plot train auc  based on each threshold train tpr and train fpr\n",
    "plt.plot(test_fpr, test_tpr, label=\"test AUC =\"+str(auc(test_fpr, test_tpr)))  #plot train auc  based on each threshold train tpr and train fpr\n",
    "plt.xlabel(\"alpha_values: hyperparameters\")\n",
    "plt.ylabel(\"AUC\")\n",
    "plt.title(\"AUROC plot\")\n",
    "plt.grid()\n",
    "plt.legend()\n",
    "plt.show()"
   ]
  },
  {
   "cell_type": "markdown",
   "metadata": {},
   "source": [
    "### observation:\n",
    "1. train auc and test auc both are above to the ideal roc curve.\n",
    "2. AUC(performence metric) on train data = 0.65 and AUC on test data = 0.64"
   ]
  },
  {
   "cell_type": "markdown",
   "metadata": {},
   "source": [
    "### <font color='purple'>Confusion matrix</font>\n",
    "\n",
    "confusion matrix using for find  how many true_positive, true_negetive, false_positive and false negetive on train and test data"
   ]
  },
  {
   "cell_type": "code",
   "execution_count": 100,
   "metadata": {},
   "outputs": [
    {
     "name": "stdout",
     "output_type": "stream",
     "text": [
      "Train data confusion matrix\n",
      "the maximum value of tpr*(1-fpr) 0.37616152243163425 for threshold 0.843\n",
      "Confusion Matrix:\n",
      " [[ 4360  3066]\n",
      " [14953 26662]]\n",
      "****************************************\n",
      "Test data confusion matrix\n",
      "the maximum value of tpr*(1-fpr) 0.3666845307681279 for threshold 0.853\n",
      "Confusion Matrix:\n",
      " [[ 3336  2123]\n",
      " [12236 18357]]\n"
     ]
    },
    {
     "data": {
      "text/plain": [
       "<matplotlib.axes._subplots.AxesSubplot at 0x7f8b4d8b2b70>"
      ]
     },
     "execution_count": 100,
     "metadata": {},
     "output_type": "execute_result"
    },
    {
     "data": {
      "image/png": "[encoded data removed]",
      "text/plain": [
       "<Figure size 432x288 with 4 Axes>"
      ]
     },
     "metadata": {
      "needs_background": "light"
     },
     "output_type": "display_data"
    }
   ],
   "source": [
    "#https://stackoverflow.com/questions/45192483/reason-for-transposed-confusion-matrix-in-heatmap\n",
    "#https://seaborn.pydata.org/generated/seaborn.heatmap.html\n",
    "\n",
    "fig=plt.figure(1)\n",
    "a = fig.add_subplot(211)\n",
    "from sklearn.metrics import confusion_matrix\n",
    "print(\"Train data confusion matrix\")\n",
    "a = confusion_matrix(y_train, predict(y_train_pred, tr_thresholds,train_fpr, train_tpr))     #predicting tpr,fpr,tnr,fnr on y_train of x train data\n",
    "print(\"Confusion Matrix:\\n\",a)\n",
    "print(\"*\"*40)\n",
    "sns.heatmap(a,annot = True,fmt='g')    #annot = True rectanguler dataset\n",
    "\n",
    "b = fig.add_subplot(212)\n",
    "print(\"Test data confusion matrix\")\n",
    "b = confusion_matrix(y_test,predict(y_test_pred, ts_thresholds, test_fpr, test_tpr))\n",
    "print(\"Confusion Matrix:\\n\",b)\n",
    "sns.heatmap(b,annot = True,fmt='g')    #annot = True rectanguler dataset"
   ]
  },
  {
   "cell_type": "markdown",
   "metadata": {},
   "source": [
    "**observation:**\n",
    "* in above figure 1 we have 2 sub plots 1st subplot implies train data sonfusion matrix, 2 subplot implies test data confusion matrix\n",
    "* in train confusion matrix we have  26662 true positive values, 14953 fpr values, 4360 tnr values,3066 fnr values \n",
    "* in test confusion matrix we have 18357 true positive values,12236 fpr values, 3336 tnr values,2123 fnr values "
   ]
  },
  {
   "cell_type": "markdown",
   "metadata": {},
   "source": [
    "# 8.Creating (SET4):\n",
    "# <font color='green'> data matix with all categorical, all numerical,essay(TFIDF-W2V) and title(TFIDF-W2V)</font>"
   ]
  },
  {
   "cell_type": "code",
   "execution_count": 101,
   "metadata": {},
   "outputs": [
    {
     "name": "stdout",
     "output_type": "stream",
     "text": [
      "************************************************************\n",
      "Final set4 Data matrix:\n",
      "(49041, 203) (49041,)\n",
      "(24155, 203) (24155,)\n",
      "(36052, 203) (36052,)\n"
     ]
    }
   ],
   "source": [
    "# merge two sparse matrices: https://stackoverflow.com/a/19710648/4084039\n",
    "#concatinating features\n",
    "from scipy.sparse import hstack\n",
    "X_tr4 = hstack((X_train_essay_tfidfw2v,X_train_title_tfidfw2v, X_train_state_onehot, X_train_teacher_prefix_onehot, X_train_proj_grade_onehot, X_train_proj_categories_onehot, X_train_proj_subcategories_onehot,X_train_prvs_posted_prjcts_norm, X_train_price_norm,X_train_quantity_norm )).tocsr()\n",
    "X_cr4 = hstack((X_cv_essay_tfidfw2v,X_cv_title_tfidfw2v,   X_cv_state_onehot, X_cv_teacher_prefix_onehot,  X_cv_proj_grade_onehot, X_cv_proj_categories_onehot ,  X_cv_proj_subcategories_onehot,  X_cv_prvs_posted_prjcts_norm , X_cv_price_norm, X_cv_quantity_norm )).tocsr()\n",
    "X_te4 = hstack((X_test_essay_tfidfw2v,X_test_title_tfidfw2v, X_test_state_onehot, X_test_teacher_prefix_onehot,X_test_proj_grade_onehot, X_test_proj_categories_onehot,X_test_proj_subcategories_onehot, X_test_prvs_posted_prjcts_norm, X_test_price_norm,X_test_quantity_norm  )).tocsr()\n",
    "\n",
    "print(\"*\"*60)\n",
    "print(\"Final set4 Data matrix:\")\n",
    "print(X_tr4.shape, y_train.shape)\n",
    "print(X_cr4.shape, y_cv.shape)\n",
    "print(X_te4.shape, y_test.shape)\n"
   ]
  },
  {
   "cell_type": "markdown",
   "metadata": {},
   "source": [
    "**standardization of train,cv and test data with mean = False**"
   ]
  },
  {
   "cell_type": "code",
   "execution_count": 102,
   "metadata": {},
   "outputs": [
    {
     "name": "stdout",
     "output_type": "stream",
     "text": [
      "(49041, 203)\n",
      "(24155, 203)\n",
      "(36052, 203)\n"
     ]
    }
   ],
   "source": [
    "#https://scikit-learn.org/stable/modules/generated/sklearn.preprocessing.StandardScaler.html\n",
    "from sklearn.preprocessing import StandardScaler\n",
    "\n",
    "#standardization train data\n",
    "strd3 = StandardScaler(with_mean=False)\n",
    "strd3.fit(X_tr4)\n",
    "\n",
    "strd_tfidfw2vtrain_data = strd3.transform(X_tr4)\n",
    "print(strd_tfidfw2vtrain_data.shape)\n",
    "#standardization crosas validationdata\n",
    "strd_tfidfw2vcrv_data = strd3.transform(X_cr4)\n",
    "print(strd_tfidfw2vcrv_data.shape)\n",
    "#standardization test data\n",
    "strd_tfidfw2vtest_data=strd3.transform(X_te4)\n",
    "print(strd_tfidfw2vtest_data.shape)"
   ]
  },
  {
   "cell_type": "markdown",
   "metadata": {},
   "source": [
    "## <font color='blue'>best parameter tuning using Grid search technique</font>"
   ]
  },
  {
   "cell_type": "code",
   "execution_count": 103,
   "metadata": {},
   "outputs": [
    {
     "name": "stdout",
     "output_type": "stream",
     "text": [
      "{'base_estimator__alpha': 0.01}\n"
     ]
    },
    {
     "data": {
      "text/plain": [
       "Text(0.5, 1.0, 'ERROR PLOTS')"
      ]
     },
     "execution_count": 103,
     "metadata": {},
     "output_type": "execute_result"
    },
    {
     "data": {
      "image/png": "[encoded data removed]",
      "text/plain": [
       "<Figure size 432x288 with 1 Axes>"
      ]
     },
     "metadata": {
      "needs_background": "light"
     },
     "output_type": "display_data"
    }
   ],
   "source": [
    "#https://scikit-learn.org/stable/modules/generated/sklearn.linear_model.SGDClassifier.html\n",
    "#https://scikit-learn.org/stable/modules/generated/sklearn.calibration.CalibratedClassifierCV.html\n",
    "#https://stackoverflow.com/questions/55893734/how-can-i-use-sgdclassifier-hinge-loss-with-gridsearchcv-using-log-loss-metric\n",
    "\n",
    "from sklearn.linear_model import SGDClassifier\n",
    "from sklearn.calibration import CalibratedClassifierCV\n",
    "from sklearn.model_selection import GridSearchCV\n",
    "from sklearn.model_selection import GridSearchCV\n",
    "\n",
    "#linear svm using SGDclassifier hinge loss\n",
    "lnr_clf_model = SGDClassifier(loss='hinge',penalty='l2', max_iter=600, random_state=0) \n",
    "#use for get probablities of each output label\n",
    "calibrated_clf = CalibratedClassifierCV(base_estimator=lnr_clf_model, method='isotonic')  \n",
    "\n",
    "\n",
    "gridsrch_parameters  = {'base_estimator__alpha': [0.0001, 0.001, 0.01, 0.1,10,100,1000,10000]}  # note 'base_estimator__' in the params because you want to change params in the SGDClassifier\n",
    "gridsrch_parameters1  = [i  for i in gridsrch_parameters['base_estimator__alpha']]   #(tuned parameters) : easy to read on x axis\n",
    "\n",
    "\n",
    "grid_search = GridSearchCV(estimator=calibrated_clf, param_grid=gridsrch_parameters,scoring='roc_auc', cv=3,return_train_score=True)\n",
    "grid_search.fit(strd_tfidfw2vtrain_data, y_train)\n",
    "\n",
    "print(grid_search.best_params_)\n",
    "\n",
    "\n",
    "train_auc= grid_search.cv_results_['mean_train_score']\n",
    "train_auc_std= grid_search.cv_results_['std_train_score']\n",
    "cv_auc = grid_search.cv_results_['mean_test_score'] \n",
    "cv_auc_std= grid_search.cv_results_['std_test_score']\n",
    "\n",
    "plt.plot(gridsrch_parameters1, train_auc, label='Train AUC')\n",
    "# this code is copied from here: https://stackoverflow.com/a/48803361/4084039\n",
    "plt.gca().fill_between(gridsrch_parameters1,train_auc - train_auc_std,train_auc + train_auc_std,alpha=0.2,color='darkblue')\n",
    "\n",
    "plt.plot(gridsrch_parameters1, cv_auc, label='CV AUC')\n",
    "# this code is copied from here: https://stackoverflow.com/a/48803361/4084039\n",
    "plt.gca().fill_between(gridsrch_parameters1,cv_auc - cv_auc_std,cv_auc + cv_auc_std,alpha=0.2,color='darkorange')\n",
    "\n",
    "plt.scatter(gridsrch_parameters1, train_auc, label='Train AUC points')\n",
    "plt.scatter(gridsrch_parameters1, cv_auc, label='CV AUC points')\n",
    "\n",
    "plt.legend()\n",
    "plt.xlabel(\"alpha hyperparameter\")\n",
    "plt.xscale('log')\n",
    "plt.grid()\n",
    "plt.ylabel(\"AUC\")\n",
    "plt.title(\"ERROR PLOTS\")"
   ]
  },
  {
   "cell_type": "markdown",
   "metadata": {},
   "source": [
    "**observation**\n",
    "* in above linear svm  we have used l2 regulerization.\n",
    "\n",
    "* we can choose best alpha value  as 0.01"
   ]
  },
  {
   "cell_type": "markdown",
   "metadata": {},
   "source": [
    "### Now we can observe how our  best'alpha' hyper  parameter value perform on Train AUROC and Test AUROC curves"
   ]
  },
  {
   "cell_type": "code",
   "execution_count": 104,
   "metadata": {},
   "outputs": [],
   "source": [
    "#our best hyperparameter\n",
    "best_alpha1 = 0.01"
   ]
  },
  {
   "cell_type": "code",
   "execution_count": 105,
   "metadata": {},
   "outputs": [
    {
     "data": {
      "image/png": "[encoded data removed]",
      "text/plain": [
       "<Figure size 432x288 with 1 Axes>"
      ]
     },
     "metadata": {
      "needs_background": "light"
     },
     "output_type": "display_data"
    }
   ],
   "source": [
    "\n",
    "#linear svm\n",
    "lnr_clf_model = SGDClassifier(loss='hinge',penalty='l2', max_iter=400,alpha=best_alpha1, random_state=0)\n",
    "#use for get probablities of each output label\n",
    "calibrated_clf = CalibratedClassifierCV(base_estimator=lnr_clf_model, method='isotonic')  # set the SGD classifier as the base estimator\n",
    "\n",
    "\n",
    "calibrated_clf.fit(strd_tfidfw2vtrain_data , y_train)   #classifier fit on the tfidf train data\n",
    "# roc_auc_score(y_true, y_score) the 2nd parameter should be probability estimates  positive class\n",
    "\n",
    "y_train_pred = batch_predict(calibrated_clf,strd_tfidfw2vtrain_data)    \n",
    "y_test_pred = batch_predict(calibrated_clf, strd_tfidfw2vtest_data)\n",
    "\n",
    "#each  thresold (tow) caluculate the (train_fpr = false positive rate) and  (tpr = tru positive rate)\n",
    "train_fpr, train_tpr, tr_thresholds = roc_curve(y_train, y_train_pred) #threshoulds on probablity score of train data class label\n",
    "test_fpr, test_tpr, ts_thresholds = roc_curve(y_test, y_test_pred)#threshoulds on probablity score of test data class label\n",
    "\n",
    "plt.plot(train_fpr, train_tpr, label=\"train AUC =\"+str(auc(train_fpr, train_tpr)))  #plot train auc  based on each threshold train tpr and train fpr\n",
    "plt.plot(test_fpr, test_tpr, label=\"test AUC =\"+str(auc(test_fpr, test_tpr)))  #plot train auc  based on each threshold train tpr and train fpr\n",
    "plt.xlabel(\"alpha_values: hyperparameters\")\n",
    "plt.ylabel(\"AUC\")\n",
    "plt.title(\"AUROC plot\")\n",
    "plt.grid()\n",
    "plt.legend()\n",
    "plt.show()"
   ]
  },
  {
   "cell_type": "markdown",
   "metadata": {},
   "source": [
    "### observation:\n",
    "1. train auc and test auc both are above to the ideal roc curve.\n",
    "2. AUC(performence metric) on train data = 0.64 and AUC on test data = 0.63"
   ]
  },
  {
   "cell_type": "markdown",
   "metadata": {},
   "source": [
    "### <font color='purple'>Confusion matrix</font>\n",
    "\n",
    "confusion matrix using for find  how many true_positive, true_negetive, false_positive and false negetive on train and test data"
   ]
  },
  {
   "cell_type": "code",
   "execution_count": 106,
   "metadata": {},
   "outputs": [
    {
     "name": "stdout",
     "output_type": "stream",
     "text": [
      "Train data confusion matrix\n",
      "the maximum value of tpr*(1-fpr) 0.36850765350327164 for threshold 0.845\n",
      "Confusion Matrix:\n",
      " [[ 4453  2973]\n",
      " [16041 25574]]\n",
      "****************************************\n",
      "Test data confusion matrix\n",
      "the maximum value of tpr*(1-fpr) 0.3644494892306641 for threshold 0.848\n",
      "Confusion Matrix:\n",
      " [[ 3322  2137]\n",
      " [12271 18322]]\n"
     ]
    },
    {
     "data": {
      "text/plain": [
       "<matplotlib.axes._subplots.AxesSubplot at 0x7f8b3c8bb080>"
      ]
     },
     "execution_count": 106,
     "metadata": {},
     "output_type": "execute_result"
    },
    {
     "data": {
      "image/png": "[encoded data removed]",
      "text/plain": [
       "<Figure size 432x288 with 4 Axes>"
      ]
     },
     "metadata": {
      "needs_background": "light"
     },
     "output_type": "display_data"
    }
   ],
   "source": [
    "#https://stackoverflow.com/questions/45192483/reason-for-transposed-confusion-matrix-in-heatmap\n",
    "#https://seaborn.pydata.org/generated/seaborn.heatmap.html\n",
    "\n",
    "fig=plt.figure(1)\n",
    "a = fig.add_subplot(211)\n",
    "from sklearn.metrics import confusion_matrix\n",
    "print(\"Train data confusion matrix\")\n",
    "a = confusion_matrix(y_train, predict(y_train_pred, tr_thresholds,train_fpr, train_tpr))     #predicting tpr,fpr,tnr,fnr on y_train of x train data\n",
    "print(\"Confusion Matrix:\\n\",a)\n",
    "print(\"*\"*40)\n",
    "sns.heatmap(a,annot = True,fmt='g')    #annot = True rectanguler dataset\n",
    "\n",
    "b = fig.add_subplot(212)\n",
    "print(\"Test data confusion matrix\")\n",
    "b = confusion_matrix(y_test,predict(y_test_pred, ts_thresholds, test_fpr, test_tpr))\n",
    "print(\"Confusion Matrix:\\n\",b)\n",
    "sns.heatmap(b,annot = True,fmt='g')    #annot = True rectanguler dataset"
   ]
  },
  {
   "cell_type": "markdown",
   "metadata": {},
   "source": [
    "**observation:**\n",
    "* in above figure 1 we have 2 sub plots 1st subplot implies train data sonfusion matrix, 2 subplot implies test data confusion matrix\n",
    "* in train confusion matrix we have  25574 true positive values,16041fpr values,4453 tnr values,2973 fnr values \n",
    "* in test confusion matrix we have 18322 true positive values,12271fpr values, 3322 tnr values, 2137 fnr values "
   ]
  },
  {
   "cell_type": "markdown",
   "metadata": {},
   "source": [
    "# 8.Creating (SET5):\n",
    "## <font color='green'> data matix with all categorical, all numerical,essay(TFIDF)</font>"
   ]
  },
  {
   "cell_type": "markdown",
   "metadata": {},
   "source": [
    "## 8.1 perorming truncated svd on preprocessed essay text"
   ]
  },
  {
   "cell_type": "code",
   "execution_count": 107,
   "metadata": {},
   "outputs": [],
   "source": [
    "# Load  truncated svd library\n",
    "from sklearn.decomposition import TruncatedSVD\n",
    "\n",
    "#tfidf vectorization on preprocessed essay text\n",
    "#ngram_range=(1,2) selecting unigrams and bigrams\n",
    "vectorizer2 = TfidfVectorizer(min_df=10,ngram_range=(1,2), max_features=5000)#select maximum vectorized features = 5000\n",
    "tfidf_data=vectorizer2.fit_transform(project_data['preproccessed_essay_text'].values)"
   ]
  },
  {
   "cell_type": "markdown",
   "metadata": {},
   "source": [
    "**standardizing the vectorized data**"
   ]
  },
  {
   "cell_type": "code",
   "execution_count": 108,
   "metadata": {},
   "outputs": [],
   "source": [
    "# Standardize the feature matrix\n",
    "strd_tfidf_essay_data = StandardScaler(with_mean=False).fit_transform(tfidf_data)"
   ]
  },
  {
   "cell_type": "code",
   "execution_count": 109,
   "metadata": {},
   "outputs": [
    {
     "name": "stdout",
     "output_type": "stream",
     "text": [
      "(109248, 5000)\n",
      "****************************************\n"
     ]
    }
   ],
   "source": [
    "print(strd_tfidf_essay_data.shape)\n",
    "\n",
    "print(\"*\"*40)\n",
    "\n",
    "strd_tfidf_essay_data1= strd_tfidf_essay_data    #creating variable and storing our  strd_tfidf_essay_data"
   ]
  },
  {
   "cell_type": "code",
   "execution_count": 110,
   "metadata": {},
   "outputs": [],
   "source": [
    "#https://scikit-learn.org/stable/modules/generated/sklearn.decomposition.TruncatedSVD.html\n",
    "svd = TruncatedSVD(algorithm='randomized', n_iter=5,)\n",
    "\n",
    "svd.n_components=300        #components\n",
    "\n",
    "svd_data = svd.fit_transform(strd_tfidf_essay_data1)\n",
    "\n",
    "#varience explanation\n",
    "percentage_var_explained = svd.explained_variance_/np.sum(svd.explained_variance_)\n",
    "#cdf\n",
    "cum_var_explained = np.cumsum(percentage_var_explained)\n",
    "\n"
   ]
  },
  {
   "cell_type": "code",
   "execution_count": 111,
   "metadata": {},
   "outputs": [
    {
     "data": {
      "image/png": "[encoded data removed]",
      "text/plain": [
       "<Figure size 432x288 with 1 Axes>"
      ]
     },
     "metadata": {
      "needs_background": "light"
     },
     "output_type": "display_data"
    }
   ],
   "source": [
    "#plot \n",
    "plt.figure(1, figsize=(6,4))\n",
    "\n",
    "plt.clf()  #clear figure\n",
    "plt.plot(cum_var_explained, linewidth=2)\n",
    "plt.axis('tight')\n",
    "plt.xlabel('n_components')\n",
    "plt.ylabel('commulative_explained_varience')\n",
    "plt.title('cdf of varience_explained')\n",
    "plt.grid()\n",
    "plt.show()"
   ]
  },
  {
   "cell_type": "markdown",
   "metadata": {},
   "source": [
    "### observation: \n",
    "   **according to the above figure 80% varience at 200 dimensionas so we pickup 200 dimensions and perorm model on 200 dimension data**"
   ]
  },
  {
   "cell_type": "markdown",
   "metadata": {},
   "source": [
    "## 8.2 configure the parameter n.components=200"
   ]
  },
  {
   "cell_type": "code",
   "execution_count": 112,
   "metadata": {},
   "outputs": [
    {
     "name": "stdout",
     "output_type": "stream",
     "text": [
      "the shape of pca reduced shape: (109248, 200)\n"
     ]
    }
   ],
   "source": [
    "# configuring the parameteres\n",
    "# the number of components = 200\n",
    "\n",
    "svd.n_components=200\n",
    "\n",
    "svd_essay_data = svd.fit_transform(strd_tfidf_essay_data1)\n",
    "\n",
    "print(\"the shape of pca reduced shape:\",svd_essay_data.shape)"
   ]
  },
  {
   "cell_type": "markdown",
   "metadata": {},
   "source": [
    "### class label is project_is_approved"
   ]
  },
  {
   "cell_type": "code",
   "execution_count": 113,
   "metadata": {},
   "outputs": [
    {
     "data": {
      "text/plain": [
       "array([0, 1, 0, ..., 1, 1, 1])"
      ]
     },
     "execution_count": 113,
     "metadata": {},
     "output_type": "execute_result"
    }
   ],
   "source": [
    "#y is classlabel\n",
    "y"
   ]
  },
  {
   "cell_type": "code",
   "execution_count": 114,
   "metadata": {},
   "outputs": [
    {
     "name": "stdout",
     "output_type": "stream",
     "text": [
      "svd_essay_data shape: (109248, 200)\n",
      "class label shape: (109248,)\n"
     ]
    }
   ],
   "source": [
    "print(\"svd_essay_data shape:\",svd_essay_data.shape)\n",
    "print(\"class label shape:\", y.shape)"
   ]
  },
  {
   "cell_type": "markdown",
   "metadata": {},
   "source": [
    "### 8.3 splitiing the data"
   ]
  },
  {
   "cell_type": "code",
   "execution_count": 115,
   "metadata": {},
   "outputs": [
    {
     "name": "stdout",
     "output_type": "stream",
     "text": [
      "data after splitting:\n",
      "(49041, 200) (49041,)\n",
      "(24155, 200) (24155,)\n",
      "(36052, 200) (36052,)\n"
     ]
    }
   ],
   "source": [
    "# splitting into train, crossvalidation and test data\n",
    "from sklearn.model_selection import train_test_split\n",
    "\n",
    "# split the data set into train and test\n",
    "X_train_tcvdtfidf_essay, X_test_tcvdtfidf_essay, y_train, y_test = train_test_split(svd_essay_data, y, test_size=0.33, stratify=y)  # split 33% data in test data and  67% in train data\n",
    "X_train_tcvdtfidf_essay, X_cv_tcvdtfidf_essay, y_train, y_cv = train_test_split(X_train_tcvdtfidf_essay, y_train, test_size=0.33, stratify=y_train)  #split train data into train and cross_valiadation\n",
    "\n",
    "#print shape of splitted data\n",
    "print(\"data after splitting:\")\n",
    "print(X_train_tcvdtfidf_essay.shape, y_train.shape)\n",
    "print(X_cv_tcvdtfidf_essay.shape, y_cv.shape)\n",
    "print(X_test_tcvdtfidf_essay.shape, y_test.shape)"
   ]
  },
  {
   "cell_type": "markdown",
   "metadata": {},
   "source": [
    "## 8.4 now Creating (SET5):\n",
    "## <font color='blue'> data matix with all categorical, all numerical,truncated_svd_ peroformed essay(TFIDF)</font>"
   ]
  },
  {
   "cell_type": "code",
   "execution_count": 116,
   "metadata": {},
   "outputs": [
    {
     "name": "stdout",
     "output_type": "stream",
     "text": [
      "************************************************************\n",
      "Final set5 Data matrix:\n",
      "(49041, 5098) (49041,)\n",
      "(24155, 5098) (24155,)\n",
      "(36052, 5098) (36052,)\n"
     ]
    }
   ],
   "source": [
    "# merge two sparse matrices: https://stackoverflow.com/a/19710648/4084039\n",
    "#concatinating features\n",
    "from scipy.sparse import hstack\n",
    "X_tr11 = hstack((X_train_tcvdtfidf_essay,X_train_title_tfidf, X_train_state_onehot, X_train_teacher_prefix_onehot, X_train_proj_grade_onehot, X_train_proj_categories_onehot, X_train_proj_subcategories_onehot,X_train_prvs_posted_prjcts_norm, X_train_price_norm,X_train_quantity_norm )).tocsr()\n",
    "X_cr11 = hstack((X_cv_tcvdtfidf_essay,X_cv_title_tfidf,   X_cv_state_onehot, X_cv_teacher_prefix_onehot,  X_cv_proj_grade_onehot, X_cv_proj_categories_onehot ,  X_cv_proj_subcategories_onehot,  X_cv_prvs_posted_prjcts_norm , X_cv_price_norm, X_cv_quantity_norm )).tocsr()\n",
    "X_te11 = hstack((X_test_tcvdtfidf_essay,X_test_title_tfidf, X_test_state_onehot, X_test_teacher_prefix_onehot,X_test_proj_grade_onehot, X_test_proj_categories_onehot,X_test_proj_subcategories_onehot, X_test_prvs_posted_prjcts_norm, X_test_price_norm,X_test_quantity_norm  )).tocsr()\n",
    "\n",
    "print(\"*\"*60)\n",
    "print(\"Final set5 Data matrix:\")\n",
    "print(X_tr11.shape, y_train.shape)\n",
    "print(X_cr11.shape, y_cv.shape)\n",
    "print(X_te11.shape, y_test.shape)"
   ]
  },
  {
   "cell_type": "code",
   "execution_count": 117,
   "metadata": {},
   "outputs": [
    {
     "name": "stdout",
     "output_type": "stream",
     "text": [
      "(49041, 5098)\n",
      "(24155, 5098)\n",
      "(36052, 5098)\n"
     ]
    }
   ],
   "source": [
    "#https://scikit-learn.org/stable/modules/generated/sklearn.preprocessing.StandardScaler.html\n",
    "from sklearn.preprocessing import StandardScaler\n",
    "\n",
    "#standardization train data\n",
    "strd1 = StandardScaler(with_mean=False)\n",
    "strd1.fit(X_tr11)\n",
    "\n",
    "strd_tfidftrain_tcvd_data = strd1.transform(X_tr11)\n",
    "print(strd_tfidftrain_tcvd_data.shape)\n",
    "#standardization crosas validationdata\n",
    "strd_tfidfcrv_tcvd_data = strd1.transform(X_cr11)\n",
    "print(strd_tfidfcrv_tcvd_data.shape)\n",
    "#standardization test data\n",
    "strd_tfidftest_tcvd_data=strd1.transform(X_te11)\n",
    "print(strd_tfidftest_tcvd_data.shape)"
   ]
  },
  {
   "cell_type": "markdown",
   "metadata": {},
   "source": [
    "## <font color='blue'>best parameter tuning using Grid search technique</font>"
   ]
  },
  {
   "cell_type": "code",
   "execution_count": 120,
   "metadata": {},
   "outputs": [
    {
     "name": "stdout",
     "output_type": "stream",
     "text": [
      "{'base_estimator__alpha': 0.1}\n"
     ]
    },
    {
     "data": {
      "text/plain": [
       "Text(0.5, 1.0, 'ERROR PLOTS')"
      ]
     },
     "execution_count": 120,
     "metadata": {},
     "output_type": "execute_result"
    },
    {
     "data": {
      "image/png": "[encoded data removed]",
      "text/plain": [
       "<Figure size 432x288 with 1 Axes>"
      ]
     },
     "metadata": {
      "needs_background": "light"
     },
     "output_type": "display_data"
    }
   ],
   "source": [
    "#https://scikit-learn.org/stable/modules/generated/sklearn.linear_model.SGDClassifier.html\n",
    "#https://scikit-learn.org/stable/modules/generated/sklearn.calibration.CalibratedClassifierCV.html\n",
    "#https://stackoverflow.com/questions/55893734/how-can-i-use-sgdclassifier-hinge-loss-with-gridsearchcv-using-log-loss-metric\n",
    "\n",
    "from sklearn.linear_model import SGDClassifier\n",
    "from sklearn.calibration import CalibratedClassifierCV\n",
    "from sklearn.model_selection import GridSearchCV\n",
    "from sklearn.model_selection import GridSearchCV\n",
    "\n",
    "#linear svm using SGDclassifier hinge loss\n",
    "lnr_clf_model = SGDClassifier(loss='hinge',penalty='l2', max_iter=600, random_state=0)\n",
    "#use for get probablities of each output label\n",
    "calibrated_clf = CalibratedClassifierCV(base_estimator=lnr_clf_model, method='isotonic')  # set the SGD classifier as the base estimator\n",
    "\n",
    "\n",
    "gridsrch_parameters  = {'base_estimator__alpha': [0.0001, 0.001, 0.01, 0.1,10,100,1000,10000]}  # note 'base_estimator__' in the params because you want to change params in the SGDClassifier\n",
    "gridsrch_parameters1  = [i  for i in gridsrch_parameters['base_estimator__alpha']]   #(tuned parameters) : easy to read on x axis\n",
    "\n",
    "\n",
    "grid_search = GridSearchCV(estimator=calibrated_clf, param_grid=gridsrch_parameters,scoring='roc_auc', cv=3,return_train_score=True)\n",
    "grid_search.fit(strd_tfidftrain_tcvd_data, y_train)\n",
    "\n",
    "print(grid_search.best_params_)\n",
    "\n",
    "\n",
    "train_auc= grid_search.cv_results_['mean_train_score']\n",
    "train_auc_std= grid_search.cv_results_['std_train_score']\n",
    "cv_auc = grid_search.cv_results_['mean_test_score'] \n",
    "cv_auc_std= grid_search.cv_results_['std_test_score']\n",
    "\n",
    "plt.plot(gridsrch_parameters1, train_auc, label='Train AUC')\n",
    "# this code is copied from here: https://stackoverflow.com/a/48803361/4084039\n",
    "plt.gca().fill_between(gridsrch_parameters1,train_auc - train_auc_std,train_auc + train_auc_std,alpha=0.2,color='darkblue')\n",
    "\n",
    "plt.plot(gridsrch_parameters1, cv_auc, label='CV AUC')\n",
    "# this code is copied from here: https://stackoverflow.com/a/48803361/4084039\n",
    "plt.gca().fill_between(gridsrch_parameters1,cv_auc - cv_auc_std,cv_auc + cv_auc_std,alpha=0.2,color='darkorange')\n",
    "\n",
    "plt.scatter(gridsrch_parameters1, train_auc, label='Train AUC points')\n",
    "plt.scatter(gridsrch_parameters1, cv_auc, label='CV AUC points')\n",
    "\n",
    "plt.legend()\n",
    "plt.xlabel(\"alpha hyperparameter\")\n",
    "plt.xscale('log')\n",
    "plt.grid()\n",
    "plt.ylabel(\"AUC\")\n",
    "plt.title(\"ERROR PLOTS\")"
   ]
  },
  {
   "cell_type": "markdown",
   "metadata": {},
   "source": [
    "**observation**\n",
    "* in above linear svm  we have used l2 regulerization.\n",
    "* accordung to the above plot train auc at alpha value 10^-4 our model is overfit \n",
    "* we can choose best alpha value  as 10"
   ]
  },
  {
   "cell_type": "markdown",
   "metadata": {},
   "source": [
    "### Now we can observe how our  best'alpha' hyper  parameter value perform on Train AUROC and Test AUROC curves"
   ]
  },
  {
   "cell_type": "code",
   "execution_count": 121,
   "metadata": {},
   "outputs": [],
   "source": [
    "#our best hyperparameter\n",
    "best_alpha = 0.1"
   ]
  },
  {
   "cell_type": "code",
   "execution_count": 123,
   "metadata": {},
   "outputs": [
    {
     "data": {
      "image/png": "[encoded data removed]",
      "text/plain": [
       "<Figure size 432x288 with 1 Axes>"
      ]
     },
     "metadata": {
      "needs_background": "light"
     },
     "output_type": "display_data"
    }
   ],
   "source": [
    "#linear svm\n",
    "lnr_clf_model = SGDClassifier(loss='hinge',penalty='l2', max_iter=400,alpha=best_alpha, random_state=0)\n",
    "#use for get probablities of each output label\n",
    "calibrated_clf = CalibratedClassifierCV(base_estimator=lnr_clf_model, method='isotonic')  \n",
    "\n",
    "calibrated_clf.fit(strd_tfidftrain_tcvd_data , y_train)   #classifier fit on the tfidf train data\n",
    "# roc_auc_score(y_true, y_score) the 2nd parameter should be probability estimates  positive class\n",
    "\n",
    "y_train_pred = batch_predict(calibrated_clf,strd_tfidftrain_tcvd_data)    \n",
    "y_test_pred = batch_predict(calibrated_clf, strd_tfidftest_tcvd_data)\n",
    "\n",
    "#each  thresold (tow) caluculate the (train_fpr = false positive rate) and  (tpr = tru positive rate)\n",
    "train_fpr, train_tpr, tr_thresholds = roc_curve(y_train, y_train_pred) #threshoulds on probablity score of train data class label\n",
    "test_fpr, test_tpr, ts_thresholds = roc_curve(y_test, y_test_pred)#threshoulds on probablity score of test data class label\n",
    "\n",
    "plt.plot(train_fpr, train_tpr, label=\"train AUC =\"+str(auc(train_fpr, train_tpr)))  #plot train auc  based on each threshold train tpr and train fpr\n",
    "plt.plot(test_fpr, test_tpr, label=\"test AUC =\"+str(auc(test_fpr, test_tpr)))  #plot train auc  based on each threshold train tpr and train fpr\n",
    "plt.xlabel(\"alpha_values: hyperparameters\")\n",
    "plt.ylabel(\"AUC\")\n",
    "plt.title(\"AUROC plot\")\n",
    "plt.grid()\n",
    "plt.legend()\n",
    "plt.show()"
   ]
  },
  {
   "cell_type": "markdown",
   "metadata": {},
   "source": [
    "### observation:\n",
    "1. train auc and test auc both are above to the ideal roc curve.\n",
    "2. AUC(performence metric) on train data = 0.67 and AUC on test data = 0.62"
   ]
  },
  {
   "cell_type": "markdown",
   "metadata": {},
   "source": [
    "### <font color='purple'>Confusion matrix</font>\n",
    "\n",
    "confusion matrix using for find  how many true_positive, true_negetive, false_positive and false negetive on train and test data"
   ]
  },
  {
   "cell_type": "code",
   "execution_count": 125,
   "metadata": {},
   "outputs": [
    {
     "name": "stdout",
     "output_type": "stream",
     "text": [
      "Train data confusion matrix\n",
      "the maximum value of tpr*(1-fpr) 0.49875754041663967 for threshold 0.834\n",
      "Confusion Matrix:\n",
      " [[ 5078  2348]\n",
      " [11262 30353]]\n",
      "****************************************\n",
      "Test data confusion matrix\n",
      "the maximum value of tpr*(1-fpr) 0.3480302437523242 for threshold 0.849\n",
      "Confusion Matrix:\n",
      " [[ 3292  2167]\n",
      " [12937 17656]]\n"
     ]
    },
    {
     "data": {
      "text/plain": [
       "<matplotlib.axes._subplots.AxesSubplot at 0x7f8b93ab1b70>"
      ]
     },
     "execution_count": 125,
     "metadata": {},
     "output_type": "execute_result"
    },
    {
     "data": {
      "image/png": "[encoded data removed]",
      "text/plain": [
       "<Figure size 432x288 with 4 Axes>"
      ]
     },
     "metadata": {
      "needs_background": "light"
     },
     "output_type": "display_data"
    }
   ],
   "source": [
    "#https://stackoverflow.com/questions/45192483/reason-for-transposed-confusion-matrix-in-heatmap\n",
    "#https://seaborn.pydata.org/generated/seaborn.heatmap.html\n",
    "\n",
    "fig=plt.figure(1)\n",
    "a = fig.add_subplot(211)\n",
    "from sklearn.metrics import confusion_matrix\n",
    "print(\"Train data confusion matrix\")\n",
    "a = confusion_matrix(y_train, predict(y_train_pred, tr_thresholds,train_fpr, train_tpr))     #predicting tpr,fpr,tnr,fnr on y_train of x train data\n",
    "print(\"Confusion Matrix:\\n\",a)\n",
    "print(\"*\"*40)\n",
    "sns.heatmap(a,annot = True,fmt='g')    #annot = True rectanguler dataset\n",
    "\n",
    "b = fig.add_subplot(212)\n",
    "print(\"Test data confusion matrix\")\n",
    "b = confusion_matrix(y_test,predict(y_test_pred, ts_thresholds, test_fpr, test_tpr))\n",
    "print(\"Confusion Matrix:\\n\",b)\n",
    "sns.heatmap(b,annot = True,fmt='g')    #annot = True rectanguler dataset"
   ]
  },
  {
   "cell_type": "markdown",
   "metadata": {},
   "source": [
    "**observation:**\n",
    "* in above figure 1 we have 2 sub plots 1st subplot implies train data sonfusion matrix, 2 subplot implies test data confusion matrix\n",
    "* in train confusion matrix we have  30353 true positive values, 11262 fpr values, 5078 tnr values,2348 fnr values \n",
    "* in test confusion matrix we have  17656 true positive values,12937 fpr values,  3292 tnr values,2167 fnr values "
   ]
  },
  {
   "cell_type": "markdown",
   "metadata": {},
   "source": [
    "# Summary(Conclusion):\n",
    "* we have used one other alternative way to perform linear svm by using SGDclassifier(loss='hinge') it work as same as sklearn.svm.SVC\n",
    "* hinge loss it is  soft svm formulation minimizing the loss function\n",
    "* we did performe CalibratedClassifierCV, it is for finding probablity score on each class label \n",
    "* we have find best alpha hyper parameter by using grid search method linear svm with sgd classifier on 5 sets data.\n",
    "* we can  observe all AUROC values on plots for each set(se1...set5) then we can choose best 'alpha' value  on set1 which consists train auc is 0.85 test auc 0.69  then we can select best hyper'alpha' parameter value is 1.\n",
    "* cofusion matrix  gives us clear details about how many true positive points and false positive points,true negetive points and false negetive points for each set data."
   ]
  },
  {
   "cell_type": "markdown",
   "metadata": {},
   "source": [
    "# Summary in Tabular form\n",
    "### all results summarized in the tabular form"
   ]
  },
  {
   "cell_type": "code",
   "execution_count": 126,
   "metadata": {},
   "outputs": [
    {
     "name": "stdout",
     "output_type": "stream",
     "text": [
      "+------------------------------------------------+--------------------+----------------------------------+------+\n",
      "|         data with vectorized features          |       Model        | Hyper_parameter_best_alpha value | AUC  |\n",
      "+------------------------------------------------+--------------------+----------------------------------+------+\n",
      "|    set1(all numrcal,ctgrc+essay&tite(BOW))     | linear_svm_sgd_clf |               0.1                | 0.87 |\n",
      "|    set2(all numrcal,ctgrc+essay&tite(TFIDF)    | linear_svm_sgd_clf |                10                | 0.67 |\n",
      "|   set3(all numrcal,ctgrc+essay&tite(avgw2v))   | linear_svm_sgd_clf |               0.01               | 0.65 |\n",
      "|  set4(all numrcal,ctgrc+essay&tite(tfidfw2v))  | linear_svm_sgd_clf |               0.01               | 0.64 |\n",
      "| set5(all nmrcl,ctgrc+truncatedsvd_tfidf_essay) | linear_svm_sgd_clf |               0.1                | 0.67 |\n",
      "+------------------------------------------------+--------------------+----------------------------------+------+\n"
     ]
    }
   ],
   "source": [
    "#http://zetcode.com/python/prettytable/\n",
    "from prettytable import PrettyTable\n",
    "a = PrettyTable()\n",
    "a.field_names = [\"data with vectorized features\",\"Model\",\"Hyper_parameter_best_alpha value\", \"AUC\"]\n",
    "\n",
    "a.add_row([\"set1(all numrcal,ctgrc+essay&tite(BOW))\", \"linear_svm_sgd_clf\",0.1,0.87 ])\n",
    "a.add_row([\"set2(all numrcal,ctgrc+essay&tite(TFIDF)\", \"linear_svm_sgd_clf\",10,0.67])\n",
    "a.add_row([\"set3(all numrcal,ctgrc+essay&tite(avgw2v))\", \"linear_svm_sgd_clf\",0.01,0.65 ])\n",
    "a.add_row([\"set4(all numrcal,ctgrc+essay&tite(tfidfw2v))\", \"linear_svm_sgd_clf\",0.01,0.64 ])\n",
    "a.add_row([\"set5(all nmrcl,ctgrc+truncatedsvd_tfidf_essay)\", \"linear_svm_sgd_clf\",0.1,0.67 ])\n",
    "print(a)"
   ]
  },
  {
   "cell_type": "code",
   "execution_count": null,
   "metadata": {},
   "outputs": [],
   "source": []
  }
 ],
 "metadata": {
  "kernelspec": {
   "display_name": "Python 3",
   "language": "python",
   "name": "python3"
  },
  "language_info": {
   "codemirror_mode": {
    "name": "ipython",
    "version": 3
   },
   "file_extension": ".py",
   "mimetype": "text/x-python",
   "name": "python",
   "nbconvert_exporter": "python",
   "pygments_lexer": "ipython3",
   "version": "3.6.8"
  }
 },
 "nbformat": 4,
 "nbformat_minor": 2
}
