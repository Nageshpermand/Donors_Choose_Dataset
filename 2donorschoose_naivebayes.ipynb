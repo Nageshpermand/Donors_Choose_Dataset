{
 "cells": [
  {
   "cell_type": "markdown",
   "metadata": {},
   "source": [
    "# About Donorschoose organisation"
   ]
  },
  {
   "cell_type": "markdown",
   "metadata": {},
   "source": [
    "\n",
    "DonorsChoose.org receives hundreds of thousands of project proposals each year for classroom projects in need of funding. Right now, a large number of volunteers is needed to manually screen each submission before it's approved to be posted on the DonorsChoose.org website.\n",
    "\n",
    "\n",
    "\n",
    "Next year, DonorsChoose.org expects to receive close to 500,000 project proposals. As a result, there are three main problems they need to solve: \n",
    "* How to scale current manual processes and resources to screen 500,000 projects so that they can be posted as quickly and as efficiently as possible\n",
    "* How to increase the consistency of project vetting across different volunteers to improve the experience for teachers\n",
    "* How to focus volunteer time on the applications that need the most assistance</li>\n",
    "   \n",
    "\n",
    "\n",
    "The goal of the competition is to predict whether or not a DonorsChoose.org project proposal submitted by a teacher will be approved, using the text of project descriptions as well as additional metadata about the project, teacher, and school. DonorsChoose.org can then use this information to identify projects most likely to need further review before approval."
   ]
  },
  {
   "cell_type": "markdown",
   "metadata": {},
   "source": [
    "## Understand the DonorsChoose Data Set's Attributes\n",
    "\n",
    "There are two files:   1.train_data.csv(consists 17 features)\n",
    "\n",
    "                2.resources.csv(consists 4 features)\n",
    "\n",
    "The `train.csv` data set provided by DonorsChoose contains the following features:\n",
    "\n",
    "Feature | Description \n",
    "----------|---------------\n",
    "**`project_id`** | A unique identifier for the proposed project. **Example:** `p036502`   \n",
    "**`project_title`**    | Title of the project. **Examples:**<br><ul><li><code>Art Will Make You Happy!</code></li><li><code>First Grade Fun</code></li></ul> \n",
    "**`project_grade_category`** | Grade level of students for which the project is targeted. One of the following enumerated values: <br/><ul><li><code>Grades PreK-2</code></li><li><code>Grades 3-5</code></li><li><code>Grades 6-8</code></li><li><code>Grades 9-12</code></li></ul>  \n",
    " **`project_subject_categories`** | One or more (comma-separated) subject categories for the project from the following enumerated list of values:  <br/><ul><li><code>Applied Learning</code></li><li><code>Care &amp; Hunger</code></li><li><code>Health &amp; Sports</code></li><li><code>History &amp; Civics</code></li><li><code>Literacy &amp; Language</code></li><li><code>Math &amp; Science</code></li><li><code>Music &amp; The Arts</code></li><li><code>Special Needs</code></li><li><code>Warmth</code></li></ul><br/> **Examples:** <br/><ul><li><code>Music &amp; The Arts</code></li><li><code>Literacy &amp; Language, Math &amp; Science</code></li>  \n",
    "  **`school_state`** | State where school is located ([Two-letter U.S. postal code](https://en.wikipedia.org/wiki/List_of_U.S._state_abbreviations#Postal_codes)). **Example:** `WY`\n",
    "**`project_subject_subcategories`** | One or more (comma-separated) subject subcategories for the project. **Examples:** <br/><ul><li><code>Literacy</code></li><li><code>Literature &amp; Writing, Social Sciences</code></li></ul> \n",
    "**`project_resource_summary`** | An explanation of the resources needed for the project. **Example:** <br/><ul><li><code>My students need hands on literacy materials to manage sensory needs!</code</li></ul> \n",
    "**`project_essay_1`**    | First application essay<sup>*</sup>  \n",
    "**`project_essay_2`**    | Second application essay<sup>*</sup> \n",
    "**`project_essay_3`**    | Third application essay<sup>*</sup> \n",
    "**`project_essay_4`**    | Fourth application essay<sup>*</sup> \n",
    "**`project_submitted_datetime`** | Datetime when project application was submitted. **Example:** `2016-04-28 12:43:56.245`   \n",
    "**`teacher_id`** | A unique identifier for the teacher of the proposed project. **Example:** `bdf8baa8fedef6bfeec7ae4ff1c15c56`  \n",
    "**`teacher_prefix`** | Teacher's title. One of the following enumerated values: <br/><ul><li><code>nan</code></li><li><code>Dr.</code></li><li><code>Mr.</code></li><li><code>Mrs.</code></li><li><code>Ms.</code></li><li><code>Teacher.</code></li></ul>  \n",
    "**`teacher_number_of_previously_posted_projects`** | Number of project applications previously submitted by the same teacher. **Example:** `2` \n",
    "\n",
    "<sup>*</sup> See the section <b>Notes on the Essay Data</b> for more details about these features.\n",
    "\n",
    "Additionally, the `resources.csv` data set provides more data about the resources required for each project. Each line in this file represents a resource required by a project:\n",
    "\n",
    "Feature | Description \n",
    "----------|---------------\n",
    "**`id`** | A `project_id` value from the `train.csv` file.  **Example:** `p036502`   \n",
    "**`description`** | Desciption of the resource. **Example:** `Tenor Saxophone Reeds, Box of 25`   \n",
    "**`quantity`** | Quantity of the resource required. **Example:** `3`   \n",
    "**`price`** | Price of the resource required. **Example:** `9.95`   \n",
    "\n",
    "**Note:** Many projects require multiple resources. The `id` value corresponds to a `project_id` in train.csv, so you use it as a key to retrieve all resources needed for a project:\n",
    "\n",
    "The data set contains the following label (the value you will attempt to predict):\n",
    "\n",
    "Label | Description\n",
    "----------|---------------\n",
    "`project_is_approved` | A binary flag indicating whether DonorsChoose approved the project. A value of `0` indicates the project was not approved, and a value of `1` indicates the project was approved."
   ]
  },
  {
   "cell_type": "markdown",
   "metadata": {},
   "source": [
    "### Notes on the Essay Data\n",
    "\n",
    "\n",
    "Prior to May 17, 2016, the prompts for the essays were as follows:\n",
    "* __project_essay_1:__ \"Introduce us to your classroom\"</li>\n",
    "* __project_essay_2:__ \"Tell us more about your students\"</li>\n",
    "* __project_essay_3:__ \"Describe how your students will use the materials you're requesting\"</li>\n",
    "* __project_essay_4:__ \"Close by sharing why your project will make a difference\"</li>\n",
    "\n",
    "\n",
    "\n",
    "\n",
    "Starting on May 17, 2016, the number of essays was reduced from 4 to 2, and the prompts for the first 2 essays were changed to the following:\n",
    "__project_essay_1:__ \"Describe your students: What makes your students special? Specific details about their background, your neighborhood, and your school are all helpful.\"\n",
    "\n",
    "\n",
    "__project_essay_2:__ \"About your project: How will these materials make a difference in your students' learning and improve their school lives?\"\n",
    "\n",
    "\n",
    "For all projects with project_submitted_datetime of 2016-05-17 and later, the values of project_essay_3 and project_essay_4 will be NaN.\n"
   ]
  },
  {
   "cell_type": "markdown",
   "metadata": {},
   "source": [
    "### importing all necessary modules"
   ]
  },
  {
   "cell_type": "code",
   "execution_count": 1,
   "metadata": {},
   "outputs": [],
   "source": [
    "#import all necessary modules\n",
    "%matplotlib inline\n",
    "import warnings\n",
    "warnings.filterwarnings(\"ignore\")\n",
    "\n",
    "import sqlite3\n",
    "import pandas as pd\n",
    "import numpy as np\n",
    "import nltk\n",
    "import string\n",
    "import matplotlib.pyplot as plt\n",
    "import seaborn as sns\n",
    "from sklearn.feature_extraction.text import TfidfTransformer\n",
    "from sklearn.feature_extraction.text import TfidfVectorizer\n",
    "\n",
    "from sklearn.feature_extraction.text import CountVectorizer\n",
    "from sklearn.metrics import confusion_matrix\n",
    "from sklearn import metrics\n",
    "from sklearn.metrics import roc_curve, auc\n",
    "from nltk.stem.porter import PorterStemmer\n",
    "\n",
    "import re\n",
    "# Tutorial about Python regular expressions: https://pymotw.com/2/re/\n",
    "import string\n",
    "from nltk.corpus import stopwords\n",
    "from nltk.stem import PorterStemmer\n",
    "from nltk.stem.wordnet import WordNetLemmatizer\n",
    "\n",
    "from tqdm import tqdm\n",
    "import os\n",
    "\n",
    "from collections import Counter\n",
    "\n",
    "from sklearn.model_selection import train_test_split \n",
    "from sklearn.neighbors import KNeighborsClassifier\n",
    "from sklearn.metrics import accuracy_score\n",
    "from sklearn.model_selection import cross_val_score\n",
    "from collections import Counter\n",
    "from sklearn.metrics import accuracy_score\n",
    "from sklearn import model_selection  \n",
    "import matplotlib.pyplot as plt\n",
    "from sklearn.neighbors import KNeighborsClassifier\n",
    "from sklearn.metrics import roc_auc_score\n",
    "from sklearn.metrics import roc_curve, auc\n",
    "\n",
    "from sklearn.naive_bayes import MultinomialNB"
   ]
  },
  {
   "cell_type": "markdown",
   "metadata": {},
   "source": [
    "## 1. Reading Data"
   ]
  },
  {
   "cell_type": "code",
   "execution_count": 2,
   "metadata": {},
   "outputs": [],
   "source": [
    "#load two datafiles into the dataframe\n",
    "project_data = pd.read_csv('train_data.csv')\n",
    "resources_data = pd.read_csv('resources.csv')"
   ]
  },
  {
   "cell_type": "code",
   "execution_count": 3,
   "metadata": {},
   "outputs": [
    {
     "name": "stdout",
     "output_type": "stream",
     "text": [
      "Number of data points in train data (109248, 17)\n",
      "--------------------------------------------------\n",
      "The attributes of data : ['Unnamed: 0' 'id' 'teacher_id' 'teacher_prefix' 'school_state'\n",
      " 'project_submitted_datetime' 'project_grade_category'\n",
      " 'project_subject_categories' 'project_subject_subcategories'\n",
      " 'project_title' 'project_essay_1' 'project_essay_2' 'project_essay_3'\n",
      " 'project_essay_4' 'project_resource_summary'\n",
      " 'teacher_number_of_previously_posted_projects' 'project_is_approved']\n"
     ]
    }
   ],
   "source": [
    "print(\"Number of data points in train data\", project_data.shape)\n",
    "print('-'*50)\n",
    "print(\"The attributes of data :\", project_data.columns.values)"
   ]
  },
  {
   "cell_type": "code",
   "execution_count": 4,
   "metadata": {},
   "outputs": [
    {
     "data": {
      "text/html": [
       "<div>\n",
       "<style scoped>\n",
       "    .dataframe tbody tr th:only-of-type {\n",
       "        vertical-align: middle;\n",
       "    }\n",
       "\n",
       "    .dataframe tbody tr th {\n",
       "        vertical-align: top;\n",
       "    }\n",
       "\n",
       "    .dataframe thead th {\n",
       "        text-align: right;\n",
       "    }\n",
       "</style>\n",
       "<table border=\"1\" class=\"dataframe\">\n",
       "  <thead>\n",
       "    <tr style=\"text-align: right;\">\n",
       "      <th></th>\n",
       "      <th>Unnamed: 0</th>\n",
       "      <th>id</th>\n",
       "      <th>teacher_id</th>\n",
       "      <th>teacher_prefix</th>\n",
       "      <th>school_state</th>\n",
       "      <th>project_submitted_datetime</th>\n",
       "      <th>project_grade_category</th>\n",
       "      <th>project_subject_categories</th>\n",
       "      <th>project_subject_subcategories</th>\n",
       "      <th>project_title</th>\n",
       "      <th>project_essay_1</th>\n",
       "      <th>project_essay_2</th>\n",
       "      <th>project_essay_3</th>\n",
       "      <th>project_essay_4</th>\n",
       "      <th>project_resource_summary</th>\n",
       "      <th>teacher_number_of_previously_posted_projects</th>\n",
       "      <th>project_is_approved</th>\n",
       "    </tr>\n",
       "  </thead>\n",
       "  <tbody>\n",
       "    <tr>\n",
       "      <th>0</th>\n",
       "      <td>160221</td>\n",
       "      <td>p253737</td>\n",
       "      <td>c90749f5d961ff158d4b4d1e7dc665fc</td>\n",
       "      <td>Mrs.</td>\n",
       "      <td>IN</td>\n",
       "      <td>2016-12-05 13:43:57</td>\n",
       "      <td>Grades PreK-2</td>\n",
       "      <td>Literacy &amp; Language</td>\n",
       "      <td>ESL, Literacy</td>\n",
       "      <td>Educational Support for English Learners at Home</td>\n",
       "      <td>My students are English learners that are work...</td>\n",
       "      <td>\\\"The limits of your language are the limits o...</td>\n",
       "      <td>NaN</td>\n",
       "      <td>NaN</td>\n",
       "      <td>My students need opportunities to practice beg...</td>\n",
       "      <td>0</td>\n",
       "      <td>0</td>\n",
       "    </tr>\n",
       "  </tbody>\n",
       "</table>\n",
       "</div>"
      ],
      "text/plain": [
       "   Unnamed: 0       id                        teacher_id teacher_prefix  \\\n",
       "0      160221  p253737  c90749f5d961ff158d4b4d1e7dc665fc           Mrs.   \n",
       "\n",
       "  school_state project_submitted_datetime project_grade_category  \\\n",
       "0           IN        2016-12-05 13:43:57          Grades PreK-2   \n",
       "\n",
       "  project_subject_categories project_subject_subcategories  \\\n",
       "0        Literacy & Language                 ESL, Literacy   \n",
       "\n",
       "                                      project_title  \\\n",
       "0  Educational Support for English Learners at Home   \n",
       "\n",
       "                                     project_essay_1  \\\n",
       "0  My students are English learners that are work...   \n",
       "\n",
       "                                     project_essay_2 project_essay_3  \\\n",
       "0  \\\"The limits of your language are the limits o...             NaN   \n",
       "\n",
       "  project_essay_4                           project_resource_summary  \\\n",
       "0             NaN  My students need opportunities to practice beg...   \n",
       "\n",
       "   teacher_number_of_previously_posted_projects  project_is_approved  \n",
       "0                                             0                    0  "
      ]
     },
     "execution_count": 4,
     "metadata": {},
     "output_type": "execute_result"
    }
   ],
   "source": [
    "#dataframe\n",
    "project_data.head(1)"
   ]
  },
  {
   "cell_type": "code",
   "execution_count": 5,
   "metadata": {},
   "outputs": [
    {
     "data": {
      "text/html": [
       "<div>\n",
       "<style scoped>\n",
       "    .dataframe tbody tr th:only-of-type {\n",
       "        vertical-align: middle;\n",
       "    }\n",
       "\n",
       "    .dataframe tbody tr th {\n",
       "        vertical-align: top;\n",
       "    }\n",
       "\n",
       "    .dataframe thead th {\n",
       "        text-align: right;\n",
       "    }\n",
       "</style>\n",
       "<table border=\"1\" class=\"dataframe\">\n",
       "  <thead>\n",
       "    <tr style=\"text-align: right;\">\n",
       "      <th></th>\n",
       "      <th>id</th>\n",
       "      <th>description</th>\n",
       "      <th>quantity</th>\n",
       "      <th>price</th>\n",
       "    </tr>\n",
       "  </thead>\n",
       "  <tbody>\n",
       "    <tr>\n",
       "      <th>0</th>\n",
       "      <td>p233245</td>\n",
       "      <td>LC652 - Lakeshore Double-Space Mobile Drying Rack</td>\n",
       "      <td>1</td>\n",
       "      <td>149.00</td>\n",
       "    </tr>\n",
       "    <tr>\n",
       "      <th>1</th>\n",
       "      <td>p069063</td>\n",
       "      <td>Bouncy Bands for Desks (Blue support pipes)</td>\n",
       "      <td>3</td>\n",
       "      <td>14.95</td>\n",
       "    </tr>\n",
       "  </tbody>\n",
       "</table>\n",
       "</div>"
      ],
      "text/plain": [
       "        id                                        description  quantity  \\\n",
       "0  p233245  LC652 - Lakeshore Double-Space Mobile Drying Rack         1   \n",
       "1  p069063        Bouncy Bands for Desks (Blue support pipes)         3   \n",
       "\n",
       "    price  \n",
       "0  149.00  \n",
       "1   14.95  "
      ]
     },
     "execution_count": 5,
     "metadata": {},
     "output_type": "execute_result"
    }
   ],
   "source": [
    "#dataframe\n",
    "resources_data.head(2)"
   ]
  },
  {
   "cell_type": "code",
   "execution_count": 6,
   "metadata": {},
   "outputs": [
    {
     "name": "stdout",
     "output_type": "stream",
     "text": [
      "number of datapoints in resources_data: (1541272, 4)\n",
      "********************************************************************************\n",
      "total features in resources_data: Index(['id', 'description', 'quantity', 'price'], dtype='object')\n"
     ]
    }
   ],
   "source": [
    "#print number of datapoints and columns in resources_data\n",
    "print('number of datapoints in resources_data:',resources_data.shape)\n",
    "print(\"*\"*80)\n",
    "print('total features in resources_data:', resources_data.columns)"
   ]
  },
  {
   "cell_type": "markdown",
   "metadata": {},
   "source": [
    "**observation:**\n",
    "* in project data we have 109248 datapoints(rows) and 17 features (columns).\n",
    "* in resources_data we have 1541272 datapoints and  4 features(columns)"
   ]
  },
  {
   "cell_type": "markdown",
   "metadata": {},
   "source": [
    "**'Project_is_approved'** Attribute:\n",
    "* in the project_proposal_data' dataframe we have  'project is approved'  Attribute, it consists with 2 values that are [1]Number of projects approved and [0] number of projects not approved."
   ]
  },
  {
   "cell_type": "markdown",
   "metadata": {},
   "source": [
    "# 2. text preprocessing ( text data& categorical data)"
   ]
  },
  {
   "cell_type": "markdown",
   "metadata": {},
   "source": [
    "### 2.1 project_subject_categories:"
   ]
  },
  {
   "cell_type": "markdown",
   "metadata": {},
   "source": [
    "####project_subject_categories:\n",
    "   examples:\n",
    "    1. Literacy & Language\n",
    "    2. Math & Science\n",
    "    3. Music & The Arts\n",
    "    4. Special Needs\n",
    "    5. Warmth\n",
    "    6. Music & The Arts\n",
    "    7. Literacy & Language, Math & Science..etc.\n",
    "\n",
    "in the above data there are some special charecters we have to remove that special symbols, replace symbols(&) with _, replace space with empty,replace the with empty\n"
   ]
  },
  {
   "cell_type": "markdown",
   "metadata": {},
   "source": [
    "**remove and replace  unwanted symbols, special charecters and words**"
   ]
  },
  {
   "cell_type": "code",
   "execution_count": 7,
   "metadata": {},
   "outputs": [],
   "source": [
    "catogories = list(project_data['project_subject_categories'].values)\n",
    "# https://www.geeksforgeeks.org/removing-stop-words-nltk-python/\n",
    "# https://stackoverflow.com/questions/23669024/how-to-strip-a-specific-word-from-a-string\n",
    "# https://stackoverflow.com/questions/8270092/remove-all-whitespace-in-a-string-in-python\n",
    "l = []  #creat empty list\n",
    "for i in catogories:      #each category ex\"math&Scince\" in catogeries ex[[\"Math & Science\", \"Warmth\", \"Care & Hunger\"]]\n",
    "    temp = \"\"       #empty\n",
    "    # consider we have text like this \"Math & Science, Warmth, Care & Hunger\"\n",
    "    for j in i.split(','): # it will split it in three parts \n",
    "        if 'The' in j.split(): # this will split each of the catogory based on space \n",
    "            j=j.replace('The','') # if we have the words \"The\" we are going to replace it with '' empty\n",
    "        j = j.replace(' ','') # we are placeing all the ' '(space) with ''(empty) \n",
    "        temp+=j.strip()+\" \" #\" abc \".strip() will return \"abc\", remove the trailing spaces\n",
    "        temp = temp.replace('&','_') \n",
    "    l.append(temp.strip())\n",
    "# l is list with all cleaned categories."
   ]
  },
  {
   "cell_type": "code",
   "execution_count": 8,
   "metadata": {},
   "outputs": [],
   "source": [
    "project_data['clean_proj_categories'] = l    #creat new attribute and store all cleaned catogeries into that attribute, \n",
    "project_data.drop(['project_subject_categories'], axis=1, inplace=True) #remove that previous subject_catogery attribute."
   ]
  },
  {
   "cell_type": "markdown",
   "metadata": {},
   "source": [
    "### 2.2 project_grade_category"
   ]
  },
  {
   "cell_type": "code",
   "execution_count": 9,
   "metadata": {},
   "outputs": [],
   "source": [
    "catogories = list(project_data['project_grade_category'].values)\n",
    "# https://www.geeksforgeeks.org/removing-stop-words-nltk-python/\n",
    "# https://stackoverflow.com/questions/23669024/how-to-strip-a-specific-word-from-a-string\n",
    "# https://stackoverflow.com/questions/8270092/remove-all-whitespace-in-a-string-in-python\n",
    "l = []  #creat empty list\n",
    "for i in catogories:      #each category ex\"math&Scince\" in catogeries ex[[\"Math & Science\", \"Warmth\", \"Care & Hunger\"]]\n",
    "    temp = \"\"       #empty\n",
    "    # consider we have text like this \"Math & Science, Warmth, Care & Hunger\"\n",
    "    for j in i.split(','): # it will split it in three parts \n",
    "        j = j.replace(' ','_') # we are placeing all the ' '(space) with ''(empty) \n",
    "        temp+=j.strip()+\" \" #\" abc \".strip() will return \"abc\", remove the trailing spaces\n",
    "        temp = temp.replace('-','_') \n",
    "    l.append(temp.strip())\n",
    "# l is list with all cleaned categories."
   ]
  },
  {
   "cell_type": "code",
   "execution_count": 10,
   "metadata": {},
   "outputs": [],
   "source": [
    "project_data['clean_proj_grade'] = l    #creat new attribute and store all cleaned catogeries into that attribute, \n",
    "project_data.drop(['project_grade_category'], axis=1, inplace=True) #remove that previous grade_catogery attribute."
   ]
  },
  {
   "cell_type": "markdown",
   "metadata": {},
   "source": [
    "### 2.3  project_subject_subcategories"
   ]
  },
  {
   "cell_type": "code",
   "execution_count": 11,
   "metadata": {},
   "outputs": [],
   "source": [
    "catogories = list(project_data['project_subject_subcategories'].values)\n",
    "# https://www.geeksforgeeks.org/removing-stop-words-nltk-python/\n",
    "# https://stackoverflow.com/questions/23669024/how-to-strip-a-specific-word-from-a-string\n",
    "# https://stackoverflow.com/questions/8270092/remove-all-whitespace-in-a-string-in-python\n",
    "lst = []  #creat empty list\n",
    "for i in catogories:      #each category ex\"math&Scince\" in catogeries ex[[\"Math & Science\", \"Warmth\", \"Care & Hunger\"]]\n",
    "    temp = \"\"       #empty\n",
    "    # consider we have text like this \"Math & Science, Warmth, Care & Hunger\"\n",
    "    for j in i.split(','): # it will split it in three parts \n",
    "        if 'The' in j.split(): # this will split each of the catogory based on space \n",
    "            j=j.replace('The','') # if we have the words \"The\" we are going to replace it with '' empty\n",
    "        j = j.replace(' ','') # we are placeing all the ' '(space) with ''(empty) \n",
    "        temp+=j.strip()+\" \" #\" abc \".strip() will return \"abc\", remove the trailing spaces\n",
    "        temp = temp.replace('&','_') \n",
    "    lst.append(temp.strip())\n",
    "#lst is list with all cleaned subcategories."
   ]
  },
  {
   "cell_type": "code",
   "execution_count": 12,
   "metadata": {},
   "outputs": [],
   "source": [
    "project_data['clean_proj_subcategories'] = lst    #creat new attribute and store all cleaned catogeries into that attribute, \n",
    "project_data.drop(['project_subject_subcategories'], axis=1, inplace=True) #remove that previous subject_subcatogery attribute."
   ]
  },
  {
   "cell_type": "markdown",
   "metadata": {},
   "source": [
    "## 2.4 Text Preprocessing"
   ]
  },
  {
   "cell_type": "markdown",
   "metadata": {},
   "source": [
    "###  Project Essay's"
   ]
  },
  {
   "cell_type": "markdown",
   "metadata": {},
   "source": [
    "there are we have 4 essays's:\n",
    "   1.  project_essay_1 \n",
    "   2.  project_essay_2\n",
    "   3.  project_essay_3 \n",
    "   4.  project_essay_4\n",
    "* so we have to  merge(combilne) 4 essays into one single essay."
   ]
  },
  {
   "cell_type": "code",
   "execution_count": 13,
   "metadata": {},
   "outputs": [],
   "source": [
    "# merge all essay columns into single essay columns \n",
    "project_data[\"essay\"] = project_data[\"project_essay_1\"].map(str) +\\\n",
    "                        project_data[\"project_essay_2\"].map(str) + \\\n",
    "                        project_data[\"project_essay_3\"].map(str) + \\\n",
    "                        project_data[\"project_essay_4\"].map(str)"
   ]
  },
  {
   "cell_type": "code",
   "execution_count": 14,
   "metadata": {},
   "outputs": [],
   "source": [
    "#remove that previous project_essay_1,2,3 and 4\n",
    "project_data.drop([\"project_essay_1\"], axis=1, inplace=True) \n",
    "project_data.drop([\"project_essay_2\"], axis=1, inplace=True) \n",
    "project_data.drop([\"project_essay_3\"], axis=1, inplace=True) \n",
    "project_data.drop([\"project_essay_4\"], axis=1, inplace=True) "
   ]
  },
  {
   "cell_type": "code",
   "execution_count": 15,
   "metadata": {},
   "outputs": [
    {
     "name": "stdout",
     "output_type": "stream",
     "text": [
      "My students face many challenges daily.  Our school is comprised of families with high poverty (over 50%).  The students I see in the Resource room setting have learning disabilities, intellectual disabilities, and other health impairments.  Learning does not come easy as many of my students read, write, and communicate below grade level.\\r\\n     With that said, I am blessed to work with students who are lovable and inspirational!  They come to class wanting to please and to learn.  When they succeed, their eyes light up and they LOVE praise.  It's amazing how much they are willing to learn and to work hard in order to get a \\\"high five\\\" or \\\"Whoohoo! Look at this WONDERFUL work!\\\"  They also love being part of a team as they praise and encourage their classmates. \\r\\n     Unfortunately, my students don't always feel important and smart.  Their learning and behavioral challenges often make them stand out in negative ways when surrounded by same-aged peers who can read, write, and communicate more effectively.  My students often see themselves as inferior to others.  Therefore, teachers in my school look for ways to motivate students to be themselves, learn from everyone, and build life-long skills.The supplies I am requesting will help build a fun, safe and motivational atmosphere as the students are learning to read and build essential life skills.  My students and I will use these supplies every day when reading, writing, and working cooperatively.  Our classroom will become more engaging as students actively participate in fun, motivational  ways in order to increase their basic literacy skills.  \\r\\n     By donating these supplies, I see my students motivated to learn, as they will be actively engaged and cooperatively working with classmates as they develop life skills.  I see my students showing growth as they read, write and communicate with each other while using these supplies.  I appreciate your time and dedication in helping my students learn life-long skills that will enable them to be successful and show growth!\\r\\n      Reading the books \\\"You Read to Me, I'll Read to You\\\" will help my students become more confident, fluent readers as they listen to themselves and classmates read aloud.  Using the one-minute timers will enable students to read with a partner, time each other during three consecutive reads, record how many words are read per minute, and average the three reads.  This will motivate each student to practice reading in order to increase total words read.  This approach will also allow students to have ownership of their own learning and growth, creating a fun, inspirational environment.  Kiddos will then be able to chart their results (not to mention use math skills)! The organizational bins will allow us to work in a safer, more organized classroom where we can store and find our materials and supplies with ease.nannan\n"
     ]
    }
   ],
   "source": [
    "# to observe the random esssay text data\n",
    "print(project_data['essay'].values[210])"
   ]
  },
  {
   "cell_type": "markdown",
   "metadata": {},
   "source": [
    "**observation**\n",
    "* In the above essay feature  there are lot of unnecessary  special charecters and some other  words so we have to clean text data"
   ]
  },
  {
   "cell_type": "code",
   "execution_count": 16,
   "metadata": {},
   "outputs": [],
   "source": [
    "# expand contractions\n",
    "\n",
    "# https://stackoverflow.com/a/47091490/4084039\n",
    "def decontracted(phrase):\n",
    "    # specific\n",
    "    phrase = re.sub(r\"won't\", \"will not\", phrase)\n",
    "    phrase = re.sub(r\"can\\'t\", \"can not\", phrase)\n",
    "\n",
    "    # general\n",
    "    phrase = re.sub(r\"n\\'t\", \" not\", phrase)\n",
    "    phrase = re.sub(r\"\\'re\", \" are\", phrase)\n",
    "    phrase = re.sub(r\"\\'s\", \" is\", phrase)\n",
    "    phrase = re.sub(r\"\\'d\", \" would\", phrase)\n",
    "    phrase = re.sub(r\"\\'ll\", \" will\", phrase)\n",
    "    phrase = re.sub(r\"\\'t\", \" not\", phrase)\n",
    "    phrase = re.sub(r\"\\'ve\", \" have\", phrase)\n",
    "    phrase = re.sub(r\"\\'m\", \" am\", phrase)\n",
    "    return phrase"
   ]
  },
  {
   "cell_type": "code",
   "execution_count": 17,
   "metadata": {},
   "outputs": [
    {
     "name": "stdout",
     "output_type": "stream",
     "text": [
      "{'t', \"shan't\", 'this', 'just', 'can', 'all', \"wasn't\", 'yourself', 'now', 'my', 'but', \"you'll\", 'before', 'again', 'own', 'themselves', 'do', 'his', \"weren't\", 'here', 'other', 've', 'they', 'why', 'won', 'don', 'are', \"you're\", 'a', 'because', 'he', 'same', 'is', 'hadn', \"hasn't\", 'will', 'being', 'have', 'been', 'me', \"needn't\", 'down', 'out', 'how', 'its', 'herself', 'what', 'as', 'at', 'him', 'few', \"isn't\", 'ours', 'between', \"aren't\", 'on', 'ain', 'further', 'our', 'no', 'd', \"couldn't\", 'more', 'does', 'or', 'aren', 'shouldn', 'himself', 'having', 'both', 'you', 'her', 'those', 'any', 'by', 'where', 'isn', 'doing', 'when', 'it', 'were', \"you'd\", 'hasn', 'myself', 'their', 'during', 'too', \"wouldn't\", 'them', 'did', 'after', 'while', 'above', 'she', 'such', 'had', 'below', 'should', \"doesn't\", 'mustn', 'who', 'hers', 'into', 'only', \"should've\", 'needn', 'whom', 'up', 'was', 'couldn', \"shouldn't\", 'yours', 'll', 'over', 'there', 'against', 'not', \"you've\", 'through', 'wasn', \"mustn't\", 'with', 'we', 'nor', 'o', 'weren', 'that', 'and', 'am', 'doesn', 'itself', 're', 'so', \"she's\", \"won't\", 'once', 'to', 'haven', 'y', 'most', 'the', 'until', 'from', 'under', 'i', 's', 'didn', 'mightn', 'for', 'be', 'off', 'wouldn', 'm', 'which', \"that'll\", 'if', \"hadn't\", 'of', \"mightn't\", 'these', 'in', 'some', \"it's\", 'theirs', 'ma', 'than', 'ourselves', 'shan', 'about', 'yourselves', 'your', 'has', 'an', 'very', \"didn't\", \"haven't\", 'then', 'each', \"don't\"}\n",
      "179\n"
     ]
    }
   ],
   "source": [
    "#english stopwords\n",
    "import nltk\n",
    "d = nltk.corpus.stopwords.words('english')\n",
    "print(set(d))\n",
    "print(len(d))\n"
   ]
  },
  {
   "cell_type": "markdown",
   "metadata": {},
   "source": [
    "#### note: we should remove some  words('no', 'nor', 'not') from stop words "
   ]
  },
  {
   "cell_type": "code",
   "execution_count": 19,
   "metadata": {},
   "outputs": [],
   "source": [
    "# https://gist.github.com/sebleier/554280\n",
    "# we are removing the words from the stop words list: 'no', 'nor', 'not'\n",
    "stopwords= ['i', 'me', 'my', 'myself', 'we', 'our', 'ours', 'ourselves', 'you', \"you're\", \"you've\",\\\n",
    "            \"you'll\", \"you'd\", 'your', 'yours', 'yourself', 'yourselves', 'he', 'him', 'his', 'himself', \\\n",
    "            'she', \"she's\", 'her', 'hers', 'herself', 'it', \"it's\", 'its', 'itself', 'they', 'them', 'their',\\\n",
    "            'theirs', 'themselves', 'what', 'which', 'who', 'whom', 'this', 'that', \"that'll\", 'these', 'those', \\\n",
    "            'am', 'is', 'are', 'was', 'were', 'be', 'been', 'being', 'have', 'has', 'had', 'having', 'do', 'does', \\\n",
    "            'did', 'doing', 'a', 'an', 'the', 'and', 'but', 'if', 'or', 'because', 'as', 'until', 'while', 'of', \\\n",
    "            'at', 'by', 'for', 'with', 'about', 'against', 'between', 'into', 'through', 'during', 'before', 'after',\\\n",
    "            'above', 'below', 'to', 'from', 'up', 'down', 'in', 'out', 'on', 'off', 'over', 'under', 'again', 'further',\\\n",
    "            'then', 'once', 'here', 'there', 'when', 'where', 'why', 'how', 'all', 'any', 'both', 'each', 'few', 'more',\\\n",
    "            'most', 'other', 'some', 'such', 'only', 'own', 'same', 'so', 'than', 'too', 'very', \\\n",
    "            's', 't', 'can', 'will', 'just', 'don', \"don't\", 'should', \"should've\", 'now', 'd', 'll', 'm', 'o', 're', \\\n",
    "            've', 'y', 'ain', 'aren', \"aren't\", 'couldn', \"couldn't\", 'didn', \"didn't\", 'doesn', \"doesn't\", 'hadn',\\\n",
    "            \"hadn't\", 'hasn', \"hasn't\", 'haven', \"haven't\", 'isn', \"isn't\", 'ma', 'mightn', \"mightn't\", 'mustn',\\\n",
    "            \"mustn't\", 'needn', \"needn't\", 'shan', \"shan't\", 'shouldn', \"shouldn't\", 'wasn', \"wasn't\", 'weren', \"weren't\", \\\n",
    "            'won', \"won't\", 'wouldn', \"wouldn't\"]"
   ]
  },
  {
   "cell_type": "markdown",
   "metadata": {},
   "source": [
    "### 2.3.1 text preprocessing project_essay"
   ]
  },
  {
   "cell_type": "code",
   "execution_count": 20,
   "metadata": {},
   "outputs": [
    {
     "name": "stderr",
     "output_type": "stream",
     "text": [
      "100%|██████████| 109248/109248 [00:46<00:00, 2371.80it/s]\n"
     ]
    }
   ],
   "source": [
    "#replace & remove some unneccesary words in text\n",
    "\n",
    "from tqdm import tqdm\n",
    "preproccessed_essay_text = []\n",
    "# tqdm is for printing the status bar\n",
    "for sent in tqdm(project_data['essay'].values):    #all text data in essay feature \n",
    "    s = decontracted(sent)                  #function calling for expand contraction words\n",
    "    s = s.replace('\\\\r', ' ')                   #replacing \\\\r with space\n",
    "    s = s.replace('\\\\\"', ' ')                   #replacing \\\\\"', with space\n",
    "    s = s.replace('\\\\n', ' ')                   #replacing \\\\n with space\n",
    "    s = re.sub('[^A-Za-z0-9]+', ' ', s)      #selection charecters only between Ato Z, a-z and 0-9.\n",
    "    # https://gist.github.com/sebleier/554280\n",
    "    sent = ' '.join(e for e in s.split() if e not in stopwords) #removing stopwords\n",
    "    preproccessed_essay_text.append(s.lower().strip())   #all sentences into lower case."
   ]
  },
  {
   "cell_type": "code",
   "execution_count": 21,
   "metadata": {},
   "outputs": [],
   "source": [
    "project_data['preproccessed_essay_text'] = preproccessed_essay_text    #creat new attribute and store all cleanedessay text into that attribute, \n",
    "project_data.drop(['essay'], axis=1, inplace=True) #remove that previous essay attribute."
   ]
  },
  {
   "cell_type": "markdown",
   "metadata": {},
   "source": [
    "### 3.2.2 Text preprocessing project_Title"
   ]
  },
  {
   "cell_type": "code",
   "execution_count": 22,
   "metadata": {},
   "outputs": [
    {
     "name": "stdout",
     "output_type": "stream",
     "text": [
      "Reading Changes Lives\n",
      "****************************************\n",
      "\\\"Reading is Dreaming with Open Eyes!\\\"\n",
      "****************************************\n"
     ]
    }
   ],
   "source": [
    "# to observe the some random title text data\n",
    "print(project_data['project_title'].values[10])\n",
    "print(\"*\"*40)\n",
    "print(project_data['project_title'].values[1100])\n",
    "print(\"*\"*40)"
   ]
  },
  {
   "cell_type": "markdown",
   "metadata": {},
   "source": [
    "#### text preprocessing project_title"
   ]
  },
  {
   "cell_type": "code",
   "execution_count": 23,
   "metadata": {
    "scrolled": true
   },
   "outputs": [
    {
     "name": "stderr",
     "output_type": "stream",
     "text": [
      "100%|██████████| 109248/109248 [00:01<00:00, 55407.35it/s]\n"
     ]
    }
   ],
   "source": [
    "from tqdm import tqdm\n",
    "preproccessed_title_text = []\n",
    "# tqdm is for printing the status bar\n",
    "for sentence in tqdm(project_data['project_title'].values):    #all text data in essay feature \n",
    "    s = decontracted(sentence)                  #function calling for expand contraction words\n",
    "    s = re.sub('[^A-Za-z0-9]+', ' ', s)      #selection charecters only between Ato Z, a-z and 0-9.\n",
    "    # https://gist.github.com/sebleier/554280\n",
    "    sent = ' '.join(e for e in s.split() if e not in stopwords) #removing stopwords\n",
    "    preproccessed_title_text.append(s.lower().strip())   #all sentences into lower case."
   ]
  },
  {
   "cell_type": "code",
   "execution_count": 24,
   "metadata": {},
   "outputs": [],
   "source": [
    "project_data['preproccessed_title_text'] = preproccessed_title_text    #creat new attribute and store all cleanedessay text into that attribute, \n",
    "project_data.drop(['project_title'], axis=1, inplace=True) #remove that previous project title attribute."
   ]
  },
  {
   "cell_type": "markdown",
   "metadata": {},
   "source": [
    "#### Text preprocessing project_resource_summary"
   ]
  },
  {
   "cell_type": "code",
   "execution_count": 25,
   "metadata": {},
   "outputs": [
    {
     "name": "stderr",
     "output_type": "stream",
     "text": [
      "100%|██████████| 109248/109248 [00:04<00:00, 23419.29it/s]\n"
     ]
    }
   ],
   "source": [
    "from tqdm import tqdm\n",
    "preproccessed_resource_text = []\n",
    "# tqdm is for printing the status bar\n",
    "for sentence in tqdm(project_data['project_resource_summary'].values):    #all text data in project_resource_summaryfeature \n",
    "    s = decontracted(sentence)                  #function calling for expand contraction words\n",
    "    s = re.sub('[^A-Za-z0-9]+', ' ', s)      #selection charecters only between Ato Z, a-z and 0-9.\n",
    "    # https://gist.github.com/sebleier/554280\n",
    "    sent = ' '.join(e for e in s.split() if e not in stopwords) #removing stopwords\n",
    "    preproccessed_resource_text.append(s.lower().strip())   #all sentences into lower case."
   ]
  },
  {
   "cell_type": "code",
   "execution_count": 26,
   "metadata": {},
   "outputs": [],
   "source": [
    "project_data['preproccessed_prjct_resource_summary'] = preproccessed_resource_text    #creat new attribute and store all cleanedessay text into that attribute, \n",
    "project_data.drop(['project_resource_summary'], axis=1, inplace=True) #remove that previous resource_text attribute."
   ]
  },
  {
   "cell_type": "markdown",
   "metadata": {},
   "source": [
    "## 2.3.4 dataframe after text preprocessed features"
   ]
  },
  {
   "cell_type": "code",
   "execution_count": 27,
   "metadata": {},
   "outputs": [
    {
     "data": {
      "text/html": [
       "<div>\n",
       "<style scoped>\n",
       "    .dataframe tbody tr th:only-of-type {\n",
       "        vertical-align: middle;\n",
       "    }\n",
       "\n",
       "    .dataframe tbody tr th {\n",
       "        vertical-align: top;\n",
       "    }\n",
       "\n",
       "    .dataframe thead th {\n",
       "        text-align: right;\n",
       "    }\n",
       "</style>\n",
       "<table border=\"1\" class=\"dataframe\">\n",
       "  <thead>\n",
       "    <tr style=\"text-align: right;\">\n",
       "      <th></th>\n",
       "      <th>Unnamed: 0</th>\n",
       "      <th>id</th>\n",
       "      <th>teacher_id</th>\n",
       "      <th>teacher_prefix</th>\n",
       "      <th>school_state</th>\n",
       "      <th>project_submitted_datetime</th>\n",
       "      <th>teacher_number_of_previously_posted_projects</th>\n",
       "      <th>project_is_approved</th>\n",
       "      <th>clean_proj_categories</th>\n",
       "      <th>clean_proj_grade</th>\n",
       "      <th>clean_proj_subcategories</th>\n",
       "      <th>preproccessed_essay_text</th>\n",
       "      <th>preproccessed_title_text</th>\n",
       "      <th>preproccessed_prjct_resource_summary</th>\n",
       "    </tr>\n",
       "  </thead>\n",
       "  <tbody>\n",
       "    <tr>\n",
       "      <th>0</th>\n",
       "      <td>160221</td>\n",
       "      <td>p253737</td>\n",
       "      <td>c90749f5d961ff158d4b4d1e7dc665fc</td>\n",
       "      <td>Mrs.</td>\n",
       "      <td>IN</td>\n",
       "      <td>2016-12-05 13:43:57</td>\n",
       "      <td>0</td>\n",
       "      <td>0</td>\n",
       "      <td>Literacy_Language</td>\n",
       "      <td>Grades_PreK_2</td>\n",
       "      <td>ESL Literacy</td>\n",
       "      <td>my students are english learners that are work...</td>\n",
       "      <td>educational support for english learners at home</td>\n",
       "      <td>my students need opportunities to practice beg...</td>\n",
       "    </tr>\n",
       "    <tr>\n",
       "      <th>1</th>\n",
       "      <td>140945</td>\n",
       "      <td>p258326</td>\n",
       "      <td>897464ce9ddc600bced1151f324dd63a</td>\n",
       "      <td>Mr.</td>\n",
       "      <td>FL</td>\n",
       "      <td>2016-10-25 09:22:10</td>\n",
       "      <td>7</td>\n",
       "      <td>1</td>\n",
       "      <td>History_Civics Health_Sports</td>\n",
       "      <td>Grades_6_8</td>\n",
       "      <td>Civics_Government TeamSports</td>\n",
       "      <td>our students arrive to our school eager to lea...</td>\n",
       "      <td>wanted projector for hungry learners</td>\n",
       "      <td>my students need a projector to help with view...</td>\n",
       "    </tr>\n",
       "  </tbody>\n",
       "</table>\n",
       "</div>"
      ],
      "text/plain": [
       "   Unnamed: 0       id                        teacher_id teacher_prefix  \\\n",
       "0      160221  p253737  c90749f5d961ff158d4b4d1e7dc665fc           Mrs.   \n",
       "1      140945  p258326  897464ce9ddc600bced1151f324dd63a            Mr.   \n",
       "\n",
       "  school_state project_submitted_datetime  \\\n",
       "0           IN        2016-12-05 13:43:57   \n",
       "1           FL        2016-10-25 09:22:10   \n",
       "\n",
       "   teacher_number_of_previously_posted_projects  project_is_approved  \\\n",
       "0                                             0                    0   \n",
       "1                                             7                    1   \n",
       "\n",
       "          clean_proj_categories clean_proj_grade  \\\n",
       "0             Literacy_Language    Grades_PreK_2   \n",
       "1  History_Civics Health_Sports       Grades_6_8   \n",
       "\n",
       "       clean_proj_subcategories  \\\n",
       "0                  ESL Literacy   \n",
       "1  Civics_Government TeamSports   \n",
       "\n",
       "                            preproccessed_essay_text  \\\n",
       "0  my students are english learners that are work...   \n",
       "1  our students arrive to our school eager to lea...   \n",
       "\n",
       "                           preproccessed_title_text  \\\n",
       "0  educational support for english learners at home   \n",
       "1              wanted projector for hungry learners   \n",
       "\n",
       "                preproccessed_prjct_resource_summary  \n",
       "0  my students need opportunities to practice beg...  \n",
       "1  my students need a projector to help with view...  "
      ]
     },
     "execution_count": 27,
     "metadata": {},
     "output_type": "execute_result"
    }
   ],
   "source": [
    "#print top 4 data points  after text preprocessed features\n",
    "project_data.head(2)"
   ]
  },
  {
   "cell_type": "markdown",
   "metadata": {},
   "source": [
    "## 2.4 Join two dataframe(project_proposal_data and resources_data) based on ID"
   ]
  },
  {
   "cell_type": "code",
   "execution_count": 28,
   "metadata": {},
   "outputs": [
    {
     "data": {
      "text/html": [
       "<div>\n",
       "<style scoped>\n",
       "    .dataframe tbody tr th:only-of-type {\n",
       "        vertical-align: middle;\n",
       "    }\n",
       "\n",
       "    .dataframe tbody tr th {\n",
       "        vertical-align: top;\n",
       "    }\n",
       "\n",
       "    .dataframe thead th {\n",
       "        text-align: right;\n",
       "    }\n",
       "</style>\n",
       "<table border=\"1\" class=\"dataframe\">\n",
       "  <thead>\n",
       "    <tr style=\"text-align: right;\">\n",
       "      <th></th>\n",
       "      <th>id</th>\n",
       "      <th>description</th>\n",
       "      <th>quantity</th>\n",
       "      <th>price</th>\n",
       "    </tr>\n",
       "  </thead>\n",
       "  <tbody>\n",
       "    <tr>\n",
       "      <th>0</th>\n",
       "      <td>p233245</td>\n",
       "      <td>LC652 - Lakeshore Double-Space Mobile Drying Rack</td>\n",
       "      <td>1</td>\n",
       "      <td>149.00</td>\n",
       "    </tr>\n",
       "    <tr>\n",
       "      <th>1</th>\n",
       "      <td>p069063</td>\n",
       "      <td>Bouncy Bands for Desks (Blue support pipes)</td>\n",
       "      <td>3</td>\n",
       "      <td>14.95</td>\n",
       "    </tr>\n",
       "  </tbody>\n",
       "</table>\n",
       "</div>"
      ],
      "text/plain": [
       "        id                                        description  quantity  \\\n",
       "0  p233245  LC652 - Lakeshore Double-Space Mobile Drying Rack         1   \n",
       "1  p069063        Bouncy Bands for Desks (Blue support pipes)         3   \n",
       "\n",
       "    price  \n",
       "0  149.00  \n",
       "1   14.95  "
      ]
     },
     "execution_count": 28,
     "metadata": {},
     "output_type": "execute_result"
    }
   ],
   "source": [
    "#to get price of the project\n",
    "resources_data.head(2)"
   ]
  },
  {
   "cell_type": "code",
   "execution_count": 29,
   "metadata": {},
   "outputs": [
    {
     "data": {
      "text/html": [
       "<div>\n",
       "<style scoped>\n",
       "    .dataframe tbody tr th:only-of-type {\n",
       "        vertical-align: middle;\n",
       "    }\n",
       "\n",
       "    .dataframe tbody tr th {\n",
       "        vertical-align: top;\n",
       "    }\n",
       "\n",
       "    .dataframe thead th {\n",
       "        text-align: right;\n",
       "    }\n",
       "</style>\n",
       "<table border=\"1\" class=\"dataframe\">\n",
       "  <thead>\n",
       "    <tr style=\"text-align: right;\">\n",
       "      <th></th>\n",
       "      <th>id</th>\n",
       "      <th>price</th>\n",
       "      <th>quantity</th>\n",
       "    </tr>\n",
       "  </thead>\n",
       "  <tbody>\n",
       "    <tr>\n",
       "      <th>0</th>\n",
       "      <td>p000001</td>\n",
       "      <td>459.56</td>\n",
       "      <td>7</td>\n",
       "    </tr>\n",
       "    <tr>\n",
       "      <th>1</th>\n",
       "      <td>p000002</td>\n",
       "      <td>515.89</td>\n",
       "      <td>21</td>\n",
       "    </tr>\n",
       "    <tr>\n",
       "      <th>2</th>\n",
       "      <td>p000003</td>\n",
       "      <td>298.97</td>\n",
       "      <td>4</td>\n",
       "    </tr>\n",
       "  </tbody>\n",
       "</table>\n",
       "</div>"
      ],
      "text/plain": [
       "        id   price  quantity\n",
       "0  p000001  459.56         7\n",
       "1  p000002  515.89        21\n",
       "2  p000003  298.97         4"
      ]
     },
     "execution_count": 29,
     "metadata": {},
     "output_type": "execute_result"
    }
   ],
   "source": [
    "#https://stackoverflow.com/questions/22407798/how-to-reset-a-dataframes-indexes-for-all-groups-in-one-step\n",
    "#from resources data  coulumns group by id and sum values of two columns\n",
    "price_data = resources_data.groupby('id').agg({'price':'sum', 'quantity':'sum'}).reset_index()\n",
    "price_data.head(3)"
   ]
  },
  {
   "cell_type": "code",
   "execution_count": 30,
   "metadata": {},
   "outputs": [],
   "source": [
    "#join(merge) two data frames based on id\n",
    "project_data = pd.merge(project_data, price_data, on='id', how='left')  #how=lef if any remaining data present in any df that will be merge with dataframe\n"
   ]
  },
  {
   "cell_type": "code",
   "execution_count": 31,
   "metadata": {},
   "outputs": [
    {
     "data": {
      "text/plain": [
       "(109248, 16)"
      ]
     },
     "execution_count": 31,
     "metadata": {},
     "output_type": "execute_result"
    }
   ],
   "source": [
    "#shape of the final merged dataframe\n",
    "project_data.shape\n"
   ]
  },
  {
   "cell_type": "markdown",
   "metadata": {},
   "source": [
    "we have 109248 datapoints and 16 features"
   ]
  },
  {
   "cell_type": "markdown",
   "metadata": {},
   "source": [
    "## print final data frame"
   ]
  },
  {
   "cell_type": "code",
   "execution_count": 32,
   "metadata": {},
   "outputs": [
    {
     "data": {
      "text/html": [
       "<div>\n",
       "<style scoped>\n",
       "    .dataframe tbody tr th:only-of-type {\n",
       "        vertical-align: middle;\n",
       "    }\n",
       "\n",
       "    .dataframe tbody tr th {\n",
       "        vertical-align: top;\n",
       "    }\n",
       "\n",
       "    .dataframe thead th {\n",
       "        text-align: right;\n",
       "    }\n",
       "</style>\n",
       "<table border=\"1\" class=\"dataframe\">\n",
       "  <thead>\n",
       "    <tr style=\"text-align: right;\">\n",
       "      <th></th>\n",
       "      <th>Unnamed: 0</th>\n",
       "      <th>id</th>\n",
       "      <th>teacher_id</th>\n",
       "      <th>teacher_prefix</th>\n",
       "      <th>school_state</th>\n",
       "      <th>project_submitted_datetime</th>\n",
       "      <th>teacher_number_of_previously_posted_projects</th>\n",
       "      <th>project_is_approved</th>\n",
       "      <th>clean_proj_categories</th>\n",
       "      <th>clean_proj_grade</th>\n",
       "      <th>clean_proj_subcategories</th>\n",
       "      <th>preproccessed_essay_text</th>\n",
       "      <th>preproccessed_title_text</th>\n",
       "      <th>preproccessed_prjct_resource_summary</th>\n",
       "      <th>price</th>\n",
       "      <th>quantity</th>\n",
       "    </tr>\n",
       "  </thead>\n",
       "  <tbody>\n",
       "    <tr>\n",
       "      <th>0</th>\n",
       "      <td>160221</td>\n",
       "      <td>p253737</td>\n",
       "      <td>c90749f5d961ff158d4b4d1e7dc665fc</td>\n",
       "      <td>Mrs.</td>\n",
       "      <td>IN</td>\n",
       "      <td>2016-12-05 13:43:57</td>\n",
       "      <td>0</td>\n",
       "      <td>0</td>\n",
       "      <td>Literacy_Language</td>\n",
       "      <td>Grades_PreK_2</td>\n",
       "      <td>ESL Literacy</td>\n",
       "      <td>my students are english learners that are work...</td>\n",
       "      <td>educational support for english learners at home</td>\n",
       "      <td>my students need opportunities to practice beg...</td>\n",
       "      <td>154.6</td>\n",
       "      <td>23</td>\n",
       "    </tr>\n",
       "    <tr>\n",
       "      <th>1</th>\n",
       "      <td>140945</td>\n",
       "      <td>p258326</td>\n",
       "      <td>897464ce9ddc600bced1151f324dd63a</td>\n",
       "      <td>Mr.</td>\n",
       "      <td>FL</td>\n",
       "      <td>2016-10-25 09:22:10</td>\n",
       "      <td>7</td>\n",
       "      <td>1</td>\n",
       "      <td>History_Civics Health_Sports</td>\n",
       "      <td>Grades_6_8</td>\n",
       "      <td>Civics_Government TeamSports</td>\n",
       "      <td>our students arrive to our school eager to lea...</td>\n",
       "      <td>wanted projector for hungry learners</td>\n",
       "      <td>my students need a projector to help with view...</td>\n",
       "      <td>299.0</td>\n",
       "      <td>1</td>\n",
       "    </tr>\n",
       "  </tbody>\n",
       "</table>\n",
       "</div>"
      ],
      "text/plain": [
       "   Unnamed: 0       id                        teacher_id teacher_prefix  \\\n",
       "0      160221  p253737  c90749f5d961ff158d4b4d1e7dc665fc           Mrs.   \n",
       "1      140945  p258326  897464ce9ddc600bced1151f324dd63a            Mr.   \n",
       "\n",
       "  school_state project_submitted_datetime  \\\n",
       "0           IN        2016-12-05 13:43:57   \n",
       "1           FL        2016-10-25 09:22:10   \n",
       "\n",
       "   teacher_number_of_previously_posted_projects  project_is_approved  \\\n",
       "0                                             0                    0   \n",
       "1                                             7                    1   \n",
       "\n",
       "          clean_proj_categories clean_proj_grade  \\\n",
       "0             Literacy_Language    Grades_PreK_2   \n",
       "1  History_Civics Health_Sports       Grades_6_8   \n",
       "\n",
       "       clean_proj_subcategories  \\\n",
       "0                  ESL Literacy   \n",
       "1  Civics_Government TeamSports   \n",
       "\n",
       "                            preproccessed_essay_text  \\\n",
       "0  my students are english learners that are work...   \n",
       "1  our students arrive to our school eager to lea...   \n",
       "\n",
       "                           preproccessed_title_text  \\\n",
       "0  educational support for english learners at home   \n",
       "1              wanted projector for hungry learners   \n",
       "\n",
       "                preproccessed_prjct_resource_summary  price  quantity  \n",
       "0  my students need opportunities to practice beg...  154.6        23  \n",
       "1  my students need a projector to help with view...  299.0         1  "
      ]
     },
     "execution_count": 32,
     "metadata": {},
     "output_type": "execute_result"
    }
   ],
   "source": [
    "project_data.head(2)"
   ]
  },
  {
   "cell_type": "markdown",
   "metadata": {},
   "source": [
    "## 2.5.1 (identify) select the class lable "
   ]
  },
  {
   "cell_type": "markdown",
   "metadata": {},
   "source": [
    "according to the above dataframe \n",
    "**'Project_is_approved'** Attribute:\n",
    "* in the project_data' dataframe we have  'project is approved'  Attribute, it consists with 2 values that are [1]Number of projects approved and [0] number of projects not approved."
   ]
  },
  {
   "cell_type": "code",
   "execution_count": 33,
   "metadata": {},
   "outputs": [],
   "source": [
    "#y is class label\n",
    "y = project_data['project_is_approved'].values       #storing all project_is approved attribute values in y variable\n",
    "project_data.drop(['project_is_approved'], axis=1, inplace=True)    #eliminate the project_is_approved attribute from dataframe\n"
   ]
  },
  {
   "cell_type": "markdown",
   "metadata": {},
   "source": [
    "# 2.6 Splitting data"
   ]
  },
  {
   "cell_type": "code",
   "execution_count": 34,
   "metadata": {},
   "outputs": [],
   "source": [
    "# splitting into train, crossvalidation and test data\n",
    "from sklearn.model_selection import train_test_split\n",
    "\n",
    "# split the data set into train and test\n",
    "X_train, X_test, y_train, y_test = train_test_split(project_data, y, test_size=0.33, stratify=y)  # split 33% data in test data and  67% in train data\n",
    "X_train, X_cv, y_train, y_cv = train_test_split(X_train, y_train, test_size=0.33, stratify=y_train)  #split train data into train and cross_valiadation"
   ]
  },
  {
   "cell_type": "markdown",
   "metadata": {},
   "source": [
    "our total dataset splitted into train data, cross validation data and test data."
   ]
  },
  {
   "cell_type": "code",
   "execution_count": 35,
   "metadata": {},
   "outputs": [
    {
     "name": "stdout",
     "output_type": "stream",
     "text": [
      "data before feature vectorizing:\n",
      "(49041, 15) (49041,)\n",
      "(24155, 15) (24155,)\n",
      "(36052, 15) (36052,)\n"
     ]
    }
   ],
   "source": [
    "#print shape of splitted data\n",
    "print(\"data before feature vectorizing:\")\n",
    "print(X_train.shape, y_train.shape)\n",
    "print(X_cv.shape, y_cv.shape)\n",
    "print(X_test.shape, y_test.shape)"
   ]
  },
  {
   "cell_type": "markdown",
   "metadata": {},
   "source": [
    "**observation**\n",
    "* there are 49041 datapoints in train data.\n",
    "* 24155 datapoints in cross validation data.\n",
    "* 36052 datapoints in test data."
   ]
  },
  {
   "cell_type": "markdown",
   "metadata": {},
   "source": [
    "# 2.7 Creating Data Matrix"
   ]
  },
  {
   "cell_type": "markdown",
   "metadata": {},
   "source": [
    "# 2.8 feature vectorization (BOW)"
   ]
  },
  {
   "cell_type": "markdown",
   "metadata": {},
   "source": [
    "## 2.8.1 converting the preproccessed_essay_text to vectors(bag of words)"
   ]
  },
  {
   "cell_type": "code",
   "execution_count": 36,
   "metadata": {},
   "outputs": [
    {
     "name": "stdout",
     "output_type": "stream",
     "text": [
      "************************************************************\n",
      "After vectorizations:\n",
      "(49041, 343629) (49041,)\n",
      "(24155, 343629) (24155,)\n",
      "(36052, 343629) (36052,)\n"
     ]
    }
   ],
   "source": [
    "from sklearn.feature_extraction.text import CountVectorizer\n",
    "# We are considering only the words which appeared in at least 10 documents(rows or projects).\n",
    "vectorizer1 = CountVectorizer(min_df=10,ngram_range=(1,4)) \n",
    "vectorizer1.fit(X_train['preproccessed_essay_text'].values) # fit has to happen only on train data\n",
    "\n",
    "# we use the fitted CountVectorizer to convert the text to vector\n",
    "# applying  learned parameters (vocabulary) to the train, cv and cross validation\n",
    "X_train_essay_bow = vectorizer1.transform(X_train['preproccessed_essay_text'].values)\n",
    "X_cv_essay_bow = vectorizer1.transform(X_cv['preproccessed_essay_text'].values)\n",
    "X_test_essay_bow = vectorizer1.transform(X_test['preproccessed_essay_text'].values)\n",
    "\n",
    "print(\"*\"*60)\n",
    "print(\"After vectorizations:\")\n",
    "print(X_train_essay_bow.shape, y_train.shape)\n",
    "print(X_cv_essay_bow.shape, y_cv.shape)\n",
    "print(X_test_essay_bow.shape, y_test.shape)"
   ]
  },
  {
   "cell_type": "markdown",
   "metadata": {},
   "source": [
    "* after BOW vecterization we have X_train data 49041 data points with  343629 features\n",
    "* in x_cv 24155 datapoints, 343629 features\n",
    "* in x_test 36052 datapoints, and  343629 features"
   ]
  },
  {
   "cell_type": "markdown",
   "metadata": {},
   "source": [
    "## 2.8.2 converting the preproccessed_title_text to vectors(bag of words)"
   ]
  },
  {
   "cell_type": "code",
   "execution_count": 37,
   "metadata": {},
   "outputs": [
    {
     "name": "stdout",
     "output_type": "stream",
     "text": [
      "************************************************************\n",
      "After vectorizations:\n",
      "(49041, 5707) (49041,)\n",
      "(24155, 5707) (24155,)\n",
      "(36052, 5707) (36052,)\n"
     ]
    }
   ],
   "source": [
    "# We are considering only the words which appeared in at least 10 documents(rows or projects).\n",
    "vectorizer2 = CountVectorizer(min_df=10,ngram_range=(1,4))\n",
    "vectorizer2.fit(X_train['preproccessed_title_text'].values) # fit has to happen only on train data\n",
    "\n",
    "# we use the fitted CountVectorizer to convert the text to vector\n",
    "# applying  learned parameters (vocabulary) to the train, cv and cross validation\n",
    "X_train_title_bow = vectorizer2.transform(X_train['preproccessed_title_text'].values)\n",
    "X_cv_title_bow = vectorizer2.transform(X_cv['preproccessed_title_text'].values)\n",
    "X_test_title_bow = vectorizer2.transform(X_test['preproccessed_title_text'].values)\n",
    "\n",
    "print(\"*\"*60)\n",
    "print(\"After vectorizations:\")\n",
    "print(X_train_title_bow.shape, y_train.shape)\n",
    "print(X_cv_title_bow.shape, y_cv.shape)\n",
    "print(X_test_title_bow.shape, y_test.shape)\n"
   ]
  },
  {
   "cell_type": "markdown",
   "metadata": {},
   "source": [
    "# 2.9 feature vectorization (TFIDF)"
   ]
  },
  {
   "cell_type": "markdown",
   "metadata": {},
   "source": [
    "## 2.9.1 converting the preproccessed_essay_text to vectors(TFIDF)"
   ]
  },
  {
   "cell_type": "code",
   "execution_count": 38,
   "metadata": {},
   "outputs": [
    {
     "name": "stdout",
     "output_type": "stream",
     "text": [
      "************************************************************\n",
      "After vectorizations:\n",
      "(49041, 253618) (49041,)\n",
      "(24155, 253618) (24155,)\n",
      "(36052, 253618) (36052,)\n"
     ]
    }
   ],
   "source": [
    "from sklearn.feature_extraction.text import TfidfVectorizer\n",
    "vectorizer3 = TfidfVectorizer(min_df=10,ngram_range=(1,3))\n",
    "vectorizer3.fit(X_train['preproccessed_essay_text'].values)\n",
    "# applying  learned parameters (vocabulary) to the train, cv and cross validation\n",
    "X_train_essay_tfidf = vectorizer3.transform(X_train['preproccessed_essay_text'].values)\n",
    "X_cv_essay_tfidf = vectorizer3.transform(X_cv['preproccessed_essay_text'].values)\n",
    "X_test_essay_tfidf = vectorizer3.transform(X_test['preproccessed_essay_text'].values)\n",
    "\n",
    "print(\"*\"*60)\n",
    "print(\"After vectorizations:\")\n",
    "print(X_train_essay_tfidf.shape, y_train.shape)\n",
    "print(X_cv_essay_tfidf.shape, y_cv.shape)\n",
    "print(X_test_essay_tfidf.shape, y_test.shape)"
   ]
  },
  {
   "cell_type": "markdown",
   "metadata": {},
   "source": [
    "## 2.9.2 converting the preproccessed_title_text to vectors(TFIDF)"
   ]
  },
  {
   "cell_type": "code",
   "execution_count": 39,
   "metadata": {},
   "outputs": [
    {
     "name": "stdout",
     "output_type": "stream",
     "text": [
      "************************************************************\n",
      "After vectorizations:\n",
      "(49041, 5545) (49041,)\n",
      "(24155, 5545) (24155,)\n",
      "(36052, 5545) (36052,)\n"
     ]
    }
   ],
   "source": [
    "from sklearn.feature_extraction.text import TfidfVectorizer\n",
    "vectorizer4 = TfidfVectorizer(min_df=10,ngram_range=(1,3))\n",
    "vectorizer4.fit(X_train['preproccessed_title_text'].values)\n",
    "# applying  learned parameters (vocabulary) to the train, cv and cross validation\n",
    "X_train_title_tfidf = vectorizer4.transform(X_train['preproccessed_title_text'].values)\n",
    "X_cv_title_tfidf = vectorizer4.transform(X_cv['preproccessed_title_text'].values)\n",
    "X_test_title_tfidf = vectorizer4.transform(X_test['preproccessed_title_text'].values)\n",
    "\n",
    "print(\"*\"*60)\n",
    "print(\"After vectorizations:\")\n",
    "print(X_train_title_tfidf.shape, y_train.shape)\n",
    "print(X_cv_title_tfidf.shape, y_cv.shape)\n",
    "print(X_test_title_tfidf.shape, y_test.shape)"
   ]
  },
  {
   "cell_type": "markdown",
   "metadata": {},
   "source": [
    "# 3.0  One-Hot-Encoding Categorical features"
   ]
  },
  {
   "cell_type": "markdown",
   "metadata": {},
   "source": [
    "**there are 5 categorical features:**\n",
    "* school state\n",
    "* clean project subject category\n",
    "* clean project subject sub category\n",
    "* project_grade\n",
    "* teacher prefix\n"
   ]
  },
  {
   "cell_type": "markdown",
   "metadata": {},
   "source": [
    "## 3.1 one-hot-encode( schoolstate)"
   ]
  },
  {
   "cell_type": "code",
   "execution_count": 40,
   "metadata": {},
   "outputs": [
    {
     "name": "stdout",
     "output_type": "stream",
     "text": [
      "************************************************************\n",
      "After  one hot encode vectorizations\n",
      "(49041, 51) (49041,)\n",
      "(24155, 51) (24155,)\n",
      "(36052, 51) (36052,)\n"
     ]
    }
   ],
   "source": [
    "#onehotencoding\n",
    "vectorizer6 = CountVectorizer()\n",
    "vectorizer6.fit(X_train['school_state'].values) # countvectorizer fit on only train data\n",
    "\n",
    "#then fitted countvectorizer afflys on train,test and cv data\n",
    "X_train_state_onehot = vectorizer6.transform(X_train['school_state'].values)  #learned vocubulary vectorizer applies on train data\n",
    "X_cv_state_onehot = vectorizer6.transform(X_cv['school_state'].values)        #learned vocubulary vectorizer applies on cv data\n",
    "X_test_state_onehot = vectorizer6.transform(X_test['school_state'].values)    #learned vocubulary vectorizer applies on test data\n",
    "\n",
    "print(\"*\"*60)\n",
    "print(\"After  one hot encode vectorizations\")\n",
    "print(X_train_state_onehot.shape, y_train.shape)\n",
    "print(X_cv_state_onehot.shape, y_cv.shape)\n",
    "print(X_test_state_onehot.shape, y_test.shape)"
   ]
  },
  {
   "cell_type": "markdown",
   "metadata": {},
   "source": [
    "## 3.2 one-hot-encode (clean_proj_categories)"
   ]
  },
  {
   "cell_type": "code",
   "execution_count": 41,
   "metadata": {},
   "outputs": [
    {
     "name": "stdout",
     "output_type": "stream",
     "text": [
      "************************************************************\n",
      "After  one hot encode vectorizations\n",
      "(49041, 9) (49041,)\n",
      "(24155, 9) (24155,)\n",
      "(36052, 9) (36052,)\n"
     ]
    }
   ],
   "source": [
    "#onehotencoding\n",
    "vectorizer7 = CountVectorizer()\n",
    "vectorizer7.fit(X_train['clean_proj_categories'].values) # countvectorizer fit on only train data\n",
    "\n",
    "#then fitted countvectorizer afflys on train,test and cv data\n",
    "#learned vocubulary vectorizer applies on train data\n",
    "X_train_proj_categories_onehot = vectorizer7.transform(X_train['clean_proj_categories'].values)  \n",
    "X_cv_proj_categories_onehot = vectorizer7.transform(X_cv['clean_proj_categories'].values)        \n",
    "X_test_proj_categories_onehot = vectorizer7.transform(X_test['clean_proj_categories'].values)  \n",
    "\n",
    "print(\"*\"*60)\n",
    "print(\"After  one hot encode vectorizations\")\n",
    "print(X_train_proj_categories_onehot.shape, y_train.shape)\n",
    "print(X_cv_proj_categories_onehot.shape, y_cv.shape)\n",
    "print(X_test_proj_categories_onehot.shape, y_test.shape)"
   ]
  },
  {
   "cell_type": "markdown",
   "metadata": {},
   "source": [
    "## 3.3 one-hot-encode (clean_proj_subcategories)"
   ]
  },
  {
   "cell_type": "code",
   "execution_count": 42,
   "metadata": {},
   "outputs": [
    {
     "name": "stdout",
     "output_type": "stream",
     "text": [
      "************************************************************\n",
      "After  one hot encode vectorizations\n",
      "(49041, 30) (49041,)\n",
      "(24155, 30) (24155,)\n",
      "(36052, 30) (36052,)\n"
     ]
    }
   ],
   "source": [
    "#onehotencoding\n",
    "vectorizer8 = CountVectorizer()\n",
    "vectorizer8.fit(X_train['clean_proj_subcategories'].values) # countvectorizer fit on only train data\n",
    "\n",
    "#then fitted countvectorizer afflys on train,test and cv data\n",
    "#learned vocubulary vectorizer applies on train data\n",
    "X_train_proj_subcategories_onehot = vectorizer8.transform(X_train['clean_proj_subcategories'].values)  \n",
    "X_cv_proj_subcategories_onehot = vectorizer8.transform(X_cv['clean_proj_subcategories'].values)        \n",
    "X_test_proj_subcategories_onehot = vectorizer8.transform(X_test['clean_proj_subcategories'].values)  \n",
    "\n",
    "print(\"*\"*60)\n",
    "print(\"After  one hot encode vectorizations\")\n",
    "print(X_train_proj_subcategories_onehot.shape, y_train.shape)\n",
    "print(X_cv_proj_subcategories_onehot.shape, y_cv.shape)\n",
    "print(X_test_proj_subcategories_onehot.shape, y_test.shape)"
   ]
  },
  {
   "cell_type": "markdown",
   "metadata": {},
   "source": [
    "## 3.4 one-hot-encode (clean_proj_grade)"
   ]
  },
  {
   "cell_type": "code",
   "execution_count": 43,
   "metadata": {},
   "outputs": [
    {
     "name": "stdout",
     "output_type": "stream",
     "text": [
      "************************************************************\n",
      "After  one hot encode vectorizations\n",
      "(49041, 4) (49041,)\n",
      "(24155, 4) (24155,)\n",
      "(36052, 4) (36052,)\n"
     ]
    }
   ],
   "source": [
    "#onehotencoding\n",
    "vectorizer9 = CountVectorizer()\n",
    "vectorizer9.fit(X_train['clean_proj_grade'].values) # countvectorizer fit on only train data\n",
    "\n",
    "#then fitted countvectorizer afflys on train,test and cv data\n",
    "#learned vocubulary vectorizer applies on train data\n",
    "X_train_proj_grade_onehot = vectorizer9.transform(X_train['clean_proj_grade'].values)  \n",
    "X_cv_proj_grade_onehot = vectorizer9.transform(X_cv['clean_proj_grade'].values)        \n",
    "X_test_proj_grade_onehot = vectorizer9.transform(X_test['clean_proj_grade'].values)  \n",
    "\n",
    "print(\"*\"*60)\n",
    "print(\"After  one hot encode vectorizations\")\n",
    "print(X_train_proj_grade_onehot.shape, y_train.shape)\n",
    "print(X_cv_proj_grade_onehot.shape, y_cv.shape)\n",
    "print(X_test_proj_grade_onehot.shape, y_test.shape)\n"
   ]
  },
  {
   "cell_type": "markdown",
   "metadata": {},
   "source": [
    "## 3.5 one-hot-encode (teacher_prefix)"
   ]
  },
  {
   "cell_type": "code",
   "execution_count": 44,
   "metadata": {},
   "outputs": [
    {
     "name": "stdout",
     "output_type": "stream",
     "text": [
      "************************************************************\n",
      "After  one hot encode vectorizations\n",
      "(49041, 6) (49041,)\n",
      "(24155, 6) (24155,)\n",
      "(36052, 6) (36052,)\n"
     ]
    }
   ],
   "source": [
    "#onehotencoding\n",
    "#  np.nan is an invalid document, expected byte or unicode string.   https://stackoverflow.com/questions/39303912/tfidfvectorizer-in-scikit-learn-valueerror-np-nan-is-an-invalid-document\n",
    "vectorizer10 = CountVectorizer()\n",
    "vectorizer10.fit(X_train['teacher_prefix'].values.astype('U')) # countvectorizer fit on only train data\n",
    "\n",
    "#then fitted countvectorizer afflys on train,test and cv data\n",
    "#learned vocubulary vectorizer applies on train data\n",
    "X_train_teacher_prefix_onehot = vectorizer10.transform(X_train['teacher_prefix'].values.astype('U'))  \n",
    "X_cv_teacher_prefix_onehot = vectorizer10.transform(X_cv['teacher_prefix'].values.astype('U'))        \n",
    "X_test_teacher_prefix_onehot = vectorizer10.transform(X_test['teacher_prefix'].values.astype('U'))\n",
    "print(\"*\"*60)\n",
    "print(\"After  one hot encode vectorizations\")\n",
    "print(X_train_teacher_prefix_onehot.shape, y_train.shape)\n",
    "print(X_cv_teacher_prefix_onehot.shape, y_cv.shape)\n",
    "print(X_test_teacher_prefix_onehot.shape, y_test.shape)"
   ]
  },
  {
   "cell_type": "markdown",
   "metadata": {},
   "source": [
    "# 4.0  Normalizing Numerical features"
   ]
  },
  {
   "cell_type": "markdown",
   "metadata": {},
   "source": [
    "**there are 3 numerical features:**\n",
    "* teacher_number_of_previously_posted_projects\n",
    "* price\n",
    "* quantity"
   ]
  },
  {
   "cell_type": "markdown",
   "metadata": {},
   "source": [
    "## 4.1  Normalizing (teacher_number_of_previously_posted_projects)"
   ]
  },
  {
   "cell_type": "code",
   "execution_count": 45,
   "metadata": {},
   "outputs": [
    {
     "name": "stdout",
     "output_type": "stream",
     "text": [
      "************************************************************\n",
      "After vectorizations\n",
      "(49041, 1) (49041,)\n",
      "(24155, 1) (24155,)\n",
      "(36052, 1) (36052,)\n"
     ]
    }
   ],
   "source": [
    "from sklearn.preprocessing import Normalizer\n",
    "normalizer10 = Normalizer()\n",
    "#normalizer applying on train teacher_number_of_previously_posted_projects data\n",
    "# normalizer.fit(X_train['teacher_number_of_previously_posted_projects'].value raises error so we need to do reshape with(-1,1)\n",
    "normalizer10.fit(X_train['teacher_number_of_previously_posted_projects'].values.reshape(-1,1))\n",
    "\n",
    "#normalizer applied on train data then transfer to cv and test data\n",
    "X_train_prvs_posted_prjcts_norm = normalizer10.transform(X_train['teacher_number_of_previously_posted_projects'].values.reshape(-1,1))\n",
    "X_cv_prvs_posted_prjcts_norm = normalizer10.transform(X_cv['teacher_number_of_previously_posted_projects'].values.reshape(-1,1))\n",
    "X_test_prvs_posted_prjcts_norm = normalizer10.transform(X_test['teacher_number_of_previously_posted_projects'].values.reshape(-1,1))\n",
    "\n",
    "print(\"*\"*60)\n",
    "print(\"After vectorizations\")\n",
    "print(X_train_prvs_posted_prjcts_norm.shape, y_train.shape)\n",
    "print(X_cv_prvs_posted_prjcts_norm.shape, y_cv.shape)\n",
    "print(X_test_prvs_posted_prjcts_norm.shape, y_test.shape)"
   ]
  },
  {
   "cell_type": "markdown",
   "metadata": {},
   "source": [
    "## 4.2  Normalizing (price)"
   ]
  },
  {
   "cell_type": "code",
   "execution_count": 46,
   "metadata": {},
   "outputs": [
    {
     "name": "stdout",
     "output_type": "stream",
     "text": [
      "************************************************************\n",
      "After vectorizations\n",
      "(49041, 1) (49041,)\n",
      "(24155, 1) (24155,)\n",
      "(36052, 1) (36052,)\n"
     ]
    }
   ],
   "source": [
    "from sklearn.preprocessing import Normalizer\n",
    "normalizer11 = Normalizer()\n",
    "#normalizer applying on train price data\n",
    "# normalizer.fit(X_train['price'].value raises error so we need to do reshape with(-1,1)\n",
    "normalizer11.fit(X_train['price'].values.reshape(-1,1))\n",
    "\n",
    "#normalizer applied on train data then transfer to cv and test data\n",
    "X_train_price_norm = normalizer11.transform(X_train['price'].values.reshape(-1,1))\n",
    "X_cv_price_norm = normalizer11.transform(X_cv['price'].values.reshape(-1,1))\n",
    "X_test_price_norm = normalizer11.transform(X_test['price'].values.reshape(-1,1))\n",
    "\n",
    "print(\"*\"*60)\n",
    "print(\"After vectorizations\")\n",
    "print(X_train_price_norm.shape, y_train.shape)\n",
    "print(X_cv_price_norm.shape, y_cv.shape)\n",
    "print(X_test_price_norm.shape, y_test.shape)"
   ]
  },
  {
   "cell_type": "markdown",
   "metadata": {},
   "source": [
    "## 4.3  Normalizing (quantity)"
   ]
  },
  {
   "cell_type": "code",
   "execution_count": 47,
   "metadata": {},
   "outputs": [
    {
     "name": "stdout",
     "output_type": "stream",
     "text": [
      "************************************************************\n",
      "After vectorizations\n",
      "(49041, 1) (49041,)\n",
      "(24155, 1) (24155,)\n",
      "(36052, 1) (36052,)\n"
     ]
    }
   ],
   "source": [
    "from sklearn.preprocessing import Normalizer\n",
    "normalizer12 = Normalizer()\n",
    "#normalizer applying on train quantity data\n",
    "# normalizer.fit(X_train['quantity'].value raises error so we need to do reshape with(-1,1)\n",
    "normalizer12.fit(X_train['quantity'].values.reshape(-1,1))\n",
    "\n",
    "#normalizer applied on train data then transfer to cv and test data\n",
    "X_train_quantity_norm = normalizer12.transform(X_train['quantity'].values.reshape(-1,1))\n",
    "X_cv_quantity_norm = normalizer12.transform(X_cv['quantity'].values.reshape(-1,1))\n",
    "X_test_quantity_norm = normalizer12.transform(X_test['quantity'].values.reshape(-1,1))\n",
    "\n",
    "print(\"*\"*60)\n",
    "print(\"After vectorizations\")\n",
    "print(X_train_quantity_norm.shape, y_train.shape)\n",
    "print(X_cv_quantity_norm.shape, y_cv.shape)\n",
    "print(X_test_quantity_norm.shape, y_test.shape)"
   ]
  },
  {
   "cell_type": "markdown",
   "metadata": {},
   "source": [
    "# 5.Creating (SET1):\n",
    "# <font color='green'> data matix with all categorical, all numerical,essay(BOW) and title(BOW)</font>"
   ]
  },
  {
   "cell_type": "code",
   "execution_count": 48,
   "metadata": {},
   "outputs": [
    {
     "name": "stdout",
     "output_type": "stream",
     "text": [
      "************************************************************\n",
      "Final set1 Data matrix:\n",
      "(49041, 349439) (49041,)\n",
      "(24155, 349439) (24155,)\n",
      "(36052, 349439) (36052,)\n"
     ]
    }
   ],
   "source": [
    "# merge two sparse matrices: https://stackoverflow.com/a/19710648/4084039\n",
    "#concatinating features\n",
    "from scipy.sparse import hstack\n",
    "X_tra = hstack((X_train_essay_bow,X_train_title_bow, X_train_state_onehot, X_train_teacher_prefix_onehot, X_train_proj_grade_onehot, X_train_proj_categories_onehot, X_train_proj_subcategories_onehot,X_train_prvs_posted_prjcts_norm, X_train_price_norm,X_train_quantity_norm )).tocsr()\n",
    "X_crv = hstack((X_cv_essay_bow,X_cv_title_bow,   X_cv_state_onehot, X_cv_teacher_prefix_onehot,  X_cv_proj_grade_onehot, X_cv_proj_categories_onehot ,  X_cv_proj_subcategories_onehot,  X_cv_prvs_posted_prjcts_norm , X_cv_price_norm, X_cv_quantity_norm )).tocsr()\n",
    "X_tes = hstack((X_test_essay_bow,X_test_title_bow, X_test_state_onehot, X_test_teacher_prefix_onehot,X_test_proj_grade_onehot, X_test_proj_categories_onehot,X_test_proj_subcategories_onehot, X_test_prvs_posted_prjcts_norm, X_test_price_norm,X_test_quantity_norm  )).tocsr()\n",
    "\n",
    "print(\"*\"*60)\n",
    "print(\"Final set1 Data matrix:\")\n",
    "print(X_tra.shape, y_train.shape)\n",
    "print(X_crv.shape, y_cv.shape)\n",
    "print(X_tes.shape, y_test.shape)\n"
   ]
  },
  {
   "cell_type": "markdown",
   "metadata": {},
   "source": [
    "## <font color='red'>Applying Naive Bayes to SET1</font>\n",
    "#### applying Multinomial Naive Bayes on set1(all categorical+ all numerical+essay(BOW) +and title(BOW))\n",
    "## <font color='green'>finding the best hyper paremeter(alpha) using  Simple for loop</font>"
   ]
  },
  {
   "cell_type": "code",
   "execution_count": 51,
   "metadata": {},
   "outputs": [
    {
     "data": {
      "image/png": "[encoded data removed]",
      "text/plain": [
       "<Figure size 432x288 with 1 Axes>"
      ]
     },
     "metadata": {
      "needs_background": "light"
     },
     "output_type": "display_data"
    }
   ],
   "source": [
    "#importing multinomial naive bayes from sklearn package.\n",
    "# from math import log: https://www.geeksforgeeks.org/log-functions-python/\n",
    "from sklearn.naive_bayes import MultinomialNB\n",
    "from math import log\n",
    "\n",
    "train_auc = []   #creating empty list for store train auc alpha values \n",
    "cv_auc = []\n",
    "\n",
    "alpha_parameters = [0.001, 0.01, 0.1, 1.0, 10, 100, 1000]  #list with alpha hyper smoothing parameters  range\n",
    "\n",
    "for i in (alpha_parameters):                                    #for each odd number in range smoothing_parameters\n",
    "    nb_clf = MultinomialNB(alpha=i,   class_prior = [0.5,0.5])  # model using multinomialnaive bayes\n",
    "    nb_clf.fit(X_tra, y_train)         #model fit on set1 train data\n",
    "    # roc_auc_score(y_true, y_score) the 2nd parameter should be probability estimates of the positive class\n",
    "    # not the predicted outputs\n",
    "    y_train_pred =  nb_clf.predict_proba(X_tra)[:,1]   #predicting log probablity score on train data\n",
    "    y_cv_pred =  nb_clf.predict_proba(X_crv)[:,1]\n",
    "    \n",
    "    train_auc.append(roc_auc_score(y_train,y_train_pred))\n",
    "    cv_auc.append(roc_auc_score(y_cv, y_cv_pred))\n",
    "\n",
    "#plotting the train and cv data AUC\n",
    "plt.scatter(alpha_parameters, train_auc, label='Train AUC points')   #points alpha values  representation\n",
    "plt.scatter(alpha_parameters, cv_auc, label='CV AUC points')\n",
    "plt.plot(alpha_parameters, train_auc, label='Train AUC')  #plotting the train data area under the curve  with alpha values\n",
    "plt.plot(alpha_parameters, cv_auc, label='CV AUC')        #plotting the cv data area under the curve   with alpha  values\n",
    "plt.grid()\n",
    "plt.xlabel(\"log(alpha): (hyper parametres)\")   #printing log(alpha values on x-axis)\n",
    "plt.xscale('log')                   #changing x- axis values into log values\n",
    "plt.ylabel(\"Area under the curve\")\n",
    "plt.title(\"error plots\")\n",
    "plt.legend()\n",
    "plt.show()\n"
   ]
  },
  {
   "cell_type": "markdown",
   "metadata": {},
   "source": [
    "### observation:\n",
    "* alpha values are laplace/additive smoothing parameters. \n",
    "* when smoothing parameter  at 0.001, 0.01, 0.1  then there is no use of laplace smoothing.\n",
    "* at alpha value is 0 then our model  is overfit\n",
    "* at alpha value is high then our model is under fit\n",
    "* according to the above  plot we can choose 5 is  best alpha hyper parameter "
   ]
  },
  {
   "cell_type": "code",
   "execution_count": 52,
   "metadata": {},
   "outputs": [],
   "source": [
    "#according to the above for loop result we can choose 5 is our best  alpha smoothinghyper parameter\n",
    "\n",
    "a = 5"
   ]
  },
  {
   "cell_type": "markdown",
   "metadata": {},
   "source": [
    "### Now we can observe how our  best alpha smoothing parameter value perform on Train AUROC and Test AUROC curves"
   ]
  },
  {
   "cell_type": "code",
   "execution_count": 53,
   "metadata": {},
   "outputs": [],
   "source": [
    "#funtion for predict probablity score\n",
    "def batch_predict(clf, data):\n",
    "    # roc_auc_score(y_true, y_score) the 2nd parameter should be probability estimates of the positive class\n",
    "    # not the predicted outputs\n",
    "\n",
    "    y_data_pred = []\n",
    "    tr_loop = data.shape[0] - data.shape[0]%1000\n",
    "    # consider you X_tr shape is 49041, then your cr_loop will be 49041 - 49041%1000 = 49000\n",
    "    # in this for loop we will iterate unti the last 1000 multiplier\n",
    "    for i in range(0, tr_loop, 1000):\n",
    "        y_data_pred.extend(clf.predict_proba(data[i:i+1000])[:,1])\n",
    "    # we will be predicting for the last data points\n",
    "\n",
    "    y_data_pred.extend(clf.predict_proba(data[tr_loop:])[:,1])\n",
    "    \n",
    "    return y_data_pred"
   ]
  },
  {
   "cell_type": "markdown",
   "metadata": {},
   "source": [
    "**plotting AUROC curve for train data and test data**"
   ]
  },
  {
   "cell_type": "code",
   "execution_count": 54,
   "metadata": {},
   "outputs": [
    {
     "data": {
      "image/png": "[encoded data removed]",
      "text/plain": [
       "<Figure size 432x288 with 1 Axes>"
      ]
     },
     "metadata": {
      "needs_background": "light"
     },
     "output_type": "display_data"
    }
   ],
   "source": [
    "nb_clf = MultinomialNB(alpha=a,  class_prior=[0.5,0.5])   # alpha value is our selected value\n",
    "nb_clf.fit(X_tra, y_train)\n",
    "# roc_auc_score(y_true, y_score) the 2nd parameter should be probability estimates of the positive class\n",
    "\n",
    "y_train_pred = batch_predict(nb_clf, X_tra)    \n",
    "y_test_pred = batch_predict(nb_clf, X_tes)\n",
    "\n",
    "#each  thresold (tow) caluculate the (train_fpr = false positive rate) and  (tpr = tru positive rate)\n",
    "train_fpr, train_tpr, tr_thresholds = roc_curve(y_train, y_train_pred) #threshoulds on probablity score of train data class label\n",
    "test_fpr, test_tpr, ts_thresholds = roc_curve(y_test, y_test_pred)#threshoulds on probablity score of test data class label\n",
    "\n",
    "plt.plot(train_fpr, train_tpr, label=\"train AUC =\"+str(auc(train_fpr, train_tpr)))  #plot train auc  based on each threshold train tpr and train fpr\n",
    "plt.plot(test_fpr, test_tpr, label=\"test AUC =\"+str(auc(test_fpr, test_tpr)))  #plot train auc  based on each threshold train tpr and train fpr\n",
    "plt.xlabel(\"log alpha: hyperparameter\")\n",
    "plt.ylabel(\"AUC\")\n",
    "plt.title(\"AUROC plot\")\n",
    "plt.grid()\n",
    "plt.legend()\n",
    "plt.show()"
   ]
  },
  {
   "cell_type": "markdown",
   "metadata": {},
   "source": [
    "### observation:\n",
    "1. train auc and test auc both are above to the ideal roc curve.\n",
    "2. AUC(performence metric) on train data = 0.77 and AUC on test data = 0.55\n",
    "3. then we can assume our model is good performence model. "
   ]
  },
  {
   "cell_type": "markdown",
   "metadata": {},
   "source": [
    "### <font color='purple'>Confusion matrix</font>"
   ]
  },
  {
   "cell_type": "markdown",
   "metadata": {},
   "source": [
    "confusion matrix using for find  how many true_positive, true_negetive, false_positive and false negetive on train and test data\n",
    "**confusion matrixs based on threshold values which has high tpr and low fpr values.**"
   ]
  },
  {
   "cell_type": "code",
   "execution_count": 55,
   "metadata": {},
   "outputs": [],
   "source": [
    "#  function to   predict thresould value which has high tpr and low fpr values: notebooks/Assignment_SAMPLE_SOLUTION.ipynb\n",
    "# select the threshold that can choose the  least false positive rating\n",
    "def predict(proba, threshould, fpr, tpr):\n",
    "    \n",
    "    t = threshould[np.argmax(tpr*(1-fpr))]\n",
    "    \n",
    "    # (tpr*(1-fpr)) will be maximum if fpr is very low and tpr is very high\n",
    "    \n",
    "    print(\"the maximum value of tpr*(1-fpr)\", max(tpr*(1-fpr)), \"for threshold\", np.round(t,3))\n",
    "    predictions = []\n",
    "    for i in proba:\n",
    "        if i>=t:\n",
    "            predictions.append(1)\n",
    "        else:\n",
    "            predictions.append(0)\n",
    "    return predictions"
   ]
  },
  {
   "cell_type": "code",
   "execution_count": 56,
   "metadata": {},
   "outputs": [
    {
     "name": "stdout",
     "output_type": "stream",
     "text": [
      "Train data confusion matrix\n",
      "the maximum value of tpr*(1-fpr) 0.5528808170286286 for threshold 1.0\n",
      "[[ 4332  3094]\n",
      " [ 2174 39441]]\n",
      "Test data confusion matrix\n",
      "the maximum value of tpr*(1-fpr) 0.15873999482429466 for threshold 1.0\n",
      "[[  920  4539]\n",
      " [ 1777 28816]]\n"
     ]
    }
   ],
   "source": [
    "from sklearn.metrics import confusion_matrix\n",
    "print(\"Train data confusion matrix\")\n",
    "print(confusion_matrix(y_train, predict(y_train_pred, tr_thresholds,train_fpr, train_tpr)))     #predicting tpr,fpr,tnr,fnr on y_train of x train data\n",
    "print(\"Test data confusion matrix\")\n",
    "print(confusion_matrix(y_test,predict(y_test_pred, ts_thresholds, test_fpr, test_tpr)))   #predicting tpr,fpr,tnr,fnr on y_test of x test data"
   ]
  },
  {
   "cell_type": "markdown",
   "metadata": {},
   "source": [
    "**observation:**\n",
    "* in train confusion matrix we have  39441 true positive values, 2174 fpr values,4332 tnr values,3094 fnr values \n",
    "* in test confusion matrix we have 28816 true positive values,1777 fpr values,  920 tnr values,4539 fnr values "
   ]
  },
  {
   "cell_type": "markdown",
   "metadata": {},
   "source": [
    "# 6.Creating (SET2):\n",
    "# <font color='green'> data matix with all categorical, all numerical,essay(TFIDF) and title(TFIDF)</font>"
   ]
  },
  {
   "cell_type": "code",
   "execution_count": 57,
   "metadata": {},
   "outputs": [
    {
     "name": "stdout",
     "output_type": "stream",
     "text": [
      "************************************************************\n",
      "Final set2 Data matrix:\n",
      "(49041, 259266) (49041,)\n",
      "(24155, 259266) (24155,)\n",
      "(36052, 259266) (36052,)\n"
     ]
    }
   ],
   "source": [
    "# merge two sparse matrices: https://stackoverflow.com/a/19710648/4084039\n",
    "#concatinating features\n",
    "from scipy.sparse import hstack\n",
    "X_tr1 = hstack((X_train_essay_tfidf,X_train_title_tfidf, X_train_state_onehot, X_train_teacher_prefix_onehot, X_train_proj_grade_onehot, X_train_proj_categories_onehot, X_train_proj_subcategories_onehot,X_train_prvs_posted_prjcts_norm, X_train_price_norm,X_train_quantity_norm )).tocsr()\n",
    "X_cr1 = hstack((X_cv_essay_tfidf,X_cv_title_tfidf,   X_cv_state_onehot, X_cv_teacher_prefix_onehot,  X_cv_proj_grade_onehot, X_cv_proj_categories_onehot ,  X_cv_proj_subcategories_onehot,  X_cv_prvs_posted_prjcts_norm , X_cv_price_norm, X_cv_quantity_norm )).tocsr()\n",
    "X_te1 = hstack((X_test_essay_tfidf,X_test_title_tfidf, X_test_state_onehot, X_test_teacher_prefix_onehot,X_test_proj_grade_onehot, X_test_proj_categories_onehot,X_test_proj_subcategories_onehot, X_test_prvs_posted_prjcts_norm, X_test_price_norm,X_test_quantity_norm  )).tocsr()\n",
    "\n",
    "print(\"*\"*60)\n",
    "print(\"Final set2 Data matrix:\")\n",
    "print(X_tr1.shape, y_train.shape)\n",
    "print(X_cr1.shape, y_cv.shape)\n",
    "print(X_te1.shape, y_test.shape)"
   ]
  },
  {
   "cell_type": "markdown",
   "metadata": {},
   "source": [
    "## <font color='red'>Applying Naive Bayes to SET2</font>\n",
    "#### applying Multinomial Naive Bayes on set2(all categorical+ all numerical+essay(TFIDF) +and title(TFIDF))\n",
    "## <font color='green'>finding the best hyper paremeter(alpha) using  Simple for loop</font>"
   ]
  },
  {
   "cell_type": "code",
   "execution_count": 58,
   "metadata": {},
   "outputs": [
    {
     "data": {
      "image/png": "[encoded data removed]",
      "text/plain": [
       "<Figure size 432x288 with 1 Axes>"
      ]
     },
     "metadata": {
      "needs_background": "light"
     },
     "output_type": "display_data"
    }
   ],
   "source": [
    "#importing multinomial naive bayes from sklearn package.\n",
    "from sklearn.naive_bayes import MultinomialNB\n",
    "from math import log\n",
    "\n",
    "train_auc = []   #creating empty list for store train auc alpha values \n",
    "cv_auc = []\n",
    "\n",
    "alpha_prametervalues = [10**-3, 10**-2, 10**-1, 1, 10**1, 10**2, 10**3]\n",
    "#log_alpha_values = [log(k) for k in alpha_parameters]\n",
    "\n",
    "for i in (alpha_prametervalues):                                    #for each odd number in range smoothing_parameters\n",
    "    naive_b = MultinomialNB(alpha=i,  class_prior=[0.5,0.5])  # model using multinomialnaive bayes\n",
    "    naive_b.fit(X_tr1, y_train)         #model fit on set1 train data\n",
    "    # roc_auc_score(y_true, y_score) the 2nd parameter should be probability estimates of the positive class\n",
    "    # not the predicted outputs\n",
    "    y_train_pred =  naive_b.predict_proba(X_tr1)[:,1]   #predicting probablity score on train data\n",
    "    y_cv_pred =  naive_b.predict_proba(X_cr1)[:,1]\n",
    "    \n",
    "    train_auc.append(roc_auc_score(y_train,y_train_pred))\n",
    "    cv_auc.append(roc_auc_score(y_cv, y_cv_pred))\n",
    "\n",
    "#plotting the train and cv data AUC\n",
    "plt.scatter(alpha_prametervalues, train_auc, label='Train AUC points')   #points alpha values  representation\n",
    "plt.scatter(alpha_prametervalues, cv_auc, label='CV AUC points')\n",
    "plt.plot(alpha_prametervalues, train_auc, label='Train AUC')  #plotting the train data area under the curve  with alpha values\n",
    "plt.plot(alpha_prametervalues, cv_auc, label='CV AUC')        #plotting the cv data area under the curve   with alpha  values\n",
    "plt.grid()\n",
    "plt.xlabel(\"log(alpha): (hyper parametres)\")   #printing log(alpha values on x-axis)\n",
    "plt.xscale('log')                   #changing x- axis values into log values\n",
    "plt.ylabel(\"Area under the curve\")\n",
    "plt.title(\"error plots\")\n",
    "plt.legend()\n",
    "plt.show()"
   ]
  },
  {
   "cell_type": "markdown",
   "metadata": {},
   "source": [
    "### observation:\n",
    "* alpha values are laplace/additive smoothing parameters. \n",
    "* when smoothing parameter  at 0.001, 0.01, 0.1,  then there is no use of laplace smoothing.\n",
    "* at alpha value is 0 then our model  is overfit\n",
    "* at alpha value is high then our model is under fit\n",
    "* according to the above  plot we can choose 10 is  best alpha hyper parameter "
   ]
  },
  {
   "cell_type": "code",
   "execution_count": 59,
   "metadata": {},
   "outputs": [],
   "source": [
    "#according to the above for loop result we can choose 10 is our best  alpha smoothinghyper parameter\n",
    "\n",
    "b = 10"
   ]
  },
  {
   "cell_type": "markdown",
   "metadata": {},
   "source": [
    "### Now we can observe how our  best alpha smoothing parameter value perform on Train AUROC and Test AUROC curves"
   ]
  },
  {
   "cell_type": "code",
   "execution_count": 60,
   "metadata": {},
   "outputs": [
    {
     "data": {
      "image/png": "[encoded data removed]",
      "text/plain": [
       "<Figure size 432x288 with 1 Axes>"
      ]
     },
     "metadata": {
      "needs_background": "light"
     },
     "output_type": "display_data"
    }
   ],
   "source": [
    "naive_b = MultinomialNB(alpha=b, class_prior=[0.5,0.5])   # alpha value is our selected value\n",
    "naive_b.fit(X_tr1, y_train)\n",
    "#roc_auc_score(y_true, y_score) the 2nd parameter should be probability estimates of the positive class\n",
    "\n",
    "y_train_pred = batch_predict(naive_b, X_tr1)    \n",
    "y_test_pred = batch_predict(naive_b, X_te1)\n",
    "\n",
    "#each  thresold (tow) caluculate the (train_fpr = false positive rate) and  (tpr = tru positive rate)\n",
    "train_fpr, train_tpr, tr_thresholds = roc_curve(y_train, y_train_pred) #threshoulds on probablity score of train data class label\n",
    "test_fpr, test_tpr, ts_thresholds = roc_curve(y_test, y_test_pred)#threshoulds on probablity score of test data class label\n",
    "\n",
    "plt.plot(train_fpr, train_tpr, label=\"train AUC =\"+str(auc(train_fpr, train_tpr)))  #plot train auc  based on each threshold train tpr and train fpr\n",
    "plt.plot(test_fpr, test_tpr, label=\"test AUC =\"+str(auc(test_fpr, test_tpr)))  #plot train auc  based on each threshold train tpr and train fpr\n",
    "plt.xlabel(\"log alpha laplacesmoothing: hyperparameter\")\n",
    "plt.ylabel(\"AUC\")\n",
    "plt.title(\"AUROC plot\")\n",
    "plt.grid()\n",
    "plt.legend()\n",
    "plt.show()"
   ]
  },
  {
   "cell_type": "markdown",
   "metadata": {},
   "source": [
    "### observation:\n",
    "1. train auc and test auc both are above to the ideal roc curve.\n",
    "2. AUC(performence metric) on train data = 0.60 and AUC on test data = 0.56\n"
   ]
  },
  {
   "cell_type": "markdown",
   "metadata": {},
   "source": [
    "### <font color='purple'>Confusion matrix</font>"
   ]
  },
  {
   "cell_type": "markdown",
   "metadata": {},
   "source": [
    "confusion matrix using for find  how many true_positive, true_negetive, false_positive and false negetive on train and test data"
   ]
  },
  {
   "cell_type": "code",
   "execution_count": 61,
   "metadata": {},
   "outputs": [
    {
     "name": "stdout",
     "output_type": "stream",
     "text": [
      "Train data confusion matrix\n",
      "the maximum value of tpr*(1-fpr) 0.32434077669183475 for threshold 1.0\n",
      "[[ 4288  3138]\n",
      " [18240 23375]]\n",
      "Test data confusion matrix\n",
      "the maximum value of tpr*(1-fpr) 0.30011585070288027 for threshold 1.0\n",
      "[[ 2928  2531]\n",
      " [13475 17118]]\n"
     ]
    }
   ],
   "source": [
    "from sklearn.metrics import confusion_matrix\n",
    "print(\"Train data confusion matrix\")\n",
    "print(confusion_matrix(y_train, predict(y_train_pred, tr_thresholds,train_fpr, train_tpr)))     #predicting tpr,fpr,tnr,fnr on y_train of x train data\n",
    "print(\"Test data confusion matrix\")\n",
    "print(confusion_matrix(y_test,predict(y_test_pred, ts_thresholds, test_fpr, test_tpr)))   #predicting tpr,fpr,tnr,fnr on y_test of x test data"
   ]
  },
  {
   "cell_type": "markdown",
   "metadata": {},
   "source": [
    "**observation:**\n",
    "* in train confusion matrix we have23375 true positive values,18240 fpr values,4288 tnr values,3138 fnr values \n",
    "* in test confusion matrix we have 17118 true positive values,13475 fpr values,2928 tnr values,2531 fnr values "
   ]
  },
  {
   "cell_type": "markdown",
   "metadata": {},
   "source": [
    "# <font color='purple'>7.select the top 20 fetures on set2 using absolute values of coef_(feauture_log_prob)</font>"
   ]
  },
  {
   "cell_type": "markdown",
   "metadata": {},
   "source": [
    "* vectorizer3 = tfidf of essay_preprocessed_text, vectorer4 = tfidf of title_preprocessedtext, \n",
    "* vectorizer6,vectorizer7, vectorizer9 and vectorizer10  are Onehotencoded categorical features\n",
    "* normalizer10,normalizer11 and normalizer12 are normalized numerical features\n"
   ]
  },
  {
   "cell_type": "code",
   "execution_count": 62,
   "metadata": {},
   "outputs": [],
   "source": [
    "max_ind_positive=np.argsort((naive_b.feature_log_prob_)[1])[ : : -1][0:10]  #naive_b applied on bow vectorized data\n",
    "max_ind_negetive=np.argsort((naive_b.feature_log_prob_)[0])[ : : -1][0:10]  #top 10 on negetive class"
   ]
  },
  {
   "cell_type": "code",
   "execution_count": 63,
   "metadata": {},
   "outputs": [],
   "source": [
    "#vectorizer3,vectorizer4,-->tfidf vectorized features\n",
    "#vectorizer6,vectorizer7,vectorizer8,vectorizer9,vectorizer10,--->categorical features\n",
    "lst=[ ]  #creating empty list\n",
    "lst.extend(vectorizer3.get_feature_names()) #for every bow and category we will be storing feature names in l.\n",
    "lst.extend(vectorizer4.get_feature_names())\n",
    "lst.extend(vectorizer6.get_feature_names())\n",
    "lst.extend(vectorizer7.get_feature_names())\n",
    "lst.extend(vectorizer8.get_feature_names())\n",
    "lst.extend(vectorizer9.get_feature_names())\n",
    "lst.extend(vectorizer10.get_feature_names())\n",
    "#appending a numerical features\n",
    "lst.append('Price')\n",
    "lst.append('teacher_number_of_previously_posted_projects')\n",
    "lst.append('quantity')"
   ]
  },
  {
   "cell_type": "code",
   "execution_count": 64,
   "metadata": {},
   "outputs": [
    {
     "name": "stdout",
     "output_type": "stream",
     "text": [
      "['quantity' 'teacher_number_of_previously_posted_projects' 'Price'\n",
      " 'health_sports' 'communityservice' 'appliedsciences' 'earlydevelopment'\n",
      " 'history_civics' 'music_arts' 'teamsports']\n",
      "['quantity' 'teacher_number_of_previously_posted_projects' 'Price'\n",
      " 'health_sports' 'communityservice' 'appliedsciences' 'earlydevelopment'\n",
      " 'history_civics' 'music_arts' 'warmth']\n"
     ]
    }
   ],
   "source": [
    "print(np.take(lst,max_ind_positive))    #printing top 10 features from positive class\n",
    "print(np.take(lst,max_ind_negetive))    #printing top 10 features from negative class"
   ]
  },
  {
   "cell_type": "markdown",
   "metadata": {},
   "source": [
    "# Summary(Conclusion):\n",
    "* we have performed multi nomial naive bayes   on all vectorized categorical(one-hot-encode), all numerical features and each text(bow,tfidf).\n",
    "* we have find best 'alpha' hyper parameter by using simple for loop method and multinomial naive bayes classifier for 2 sets data.\n",
    "* we can  observe all AUROC values on plots for each set(se1,set2) then we can choose best alpha value  on set1 which consists train auc is 0.77 test auc 0.55 then we can select best hyper smoothing laplace parameter value is 5.\n",
    "* cofusion matrix  gives us clear details about how many true positive points and false positive points,true negetive points and false negetive points for each set data.\n",
    "* we have selected top 10 least and top features in set1 data using absolute values of coefficient.\n",
    "* multi nomial naive bayes applicable for count vectorized features.\n"
   ]
  },
  {
   "cell_type": "markdown",
   "metadata": {},
   "source": [
    "# Summary in Tabular form\n",
    "### all results summarized in the tabular form"
   ]
  },
  {
   "cell_type": "code",
   "execution_count": 68,
   "metadata": {},
   "outputs": [
    {
     "name": "stdout",
     "output_type": "stream",
     "text": [
      "+-------------------------------------------+----------------+----------------------------------+------+\n",
      "|       data with vectorized features       |     Model      | Hyper_parameter_best_alpha value | AUC  |\n",
      "+-------------------------------------------+----------------+----------------------------------+------+\n",
      "|  set1(all nmrcl,catgrc+essay & tite(BOW)) | multinomial_NB |                5                 | 0.77 |\n",
      "| set2(all nmrcl,catgrc+essay & tite(TFIDF) | multinomial_NB |                10                | 0.6  |\n",
      "+-------------------------------------------+----------------+----------------------------------+------+\n"
     ]
    }
   ],
   "source": [
    "#http://zetcode.com/python/prettytable/\n",
    "from prettytable import PrettyTable\n",
    "a = PrettyTable()\n",
    "a.field_names = [\"data with vectorized features\",\"Model\",\"Hyper_parameter_best_alpha value\", \"AUC\"]\n",
    "\n",
    "a.add_row([\"set1(all nmrcl,catgrc+essay & tite(BOW))\", 'multinomial_NB',5,0.77 ])\n",
    "a.add_row([\"set2(all nmrcl,catgrc+essay & tite(TFIDF)\", 'multinomial_NB',10,0.60])\n",
    "print(a)"
   ]
  },
  {
   "cell_type": "code",
   "execution_count": null,
   "metadata": {},
   "outputs": [],
   "source": []
  }
 ],
 "metadata": {
  "kernelspec": {
   "display_name": "Python 3",
   "language": "python",
   "name": "python3"
  },
  "language_info": {
   "codemirror_mode": {
    "name": "ipython",
    "version": 3
   },
   "file_extension": ".py",
   "mimetype": "text/x-python",
   "name": "python",
   "nbconvert_exporter": "python",
   "pygments_lexer": "ipython3",
   "version": "3.6.8"
  }
 },
 "nbformat": 4,
 "nbformat_minor": 2
}
